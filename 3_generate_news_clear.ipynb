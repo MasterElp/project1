{
 "cells": [
  {
   "cell_type": "code",
   "execution_count": null,
   "id": "6e0b21fa",
   "metadata": {},
   "outputs": [],
   "source": [
    "import pandas as pd\n",
    "import numpy as np\n",
    "folder = 'd:/git/project1/generated'"
   ]
  },
  {
   "cell_type": "code",
   "execution_count": null,
   "id": "40c83a69",
   "metadata": {},
   "outputs": [],
   "source": [
    "df = pd.read_csv(f'{folder}/news_clear.csv')"
   ]
  },
  {
   "cell_type": "code",
   "execution_count": null,
   "id": "e23b8043",
   "metadata": {},
   "outputs": [],
   "source": [
    "import re\n",
    "def is_latin(cell):\n",
    "    return bool(not re.search(r'[^0-9a-zA-Z~`!@#$%^&*()_+{}\\[\\];:\\'\",<.>/?\\\\| -_=+]', cell))\n",
    "\n",
    "df['latin'] = df['title'].apply(is_latin)\n",
    "df_clear = df[~(df['latin'] == False)]\n",
    "df_clear"
   ]
  },
  {
   "cell_type": "code",
   "execution_count": null,
   "id": "7698104c",
   "metadata": {},
   "outputs": [],
   "source": [
    "datetime_news"
   ]
  },
  {
   "cell_type": "code",
   "execution_count": null,
   "id": "477e69f7",
   "metadata": {},
   "outputs": [],
   "source": [
    "df_clear.to_csv('/content/news_clear.csv')"
   ]
  }
 ],
 "metadata": {
  "kernelspec": {
   "display_name": "ml",
   "language": "python",
   "name": "ml"
  },
  "language_info": {
   "codemirror_mode": {
    "name": "ipython",
    "version": 3
   },
   "file_extension": ".py",
   "mimetype": "text/x-python",
   "name": "python",
   "nbconvert_exporter": "python",
   "pygments_lexer": "ipython3",
   "version": "3.8.9"
  }
 },
 "nbformat": 4,
 "nbformat_minor": 5
}
