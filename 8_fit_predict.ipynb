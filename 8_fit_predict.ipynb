{
 "cells": [
  {
   "cell_type": "code",
   "execution_count": 1,
   "id": "70c53c39",
   "metadata": {},
   "outputs": [],
   "source": [
    "import pandas as pd\n",
    "import numpy as np\n",
    "folder = 'd:/git/project1/data'"
   ]
  },
  {
   "cell_type": "code",
   "execution_count": 2,
   "id": "b783b4db",
   "metadata": {
    "scrolled": true
   },
   "outputs": [],
   "source": [
    "#data = pd.read_csv(f'{folder}/last_hs_tweets_ch1_0.csv')\n",
    "#data"
   ]
  },
  {
   "cell_type": "code",
   "execution_count": 2,
   "id": "50fdec58",
   "metadata": {},
   "outputs": [
    {
     "data": {
      "text/html": [
       "<div>\n",
       "<style scoped>\n",
       "    .dataframe tbody tr th:only-of-type {\n",
       "        vertical-align: middle;\n",
       "    }\n",
       "\n",
       "    .dataframe tbody tr th {\n",
       "        vertical-align: top;\n",
       "    }\n",
       "\n",
       "    .dataframe thead th {\n",
       "        text-align: right;\n",
       "    }\n",
       "</style>\n",
       "<table border=\"1\" class=\"dataframe\">\n",
       "  <thead>\n",
       "    <tr style=\"text-align: right;\">\n",
       "      <th></th>\n",
       "      <th>change_1_direct</th>\n",
       "    </tr>\n",
       "  </thead>\n",
       "  <tbody>\n",
       "    <tr>\n",
       "      <th>0</th>\n",
       "      <td>1.0</td>\n",
       "    </tr>\n",
       "    <tr>\n",
       "      <th>1</th>\n",
       "      <td>1.0</td>\n",
       "    </tr>\n",
       "    <tr>\n",
       "      <th>2</th>\n",
       "      <td>1.0</td>\n",
       "    </tr>\n",
       "    <tr>\n",
       "      <th>3</th>\n",
       "      <td>1.0</td>\n",
       "    </tr>\n",
       "    <tr>\n",
       "      <th>4</th>\n",
       "      <td>1.0</td>\n",
       "    </tr>\n",
       "    <tr>\n",
       "      <th>...</th>\n",
       "      <td>...</td>\n",
       "    </tr>\n",
       "    <tr>\n",
       "      <th>807251</th>\n",
       "      <td>0.0</td>\n",
       "    </tr>\n",
       "    <tr>\n",
       "      <th>807252</th>\n",
       "      <td>0.0</td>\n",
       "    </tr>\n",
       "    <tr>\n",
       "      <th>807253</th>\n",
       "      <td>1.0</td>\n",
       "    </tr>\n",
       "    <tr>\n",
       "      <th>807254</th>\n",
       "      <td>0.0</td>\n",
       "    </tr>\n",
       "    <tr>\n",
       "      <th>807255</th>\n",
       "      <td>0.0</td>\n",
       "    </tr>\n",
       "  </tbody>\n",
       "</table>\n",
       "<p>807256 rows × 1 columns</p>\n",
       "</div>"
      ],
      "text/plain": [
       "        change_1_direct\n",
       "0                   1.0\n",
       "1                   1.0\n",
       "2                   1.0\n",
       "3                   1.0\n",
       "4                   1.0\n",
       "...                 ...\n",
       "807251              0.0\n",
       "807252              0.0\n",
       "807253              1.0\n",
       "807254              0.0\n",
       "807255              0.0\n",
       "\n",
       "[807256 rows x 1 columns]"
      ]
     },
     "execution_count": 2,
     "metadata": {},
     "output_type": "execute_result"
    }
   ],
   "source": [
    "#cols = ['date', 'change_1_direct', 'change_3_direct', 'change_7_direct', 'change_30_direct', 'change_90_direct']\n",
    "cols = ['change_1_direct']\n",
    "changes = pd.read_csv(f'{folder}/tweets_change_padded.csv', usecols=cols)\n",
    "changes"
   ]
  },
  {
   "cell_type": "code",
   "execution_count": 3,
   "id": "62bf1ec7",
   "metadata": {},
   "outputs": [],
   "source": [
    "def load_parts(name, start, end):\n",
    "    count = 1000\n",
    "    data = pd.DataFrame(None)\n",
    "    \n",
    "    for num in range(start, end):\n",
    "        start_index = num*count\n",
    "        end_index = start_index + count - 1\n",
    "        data_part = pd.read_csv(f'{folder}/{name}_{start_index}.csv', usecols=range(770))\n",
    "        df = pd.DataFrame(np.array(changes.loc[start_index:end_index, cols]), columns=cols)\n",
    "        union = pd.concat([data_part, df], axis=1)\n",
    "        \n",
    "        data = data.append(union, sort=False, ignore_index=True)\n",
    "    #res_table.to_csv(f'{folder}\\cls_direct30_{num}.csv', index=False)\n",
    "    return data"
   ]
  },
  {
   "cell_type": "code",
   "execution_count": 4,
   "id": "327e2cdc",
   "metadata": {},
   "outputs": [
    {
     "name": "stdout",
     "output_type": "stream",
     "text": [
      "Wall time: 3min 54s\n"
     ]
    },
    {
     "data": {
      "text/html": [
       "<div>\n",
       "<style scoped>\n",
       "    .dataframe tbody tr th:only-of-type {\n",
       "        vertical-align: middle;\n",
       "    }\n",
       "\n",
       "    .dataframe tbody tr th {\n",
       "        vertical-align: top;\n",
       "    }\n",
       "\n",
       "    .dataframe thead th {\n",
       "        text-align: right;\n",
       "    }\n",
       "</style>\n",
       "<table border=\"1\" class=\"dataframe\">\n",
       "  <thead>\n",
       "    <tr style=\"text-align: right;\">\n",
       "      <th></th>\n",
       "      <th>0</th>\n",
       "      <th>1</th>\n",
       "      <th>2</th>\n",
       "      <th>3</th>\n",
       "      <th>4</th>\n",
       "      <th>5</th>\n",
       "      <th>6</th>\n",
       "      <th>7</th>\n",
       "      <th>8</th>\n",
       "      <th>9</th>\n",
       "      <th>...</th>\n",
       "      <th>761</th>\n",
       "      <th>762</th>\n",
       "      <th>763</th>\n",
       "      <th>764</th>\n",
       "      <th>765</th>\n",
       "      <th>766</th>\n",
       "      <th>767</th>\n",
       "      <th>retweet</th>\n",
       "      <th>time</th>\n",
       "      <th>change_1_direct</th>\n",
       "    </tr>\n",
       "  </thead>\n",
       "  <tbody>\n",
       "    <tr>\n",
       "      <th>0</th>\n",
       "      <td>-0.417784</td>\n",
       "      <td>-0.159195</td>\n",
       "      <td>0.049453</td>\n",
       "      <td>-0.019281</td>\n",
       "      <td>-0.143110</td>\n",
       "      <td>-0.371498</td>\n",
       "      <td>0.205367</td>\n",
       "      <td>0.469781</td>\n",
       "      <td>-0.180655</td>\n",
       "      <td>0.086964</td>\n",
       "      <td>...</td>\n",
       "      <td>-0.729234</td>\n",
       "      <td>0.435944</td>\n",
       "      <td>0.665804</td>\n",
       "      <td>-0.087694</td>\n",
       "      <td>-0.412030</td>\n",
       "      <td>-0.138853</td>\n",
       "      <td>0.688434</td>\n",
       "      <td>7.0</td>\n",
       "      <td>45736</td>\n",
       "      <td>1.0</td>\n",
       "    </tr>\n",
       "    <tr>\n",
       "      <th>1</th>\n",
       "      <td>-0.154517</td>\n",
       "      <td>-0.305308</td>\n",
       "      <td>0.424442</td>\n",
       "      <td>-0.002735</td>\n",
       "      <td>-0.164633</td>\n",
       "      <td>-0.258918</td>\n",
       "      <td>0.182587</td>\n",
       "      <td>0.578418</td>\n",
       "      <td>-0.027604</td>\n",
       "      <td>-0.099199</td>\n",
       "      <td>...</td>\n",
       "      <td>-0.320284</td>\n",
       "      <td>0.295116</td>\n",
       "      <td>0.262499</td>\n",
       "      <td>-0.145339</td>\n",
       "      <td>-0.557404</td>\n",
       "      <td>0.249221</td>\n",
       "      <td>0.425408</td>\n",
       "      <td>68.0</td>\n",
       "      <td>29586</td>\n",
       "      <td>1.0</td>\n",
       "    </tr>\n",
       "    <tr>\n",
       "      <th>2</th>\n",
       "      <td>0.000540</td>\n",
       "      <td>-0.246681</td>\n",
       "      <td>0.059547</td>\n",
       "      <td>-0.272320</td>\n",
       "      <td>-0.436857</td>\n",
       "      <td>-0.234840</td>\n",
       "      <td>0.253098</td>\n",
       "      <td>0.908152</td>\n",
       "      <td>0.024199</td>\n",
       "      <td>-0.300646</td>\n",
       "      <td>...</td>\n",
       "      <td>-0.264831</td>\n",
       "      <td>0.263115</td>\n",
       "      <td>-0.038263</td>\n",
       "      <td>-0.094645</td>\n",
       "      <td>-0.439378</td>\n",
       "      <td>0.201307</td>\n",
       "      <td>0.520169</td>\n",
       "      <td>4.0</td>\n",
       "      <td>75329</td>\n",
       "      <td>1.0</td>\n",
       "    </tr>\n",
       "    <tr>\n",
       "      <th>3</th>\n",
       "      <td>0.097781</td>\n",
       "      <td>-0.031261</td>\n",
       "      <td>0.059328</td>\n",
       "      <td>0.297294</td>\n",
       "      <td>-0.162170</td>\n",
       "      <td>-0.514269</td>\n",
       "      <td>0.549677</td>\n",
       "      <td>0.571328</td>\n",
       "      <td>-0.091938</td>\n",
       "      <td>-0.208955</td>\n",
       "      <td>...</td>\n",
       "      <td>-0.419469</td>\n",
       "      <td>0.434312</td>\n",
       "      <td>0.067487</td>\n",
       "      <td>-0.082194</td>\n",
       "      <td>-0.356370</td>\n",
       "      <td>-0.015842</td>\n",
       "      <td>0.434768</td>\n",
       "      <td>85.0</td>\n",
       "      <td>63389</td>\n",
       "      <td>1.0</td>\n",
       "    </tr>\n",
       "    <tr>\n",
       "      <th>4</th>\n",
       "      <td>-0.405389</td>\n",
       "      <td>-0.342308</td>\n",
       "      <td>0.293121</td>\n",
       "      <td>0.140589</td>\n",
       "      <td>-0.473491</td>\n",
       "      <td>-0.248678</td>\n",
       "      <td>0.463207</td>\n",
       "      <td>0.182642</td>\n",
       "      <td>-0.361493</td>\n",
       "      <td>-0.363156</td>\n",
       "      <td>...</td>\n",
       "      <td>-0.019985</td>\n",
       "      <td>0.224207</td>\n",
       "      <td>0.206847</td>\n",
       "      <td>-0.075846</td>\n",
       "      <td>-0.508190</td>\n",
       "      <td>0.142789</td>\n",
       "      <td>0.311084</td>\n",
       "      <td>8.0</td>\n",
       "      <td>5857</td>\n",
       "      <td>1.0</td>\n",
       "    </tr>\n",
       "    <tr>\n",
       "      <th>...</th>\n",
       "      <td>...</td>\n",
       "      <td>...</td>\n",
       "      <td>...</td>\n",
       "      <td>...</td>\n",
       "      <td>...</td>\n",
       "      <td>...</td>\n",
       "      <td>...</td>\n",
       "      <td>...</td>\n",
       "      <td>...</td>\n",
       "      <td>...</td>\n",
       "      <td>...</td>\n",
       "      <td>...</td>\n",
       "      <td>...</td>\n",
       "      <td>...</td>\n",
       "      <td>...</td>\n",
       "      <td>...</td>\n",
       "      <td>...</td>\n",
       "      <td>...</td>\n",
       "      <td>...</td>\n",
       "      <td>...</td>\n",
       "      <td>...</td>\n",
       "    </tr>\n",
       "    <tr>\n",
       "      <th>99995</th>\n",
       "      <td>-0.190831</td>\n",
       "      <td>0.111325</td>\n",
       "      <td>-0.007943</td>\n",
       "      <td>0.209162</td>\n",
       "      <td>-0.204160</td>\n",
       "      <td>-0.366423</td>\n",
       "      <td>0.579954</td>\n",
       "      <td>0.380756</td>\n",
       "      <td>-0.227440</td>\n",
       "      <td>-0.128254</td>\n",
       "      <td>...</td>\n",
       "      <td>-0.072001</td>\n",
       "      <td>0.233051</td>\n",
       "      <td>0.408162</td>\n",
       "      <td>-0.304246</td>\n",
       "      <td>-0.348964</td>\n",
       "      <td>0.134679</td>\n",
       "      <td>0.743559</td>\n",
       "      <td>2.0</td>\n",
       "      <td>79202</td>\n",
       "      <td>0.0</td>\n",
       "    </tr>\n",
       "    <tr>\n",
       "      <th>99996</th>\n",
       "      <td>0.176868</td>\n",
       "      <td>-0.362221</td>\n",
       "      <td>0.074079</td>\n",
       "      <td>0.066585</td>\n",
       "      <td>-0.009989</td>\n",
       "      <td>-0.425526</td>\n",
       "      <td>0.353912</td>\n",
       "      <td>0.466246</td>\n",
       "      <td>-0.058196</td>\n",
       "      <td>-0.264946</td>\n",
       "      <td>...</td>\n",
       "      <td>-0.420290</td>\n",
       "      <td>0.151437</td>\n",
       "      <td>0.422059</td>\n",
       "      <td>-0.445005</td>\n",
       "      <td>-0.381655</td>\n",
       "      <td>0.032492</td>\n",
       "      <td>0.645175</td>\n",
       "      <td>2.0</td>\n",
       "      <td>78964</td>\n",
       "      <td>1.0</td>\n",
       "    </tr>\n",
       "    <tr>\n",
       "      <th>99997</th>\n",
       "      <td>-0.086020</td>\n",
       "      <td>-0.137973</td>\n",
       "      <td>-0.054955</td>\n",
       "      <td>0.038759</td>\n",
       "      <td>-0.090016</td>\n",
       "      <td>-0.238761</td>\n",
       "      <td>0.160697</td>\n",
       "      <td>0.416090</td>\n",
       "      <td>-0.034831</td>\n",
       "      <td>-0.027933</td>\n",
       "      <td>...</td>\n",
       "      <td>-0.216983</td>\n",
       "      <td>0.200104</td>\n",
       "      <td>0.159398</td>\n",
       "      <td>-0.170248</td>\n",
       "      <td>-0.418308</td>\n",
       "      <td>0.369494</td>\n",
       "      <td>0.665510</td>\n",
       "      <td>2.0</td>\n",
       "      <td>78625</td>\n",
       "      <td>1.0</td>\n",
       "    </tr>\n",
       "    <tr>\n",
       "      <th>99998</th>\n",
       "      <td>0.168974</td>\n",
       "      <td>-0.353340</td>\n",
       "      <td>0.055526</td>\n",
       "      <td>0.063732</td>\n",
       "      <td>-0.014129</td>\n",
       "      <td>-0.439472</td>\n",
       "      <td>0.354419</td>\n",
       "      <td>0.485233</td>\n",
       "      <td>-0.063634</td>\n",
       "      <td>-0.269874</td>\n",
       "      <td>...</td>\n",
       "      <td>-0.418296</td>\n",
       "      <td>0.141576</td>\n",
       "      <td>0.423993</td>\n",
       "      <td>-0.450304</td>\n",
       "      <td>-0.378812</td>\n",
       "      <td>0.031307</td>\n",
       "      <td>0.658095</td>\n",
       "      <td>2.0</td>\n",
       "      <td>78343</td>\n",
       "      <td>1.0</td>\n",
       "    </tr>\n",
       "    <tr>\n",
       "      <th>99999</th>\n",
       "      <td>-0.102992</td>\n",
       "      <td>-0.180803</td>\n",
       "      <td>0.003302</td>\n",
       "      <td>0.071570</td>\n",
       "      <td>-0.107520</td>\n",
       "      <td>-0.214042</td>\n",
       "      <td>0.107835</td>\n",
       "      <td>0.382630</td>\n",
       "      <td>-0.072017</td>\n",
       "      <td>-0.019725</td>\n",
       "      <td>...</td>\n",
       "      <td>-0.210459</td>\n",
       "      <td>0.134150</td>\n",
       "      <td>0.186101</td>\n",
       "      <td>-0.163524</td>\n",
       "      <td>-0.406920</td>\n",
       "      <td>0.389161</td>\n",
       "      <td>0.646289</td>\n",
       "      <td>2.0</td>\n",
       "      <td>78003</td>\n",
       "      <td>1.0</td>\n",
       "    </tr>\n",
       "  </tbody>\n",
       "</table>\n",
       "<p>100000 rows × 771 columns</p>\n",
       "</div>"
      ],
      "text/plain": [
       "              0         1         2         3         4         5         6  \\\n",
       "0     -0.417784 -0.159195  0.049453 -0.019281 -0.143110 -0.371498  0.205367   \n",
       "1     -0.154517 -0.305308  0.424442 -0.002735 -0.164633 -0.258918  0.182587   \n",
       "2      0.000540 -0.246681  0.059547 -0.272320 -0.436857 -0.234840  0.253098   \n",
       "3      0.097781 -0.031261  0.059328  0.297294 -0.162170 -0.514269  0.549677   \n",
       "4     -0.405389 -0.342308  0.293121  0.140589 -0.473491 -0.248678  0.463207   \n",
       "...         ...       ...       ...       ...       ...       ...       ...   \n",
       "99995 -0.190831  0.111325 -0.007943  0.209162 -0.204160 -0.366423  0.579954   \n",
       "99996  0.176868 -0.362221  0.074079  0.066585 -0.009989 -0.425526  0.353912   \n",
       "99997 -0.086020 -0.137973 -0.054955  0.038759 -0.090016 -0.238761  0.160697   \n",
       "99998  0.168974 -0.353340  0.055526  0.063732 -0.014129 -0.439472  0.354419   \n",
       "99999 -0.102992 -0.180803  0.003302  0.071570 -0.107520 -0.214042  0.107835   \n",
       "\n",
       "              7         8         9  ...       761       762       763  \\\n",
       "0      0.469781 -0.180655  0.086964  ... -0.729234  0.435944  0.665804   \n",
       "1      0.578418 -0.027604 -0.099199  ... -0.320284  0.295116  0.262499   \n",
       "2      0.908152  0.024199 -0.300646  ... -0.264831  0.263115 -0.038263   \n",
       "3      0.571328 -0.091938 -0.208955  ... -0.419469  0.434312  0.067487   \n",
       "4      0.182642 -0.361493 -0.363156  ... -0.019985  0.224207  0.206847   \n",
       "...         ...       ...       ...  ...       ...       ...       ...   \n",
       "99995  0.380756 -0.227440 -0.128254  ... -0.072001  0.233051  0.408162   \n",
       "99996  0.466246 -0.058196 -0.264946  ... -0.420290  0.151437  0.422059   \n",
       "99997  0.416090 -0.034831 -0.027933  ... -0.216983  0.200104  0.159398   \n",
       "99998  0.485233 -0.063634 -0.269874  ... -0.418296  0.141576  0.423993   \n",
       "99999  0.382630 -0.072017 -0.019725  ... -0.210459  0.134150  0.186101   \n",
       "\n",
       "            764       765       766       767  retweet   time  change_1_direct  \n",
       "0     -0.087694 -0.412030 -0.138853  0.688434      7.0  45736              1.0  \n",
       "1     -0.145339 -0.557404  0.249221  0.425408     68.0  29586              1.0  \n",
       "2     -0.094645 -0.439378  0.201307  0.520169      4.0  75329              1.0  \n",
       "3     -0.082194 -0.356370 -0.015842  0.434768     85.0  63389              1.0  \n",
       "4     -0.075846 -0.508190  0.142789  0.311084      8.0   5857              1.0  \n",
       "...         ...       ...       ...       ...      ...    ...              ...  \n",
       "99995 -0.304246 -0.348964  0.134679  0.743559      2.0  79202              0.0  \n",
       "99996 -0.445005 -0.381655  0.032492  0.645175      2.0  78964              1.0  \n",
       "99997 -0.170248 -0.418308  0.369494  0.665510      2.0  78625              1.0  \n",
       "99998 -0.450304 -0.378812  0.031307  0.658095      2.0  78343              1.0  \n",
       "99999 -0.163524 -0.406920  0.389161  0.646289      2.0  78003              1.0  \n",
       "\n",
       "[100000 rows x 771 columns]"
      ]
     },
     "execution_count": 4,
     "metadata": {},
     "output_type": "execute_result"
    }
   ],
   "source": [
    "%%time\n",
    "raw_data = load_parts('last_hs_tweets_ch', 0, 100)\n",
    "raw_data"
   ]
  },
  {
   "cell_type": "code",
   "execution_count": 7,
   "id": "3839d12a",
   "metadata": {},
   "outputs": [
    {
     "data": {
      "text/plain": [
       "181240.0"
      ]
     },
     "execution_count": 7,
     "metadata": {},
     "output_type": "execute_result"
    }
   ],
   "source": [
    "raw_data['retweet'].max()"
   ]
  },
  {
   "cell_type": "code",
   "execution_count": 8,
   "id": "02b1c500",
   "metadata": {},
   "outputs": [
    {
     "data": {
      "text/plain": [
       "1.0"
      ]
     },
     "execution_count": 8,
     "metadata": {},
     "output_type": "execute_result"
    }
   ],
   "source": [
    "max = 181240\n",
    "raw_data['retweet'] = raw_data['retweet'].apply(lambda x: (x - max/2)/(max/2))\n",
    "raw_data['retweet'].max()"
   ]
  },
  {
   "cell_type": "code",
   "execution_count": 9,
   "id": "0297b312",
   "metadata": {},
   "outputs": [
    {
     "data": {
      "text/plain": [
       "86399"
      ]
     },
     "execution_count": 9,
     "metadata": {},
     "output_type": "execute_result"
    }
   ],
   "source": [
    "raw_data['time'].max()"
   ]
  },
  {
   "cell_type": "code",
   "execution_count": 10,
   "id": "1df2f7cd",
   "metadata": {},
   "outputs": [
    {
     "data": {
      "text/plain": [
       "1.0092790697674419"
      ]
     },
     "execution_count": 10,
     "metadata": {},
     "output_type": "execute_result"
    }
   ],
   "source": [
    "max = 86000\n",
    "raw_data['time'] = raw_data['time'].apply(lambda x: (x - max/2)/(max/2))\n",
    "raw_data['time'].max()"
   ]
  },
  {
   "cell_type": "code",
   "execution_count": 11,
   "id": "85fbd3dc",
   "metadata": {},
   "outputs": [
    {
     "data": {
      "text/plain": [
       "1559934000.0"
      ]
     },
     "execution_count": 11,
     "metadata": {},
     "output_type": "execute_result"
    }
   ],
   "source": [
    "raw_data['date'].max()"
   ]
  },
  {
   "cell_type": "code",
   "execution_count": 12,
   "id": "54ac09f0",
   "metadata": {},
   "outputs": [
    {
     "data": {
      "text/plain": [
       "1380567600.0"
      ]
     },
     "execution_count": 12,
     "metadata": {},
     "output_type": "execute_result"
    }
   ],
   "source": [
    "raw_data['date'].min()"
   ]
  },
  {
   "cell_type": "code",
   "execution_count": 13,
   "id": "333e1adc",
   "metadata": {},
   "outputs": [
    {
     "data": {
      "text/plain": [
       "1.0"
      ]
     },
     "execution_count": 13,
     "metadata": {},
     "output_type": "execute_result"
    }
   ],
   "source": [
    "min = 1380567600\n",
    "max = 1559934000\n",
    "raw_data['date'] = raw_data['date'].apply(lambda x: (x - min)/(max-min))\n",
    "raw_data['date'].max()"
   ]
  },
  {
   "cell_type": "code",
   "execution_count": 14,
   "id": "82a1cb82",
   "metadata": {},
   "outputs": [
    {
     "data": {
      "text/plain": [
       "0.0"
      ]
     },
     "execution_count": 14,
     "metadata": {},
     "output_type": "execute_result"
    }
   ],
   "source": [
    "raw_data['date'].min()"
   ]
  },
  {
   "cell_type": "code",
   "execution_count": 5,
   "id": "07427cb0",
   "metadata": {},
   "outputs": [
    {
     "name": "stdout",
     "output_type": "stream",
     "text": [
      "Wall time: 2.54 s\n"
     ]
    },
    {
     "data": {
      "text/html": [
       "<div>\n",
       "<style scoped>\n",
       "    .dataframe tbody tr th:only-of-type {\n",
       "        vertical-align: middle;\n",
       "    }\n",
       "\n",
       "    .dataframe tbody tr th {\n",
       "        vertical-align: top;\n",
       "    }\n",
       "\n",
       "    .dataframe thead th {\n",
       "        text-align: right;\n",
       "    }\n",
       "</style>\n",
       "<table border=\"1\" class=\"dataframe\">\n",
       "  <thead>\n",
       "    <tr style=\"text-align: right;\">\n",
       "      <th></th>\n",
       "      <th>0</th>\n",
       "      <th>1</th>\n",
       "      <th>2</th>\n",
       "      <th>3</th>\n",
       "      <th>4</th>\n",
       "      <th>5</th>\n",
       "      <th>6</th>\n",
       "      <th>7</th>\n",
       "      <th>8</th>\n",
       "      <th>9</th>\n",
       "      <th>...</th>\n",
       "      <th>761</th>\n",
       "      <th>762</th>\n",
       "      <th>763</th>\n",
       "      <th>764</th>\n",
       "      <th>765</th>\n",
       "      <th>766</th>\n",
       "      <th>767</th>\n",
       "      <th>retweet</th>\n",
       "      <th>time</th>\n",
       "      <th>change_1_direct</th>\n",
       "    </tr>\n",
       "  </thead>\n",
       "  <tbody>\n",
       "    <tr>\n",
       "      <th>40873</th>\n",
       "      <td>0.154078</td>\n",
       "      <td>-0.201394</td>\n",
       "      <td>0.026564</td>\n",
       "      <td>0.217482</td>\n",
       "      <td>-0.117782</td>\n",
       "      <td>-0.712478</td>\n",
       "      <td>0.040226</td>\n",
       "      <td>0.649390</td>\n",
       "      <td>0.190963</td>\n",
       "      <td>-0.307655</td>\n",
       "      <td>...</td>\n",
       "      <td>-0.607841</td>\n",
       "      <td>0.322955</td>\n",
       "      <td>0.457741</td>\n",
       "      <td>-0.102821</td>\n",
       "      <td>-0.443432</td>\n",
       "      <td>0.124357</td>\n",
       "      <td>0.630489</td>\n",
       "      <td>35.0</td>\n",
       "      <td>30493</td>\n",
       "      <td>1.0</td>\n",
       "    </tr>\n",
       "    <tr>\n",
       "      <th>832</th>\n",
       "      <td>0.110829</td>\n",
       "      <td>0.087697</td>\n",
       "      <td>0.203372</td>\n",
       "      <td>-0.178707</td>\n",
       "      <td>-0.642821</td>\n",
       "      <td>-0.543686</td>\n",
       "      <td>0.277545</td>\n",
       "      <td>0.589370</td>\n",
       "      <td>-0.150682</td>\n",
       "      <td>-0.450952</td>\n",
       "      <td>...</td>\n",
       "      <td>-0.354488</td>\n",
       "      <td>0.312999</td>\n",
       "      <td>0.259520</td>\n",
       "      <td>-0.103768</td>\n",
       "      <td>-0.588483</td>\n",
       "      <td>0.249900</td>\n",
       "      <td>0.225558</td>\n",
       "      <td>21.0</td>\n",
       "      <td>67411</td>\n",
       "      <td>1.0</td>\n",
       "    </tr>\n",
       "    <tr>\n",
       "      <th>58367</th>\n",
       "      <td>0.389685</td>\n",
       "      <td>-0.070361</td>\n",
       "      <td>0.226413</td>\n",
       "      <td>0.011184</td>\n",
       "      <td>-0.218933</td>\n",
       "      <td>-0.453032</td>\n",
       "      <td>0.584852</td>\n",
       "      <td>0.535753</td>\n",
       "      <td>-0.016475</td>\n",
       "      <td>-0.470529</td>\n",
       "      <td>...</td>\n",
       "      <td>-0.505246</td>\n",
       "      <td>0.328158</td>\n",
       "      <td>-0.015673</td>\n",
       "      <td>0.022542</td>\n",
       "      <td>-0.277971</td>\n",
       "      <td>0.256051</td>\n",
       "      <td>0.558487</td>\n",
       "      <td>2.0</td>\n",
       "      <td>63557</td>\n",
       "      <td>1.0</td>\n",
       "    </tr>\n",
       "    <tr>\n",
       "      <th>26878</th>\n",
       "      <td>-0.166137</td>\n",
       "      <td>-0.135977</td>\n",
       "      <td>0.175625</td>\n",
       "      <td>0.177462</td>\n",
       "      <td>-0.134225</td>\n",
       "      <td>-0.336339</td>\n",
       "      <td>-0.011873</td>\n",
       "      <td>0.453432</td>\n",
       "      <td>-0.134633</td>\n",
       "      <td>-0.255964</td>\n",
       "      <td>...</td>\n",
       "      <td>-0.554123</td>\n",
       "      <td>0.428766</td>\n",
       "      <td>0.516216</td>\n",
       "      <td>-0.469654</td>\n",
       "      <td>-0.421126</td>\n",
       "      <td>0.073560</td>\n",
       "      <td>0.534384</td>\n",
       "      <td>2.0</td>\n",
       "      <td>46775</td>\n",
       "      <td>1.0</td>\n",
       "    </tr>\n",
       "    <tr>\n",
       "      <th>11913</th>\n",
       "      <td>-0.161652</td>\n",
       "      <td>-0.316417</td>\n",
       "      <td>0.087562</td>\n",
       "      <td>-0.180851</td>\n",
       "      <td>-0.263479</td>\n",
       "      <td>-0.251145</td>\n",
       "      <td>0.140881</td>\n",
       "      <td>0.424626</td>\n",
       "      <td>-0.035675</td>\n",
       "      <td>-0.417812</td>\n",
       "      <td>...</td>\n",
       "      <td>-0.716426</td>\n",
       "      <td>0.061558</td>\n",
       "      <td>0.553769</td>\n",
       "      <td>-0.220546</td>\n",
       "      <td>-0.231607</td>\n",
       "      <td>-0.058111</td>\n",
       "      <td>0.782034</td>\n",
       "      <td>7.0</td>\n",
       "      <td>82973</td>\n",
       "      <td>0.0</td>\n",
       "    </tr>\n",
       "    <tr>\n",
       "      <th>...</th>\n",
       "      <td>...</td>\n",
       "      <td>...</td>\n",
       "      <td>...</td>\n",
       "      <td>...</td>\n",
       "      <td>...</td>\n",
       "      <td>...</td>\n",
       "      <td>...</td>\n",
       "      <td>...</td>\n",
       "      <td>...</td>\n",
       "      <td>...</td>\n",
       "      <td>...</td>\n",
       "      <td>...</td>\n",
       "      <td>...</td>\n",
       "      <td>...</td>\n",
       "      <td>...</td>\n",
       "      <td>...</td>\n",
       "      <td>...</td>\n",
       "      <td>...</td>\n",
       "      <td>...</td>\n",
       "      <td>...</td>\n",
       "      <td>...</td>\n",
       "    </tr>\n",
       "    <tr>\n",
       "      <th>8094</th>\n",
       "      <td>-0.009050</td>\n",
       "      <td>-0.120176</td>\n",
       "      <td>-0.218051</td>\n",
       "      <td>-0.091481</td>\n",
       "      <td>-0.084636</td>\n",
       "      <td>-0.249447</td>\n",
       "      <td>0.164419</td>\n",
       "      <td>0.769991</td>\n",
       "      <td>-0.129390</td>\n",
       "      <td>-0.380851</td>\n",
       "      <td>...</td>\n",
       "      <td>-0.254722</td>\n",
       "      <td>0.109970</td>\n",
       "      <td>0.102325</td>\n",
       "      <td>-0.203718</td>\n",
       "      <td>-0.189995</td>\n",
       "      <td>0.076426</td>\n",
       "      <td>0.542887</td>\n",
       "      <td>3.0</td>\n",
       "      <td>54504</td>\n",
       "      <td>1.0</td>\n",
       "    </tr>\n",
       "    <tr>\n",
       "      <th>18064</th>\n",
       "      <td>-0.268845</td>\n",
       "      <td>-0.285695</td>\n",
       "      <td>0.190564</td>\n",
       "      <td>-0.009600</td>\n",
       "      <td>-0.218369</td>\n",
       "      <td>-0.083192</td>\n",
       "      <td>0.098382</td>\n",
       "      <td>0.317847</td>\n",
       "      <td>0.057382</td>\n",
       "      <td>-0.158775</td>\n",
       "      <td>...</td>\n",
       "      <td>-0.433835</td>\n",
       "      <td>0.000949</td>\n",
       "      <td>0.106776</td>\n",
       "      <td>-0.236143</td>\n",
       "      <td>-0.265077</td>\n",
       "      <td>0.033676</td>\n",
       "      <td>0.580178</td>\n",
       "      <td>2.0</td>\n",
       "      <td>60654</td>\n",
       "      <td>0.0</td>\n",
       "    </tr>\n",
       "    <tr>\n",
       "      <th>17745</th>\n",
       "      <td>0.209622</td>\n",
       "      <td>-0.083331</td>\n",
       "      <td>0.235984</td>\n",
       "      <td>0.099007</td>\n",
       "      <td>-0.574764</td>\n",
       "      <td>-0.488376</td>\n",
       "      <td>0.100918</td>\n",
       "      <td>0.543892</td>\n",
       "      <td>-0.268854</td>\n",
       "      <td>-0.158150</td>\n",
       "      <td>...</td>\n",
       "      <td>0.103803</td>\n",
       "      <td>0.262976</td>\n",
       "      <td>0.063059</td>\n",
       "      <td>-0.095611</td>\n",
       "      <td>-0.310393</td>\n",
       "      <td>0.297672</td>\n",
       "      <td>0.371484</td>\n",
       "      <td>3.0</td>\n",
       "      <td>71564</td>\n",
       "      <td>1.0</td>\n",
       "    </tr>\n",
       "    <tr>\n",
       "      <th>62218</th>\n",
       "      <td>-0.404304</td>\n",
       "      <td>0.309166</td>\n",
       "      <td>0.182504</td>\n",
       "      <td>-0.065580</td>\n",
       "      <td>-0.822769</td>\n",
       "      <td>-0.025005</td>\n",
       "      <td>0.732324</td>\n",
       "      <td>-0.050806</td>\n",
       "      <td>-0.079255</td>\n",
       "      <td>-0.318297</td>\n",
       "      <td>...</td>\n",
       "      <td>-0.295160</td>\n",
       "      <td>0.584818</td>\n",
       "      <td>-0.064049</td>\n",
       "      <td>-0.151786</td>\n",
       "      <td>-0.574533</td>\n",
       "      <td>0.430951</td>\n",
       "      <td>0.411983</td>\n",
       "      <td>57.0</td>\n",
       "      <td>38660</td>\n",
       "      <td>1.0</td>\n",
       "    </tr>\n",
       "    <tr>\n",
       "      <th>2945</th>\n",
       "      <td>-0.435416</td>\n",
       "      <td>0.463265</td>\n",
       "      <td>-0.253529</td>\n",
       "      <td>-0.357788</td>\n",
       "      <td>-0.255868</td>\n",
       "      <td>0.528730</td>\n",
       "      <td>0.770660</td>\n",
       "      <td>0.181389</td>\n",
       "      <td>0.393911</td>\n",
       "      <td>-0.556885</td>\n",
       "      <td>...</td>\n",
       "      <td>-0.503047</td>\n",
       "      <td>-0.008470</td>\n",
       "      <td>-0.328027</td>\n",
       "      <td>-0.450504</td>\n",
       "      <td>-0.517881</td>\n",
       "      <td>0.559338</td>\n",
       "      <td>0.039356</td>\n",
       "      <td>11.0</td>\n",
       "      <td>58236</td>\n",
       "      <td>1.0</td>\n",
       "    </tr>\n",
       "  </tbody>\n",
       "</table>\n",
       "<p>100000 rows × 771 columns</p>\n",
       "</div>"
      ],
      "text/plain": [
       "              0         1         2         3         4         5         6  \\\n",
       "40873  0.154078 -0.201394  0.026564  0.217482 -0.117782 -0.712478  0.040226   \n",
       "832    0.110829  0.087697  0.203372 -0.178707 -0.642821 -0.543686  0.277545   \n",
       "58367  0.389685 -0.070361  0.226413  0.011184 -0.218933 -0.453032  0.584852   \n",
       "26878 -0.166137 -0.135977  0.175625  0.177462 -0.134225 -0.336339 -0.011873   \n",
       "11913 -0.161652 -0.316417  0.087562 -0.180851 -0.263479 -0.251145  0.140881   \n",
       "...         ...       ...       ...       ...       ...       ...       ...   \n",
       "8094  -0.009050 -0.120176 -0.218051 -0.091481 -0.084636 -0.249447  0.164419   \n",
       "18064 -0.268845 -0.285695  0.190564 -0.009600 -0.218369 -0.083192  0.098382   \n",
       "17745  0.209622 -0.083331  0.235984  0.099007 -0.574764 -0.488376  0.100918   \n",
       "62218 -0.404304  0.309166  0.182504 -0.065580 -0.822769 -0.025005  0.732324   \n",
       "2945  -0.435416  0.463265 -0.253529 -0.357788 -0.255868  0.528730  0.770660   \n",
       "\n",
       "              7         8         9  ...       761       762       763  \\\n",
       "40873  0.649390  0.190963 -0.307655  ... -0.607841  0.322955  0.457741   \n",
       "832    0.589370 -0.150682 -0.450952  ... -0.354488  0.312999  0.259520   \n",
       "58367  0.535753 -0.016475 -0.470529  ... -0.505246  0.328158 -0.015673   \n",
       "26878  0.453432 -0.134633 -0.255964  ... -0.554123  0.428766  0.516216   \n",
       "11913  0.424626 -0.035675 -0.417812  ... -0.716426  0.061558  0.553769   \n",
       "...         ...       ...       ...  ...       ...       ...       ...   \n",
       "8094   0.769991 -0.129390 -0.380851  ... -0.254722  0.109970  0.102325   \n",
       "18064  0.317847  0.057382 -0.158775  ... -0.433835  0.000949  0.106776   \n",
       "17745  0.543892 -0.268854 -0.158150  ...  0.103803  0.262976  0.063059   \n",
       "62218 -0.050806 -0.079255 -0.318297  ... -0.295160  0.584818 -0.064049   \n",
       "2945   0.181389  0.393911 -0.556885  ... -0.503047 -0.008470 -0.328027   \n",
       "\n",
       "            764       765       766       767  retweet   time  change_1_direct  \n",
       "40873 -0.102821 -0.443432  0.124357  0.630489     35.0  30493              1.0  \n",
       "832   -0.103768 -0.588483  0.249900  0.225558     21.0  67411              1.0  \n",
       "58367  0.022542 -0.277971  0.256051  0.558487      2.0  63557              1.0  \n",
       "26878 -0.469654 -0.421126  0.073560  0.534384      2.0  46775              1.0  \n",
       "11913 -0.220546 -0.231607 -0.058111  0.782034      7.0  82973              0.0  \n",
       "...         ...       ...       ...       ...      ...    ...              ...  \n",
       "8094  -0.203718 -0.189995  0.076426  0.542887      3.0  54504              1.0  \n",
       "18064 -0.236143 -0.265077  0.033676  0.580178      2.0  60654              0.0  \n",
       "17745 -0.095611 -0.310393  0.297672  0.371484      3.0  71564              1.0  \n",
       "62218 -0.151786 -0.574533  0.430951  0.411983     57.0  38660              1.0  \n",
       "2945  -0.450504 -0.517881  0.559338  0.039356     11.0  58236              1.0  \n",
       "\n",
       "[100000 rows x 771 columns]"
      ]
     },
     "execution_count": 5,
     "metadata": {},
     "output_type": "execute_result"
    }
   ],
   "source": [
    "%%time\n",
    "#shaffle\n",
    "raw_data = raw_data.sample(frac=1)\n",
    "raw_data"
   ]
  },
  {
   "cell_type": "code",
   "execution_count": 10,
   "id": "56bef17b",
   "metadata": {},
   "outputs": [],
   "source": [
    "#%%time\n",
    "#data.corr()[target].sort_values()\n",
    "#train_size = 400000\n",
    "train_size = 80000\n",
    "data = raw_data.iloc[:train_size,:]\n",
    "test = raw_data.iloc[train_size:,:]"
   ]
  },
  {
   "cell_type": "code",
   "execution_count": 11,
   "id": "fee1a4ee",
   "metadata": {
    "scrolled": true
   },
   "outputs": [
    {
     "name": "stdout",
     "output_type": "stream",
     "text": [
      "Wall time: 704 ms\n"
     ]
    },
    {
     "data": {
      "text/plain": [
       "array([[ 0.1540783 , -0.20139408,  0.02656418, ..., -0.44343206,\n",
       "         0.12435672,  0.63048863],\n",
       "       [ 0.1108293 ,  0.08769724,  0.20337234, ..., -0.58848256,\n",
       "         0.24989972,  0.22555758],\n",
       "       [ 0.38968456, -0.07036075,  0.2264132 , ..., -0.27797145,\n",
       "         0.25605115,  0.55848706],\n",
       "       ...,\n",
       "       [ 0.32227254,  0.07305242,  0.35339764, ..., -0.44655225,\n",
       "         0.21078174,  0.821819  ],\n",
       "       [-0.2651025 , -0.12942639, -0.05632295, ..., -0.22416812,\n",
       "         0.18068723,  0.5076914 ],\n",
       "       [-0.00671956,  0.14567634,  0.36557785, ..., -0.461772  ,\n",
       "         0.50019807,  0.48612818]])"
      ]
     },
     "execution_count": 11,
     "metadata": {},
     "output_type": "execute_result"
    }
   ],
   "source": [
    "%%time\n",
    "#cols_num = 771\n",
    "cols_num = 768\n",
    "x_train = np.array(data.iloc[:,:cols_num])\n",
    "x_train"
   ]
  },
  {
   "cell_type": "code",
   "execution_count": 12,
   "id": "63baacf4",
   "metadata": {},
   "outputs": [
    {
     "data": {
      "text/plain": [
       "array([[ 0.15888788, -0.00390368, -0.10173465, ..., -0.37399247,\n",
       "         0.19761313,  0.43059814],\n",
       "       [-0.11225191,  0.02365246, -0.2013041 , ..., -0.37025604,\n",
       "         0.41310805,  0.6116906 ],\n",
       "       [-0.6269896 , -0.38341638,  0.09743221, ..., -0.6797356 ,\n",
       "         0.31627098,  0.5092034 ],\n",
       "       ...,\n",
       "       [ 0.20962176, -0.08333102,  0.23598449, ..., -0.31039286,\n",
       "         0.29767215,  0.37148395],\n",
       "       [-0.40430364,  0.30916557,  0.18250442, ..., -0.57453334,\n",
       "         0.4309507 ,  0.41198274],\n",
       "       [-0.4354161 ,  0.46326542, -0.25352922, ..., -0.51788056,\n",
       "         0.55933785,  0.03935561]])"
      ]
     },
     "execution_count": 12,
     "metadata": {},
     "output_type": "execute_result"
    }
   ],
   "source": [
    "x_test = np.array(test.iloc[:,:cols_num])\n",
    "x_test"
   ]
  },
  {
   "cell_type": "code",
   "execution_count": 13,
   "id": "23f80cac",
   "metadata": {},
   "outputs": [],
   "source": [
    "target = 'change_1_direct'\n",
    "#data[target].value_counts()"
   ]
  },
  {
   "cell_type": "code",
   "execution_count": 14,
   "id": "844938c9",
   "metadata": {},
   "outputs": [
    {
     "data": {
      "text/plain": [
       "1    48254\n",
       "0    31746\n",
       "Name: change_1_direct, dtype: int64"
      ]
     },
     "execution_count": 14,
     "metadata": {},
     "output_type": "execute_result"
    }
   ],
   "source": [
    "y_train = data[target].astype(int)\n",
    "#y_train = data[target].apply(lambda x: -1 if x < 1 else 1)\n",
    "y_train.value_counts()"
   ]
  },
  {
   "cell_type": "code",
   "execution_count": 15,
   "id": "f5b1e98d",
   "metadata": {},
   "outputs": [
    {
     "data": {
      "text/plain": [
       "1    12092\n",
       "0     7908\n",
       "Name: change_1_direct, dtype: int64"
      ]
     },
     "execution_count": 15,
     "metadata": {},
     "output_type": "execute_result"
    }
   ],
   "source": [
    "y_test = test[target].astype(int)\n",
    "#y_test = test[target].apply(lambda x: -1 if x < 1 else 1)\n",
    "y_test.value_counts()"
   ]
  },
  {
   "cell_type": "code",
   "execution_count": 16,
   "id": "b8d02dfe",
   "metadata": {},
   "outputs": [
    {
     "data": {
      "text/plain": [
       "{0: 1.26000126000126, 1: 0.8289468230613006}"
      ]
     },
     "execution_count": 16,
     "metadata": {},
     "output_type": "execute_result"
    }
   ],
   "source": [
    "from sklearn.utils import class_weight\n",
    "class_weights = class_weight.compute_class_weight(class_weight='balanced', classes=np.unique(y_train), y=y_train)\n",
    "d_class_weights = dict(enumerate(class_weights))\n",
    "d_class_weights"
   ]
  },
  {
   "cell_type": "code",
   "execution_count": 17,
   "id": "197ea21c",
   "metadata": {},
   "outputs": [],
   "source": [
    "import tensorflow\n",
    "from keras import models\n",
    "from keras import layers\n",
    "from keras import regularizers\n",
    "from keras import optimizers"
   ]
  },
  {
   "cell_type": "code",
   "execution_count": 18,
   "id": "b94a1c97",
   "metadata": {},
   "outputs": [],
   "source": [
    "model_num=50"
   ]
  },
  {
   "cell_type": "code",
   "execution_count": 19,
   "id": "b7e15bf3",
   "metadata": {},
   "outputs": [
    {
     "name": "stdout",
     "output_type": "stream",
     "text": [
      "50\n"
     ]
    }
   ],
   "source": [
    "#l2=0.05\n",
    "lr=0.02\n",
    "\n",
    "model = models.Sequential()\n",
    "\n",
    "# activity_regularizer=regularizers.l2(l2), \n",
    "model.add(layers.Dense(400, input_shape=(cols_num,), kernel_initializer=\"he_uniform\"))\n",
    "model.add(layers.BatchNormalization())\n",
    "model.add(layers.ReLU())\n",
    "model.add(layers.Dropout(0.5))\n",
    "\n",
    "model.add(layers.Dense(400, kernel_initializer=\"he_uniform\"))\n",
    "model.add(layers.BatchNormalization())\n",
    "model.add(layers.ReLU())\n",
    "model.add(layers.Dropout(0.5))\n",
    "\n",
    "model.add(layers.Dense(1, activation='sigmoid'))\n",
    "\n",
    "rmsprop = optimizers.RMSprop(learning_rate=lr, rho=0.9)\n",
    "adam = optimizers.Adam(learning_rate=lr, beta_1=0.9, beta_2=0.999, amsgrad=True)\n",
    "adamax = optimizers.Adamax(learning_rate=lr, beta_1=0.9, beta_2=0.99)\n",
    "nadam = optimizers.Nadam(learning_rate=lr, beta_1=0.9, beta_2=0.999)\n",
    "\n",
    "model.compile(optimizer=adam, loss='binary_crossentropy', metrics=['binary_accuracy'])\n",
    "print(model_num)\n",
    "model_num+=1"
   ]
  },
  {
   "cell_type": "code",
   "execution_count": 20,
   "id": "62e97aed",
   "metadata": {},
   "outputs": [],
   "source": [
    "from tensorflow.keras.callbacks import ModelCheckpoint, TensorBoard, ReduceLROnPlateau\n",
    "weights_file = f'{folder}/weights_pr4_{model_num}.h5'\n",
    "save_weights = ModelCheckpoint(weights_file, monitor='val_binary_accuracy', mode='max', save_best_only=True)\n",
    "tensorboard_cbk = TensorBoard(log_dir=f'{folder}/logs')\n",
    "reduce = ReduceLROnPlateau(monitor=\"val_loss\", factor=0.5, patience=3, min_lr=0.000001, verbose=1)"
   ]
  },
  {
   "cell_type": "code",
   "execution_count": 22,
   "id": "f5878ae9",
   "metadata": {},
   "outputs": [],
   "source": [
    "json_file = f'{folder}/model_pr4_{model_num}.json'\n",
    "model_json = model.to_json()\n",
    "\n",
    "with open(json_file, 'w') as file:\n",
    "    file.write(model_json)"
   ]
  },
  {
   "cell_type": "code",
   "execution_count": 23,
   "id": "2e190e84",
   "metadata": {
    "scrolled": false
   },
   "outputs": [
    {
     "name": "stdout",
     "output_type": "stream",
     "text": [
      "Epoch 1/25\n",
      "10/10 [==============================] - 12s 1s/step - loss: 1.2844 - binary_accuracy: 0.5308 - val_loss: 3.9809 - val_binary_accuracy: 0.5227\n",
      "Epoch 2/25\n",
      "10/10 [==============================] - 5s 529ms/step - loss: 0.7315 - binary_accuracy: 0.5884 - val_loss: 2.1681 - val_binary_accuracy: 0.5668\n",
      "Epoch 3/25\n",
      "10/10 [==============================] - 6s 570ms/step - loss: 0.6984 - binary_accuracy: 0.5963 - val_loss: 0.8501 - val_binary_accuracy: 0.6285\n",
      "Epoch 4/25\n",
      "10/10 [==============================] - 6s 655ms/step - loss: 0.6766 - binary_accuracy: 0.6196 - val_loss: 0.8894 - val_binary_accuracy: 0.6086\n",
      "Epoch 5/25\n",
      "10/10 [==============================] - 6s 587ms/step - loss: 0.6693 - binary_accuracy: 0.6276 - val_loss: 0.7611 - val_binary_accuracy: 0.6244\n",
      "Epoch 6/25\n",
      "10/10 [==============================] - 6s 588ms/step - loss: 0.6693 - binary_accuracy: 0.6263 - val_loss: 0.7370 - val_binary_accuracy: 0.6291\n",
      "Epoch 7/25\n",
      "10/10 [==============================] - 6s 590ms/step - loss: 0.6640 - binary_accuracy: 0.6360 - val_loss: 0.7207 - val_binary_accuracy: 0.6312\n",
      "Epoch 8/25\n",
      "10/10 [==============================] - 7s 697ms/step - loss: 0.6666 - binary_accuracy: 0.6329 - val_loss: 0.7109 - val_binary_accuracy: 0.6335\n",
      "Epoch 9/25\n",
      "10/10 [==============================] - 6s 583ms/step - loss: 0.6629 - binary_accuracy: 0.6393 - val_loss: 0.6883 - val_binary_accuracy: 0.6400\n",
      "Epoch 10/25\n",
      "10/10 [==============================] - 6s 642ms/step - loss: 0.6647 - binary_accuracy: 0.6352 - val_loss: 0.6792 - val_binary_accuracy: 0.6415\n",
      "Epoch 11/25\n",
      "10/10 [==============================] - 6s 587ms/step - loss: 0.6642 - binary_accuracy: 0.6379 - val_loss: 0.6837 - val_binary_accuracy: 0.6419\n",
      "Epoch 12/25\n",
      "10/10 [==============================] - 7s 675ms/step - loss: 0.6636 - binary_accuracy: 0.6371 - val_loss: 0.6724 - val_binary_accuracy: 0.6433\n",
      "Epoch 13/25\n",
      "10/10 [==============================] - 6s 616ms/step - loss: 0.6622 - binary_accuracy: 0.6375 - val_loss: 0.6667 - val_binary_accuracy: 0.6454\n",
      "Epoch 14/25\n",
      "10/10 [==============================] - 7s 673ms/step - loss: 0.6655 - binary_accuracy: 0.6322 - val_loss: 0.6645 - val_binary_accuracy: 0.6455\n",
      "Epoch 15/25\n",
      "10/10 [==============================] - 7s 725ms/step - loss: 0.6629 - binary_accuracy: 0.6397 - val_loss: 0.6621 - val_binary_accuracy: 0.6461\n",
      "Epoch 16/25\n",
      "10/10 [==============================] - 6s 647ms/step - loss: 0.6610 - binary_accuracy: 0.6408 - val_loss: 0.6589 - val_binary_accuracy: 0.6470\n",
      "Epoch 17/25\n",
      "10/10 [==============================] - 7s 719ms/step - loss: 0.6628 - binary_accuracy: 0.6405 - val_loss: 0.6596 - val_binary_accuracy: 0.6482\n",
      "Epoch 18/25\n",
      "10/10 [==============================] - 7s 710ms/step - loss: 0.6597 - binary_accuracy: 0.6411 - val_loss: 0.6727 - val_binary_accuracy: 0.6463\n",
      "Epoch 19/25\n",
      "10/10 [==============================] - 7s 672ms/step - loss: 0.6624 - binary_accuracy: 0.6291 - val_loss: 0.6652 - val_binary_accuracy: 0.6474\n",
      "\n",
      "Epoch 00019: ReduceLROnPlateau reducing learning rate to 0.009999999776482582.\n",
      "Epoch 20/25\n",
      "10/10 [==============================] - 7s 765ms/step - loss: 0.6591 - binary_accuracy: 0.6358 - val_loss: 0.6594 - val_binary_accuracy: 0.6473\n",
      "Epoch 21/25\n",
      "10/10 [==============================] - 6s 672ms/step - loss: 0.6579 - binary_accuracy: 0.6408 - val_loss: 0.6535 - val_binary_accuracy: 0.6487\n",
      "Epoch 22/25\n",
      "10/10 [==============================] - 6s 639ms/step - loss: 0.6570 - binary_accuracy: 0.6413 - val_loss: 0.6558 - val_binary_accuracy: 0.6486\n",
      "Epoch 23/25\n",
      "10/10 [==============================] - 7s 711ms/step - loss: 0.6577 - binary_accuracy: 0.6399 - val_loss: 0.6605 - val_binary_accuracy: 0.6475\n",
      "Epoch 24/25\n",
      "10/10 [==============================] - 6s 645ms/step - loss: 0.6556 - binary_accuracy: 0.6392 - val_loss: 0.6578 - val_binary_accuracy: 0.6486\n",
      "\n",
      "Epoch 00024: ReduceLROnPlateau reducing learning rate to 0.004999999888241291.\n",
      "Epoch 25/25\n",
      "10/10 [==============================] - 7s 664ms/step - loss: 0.6574 - binary_accuracy: 0.6387 - val_loss: 0.6581 - val_binary_accuracy: 0.6472\n"
     ]
    }
   ],
   "source": [
    "history = model.fit(x_train, y_train, class_weight=d_class_weights, epochs=25, batch_size=4000, validation_split=0.5, callbacks=[save_weights, tensorboard_cbk, reduce])\n"
   ]
  },
  {
   "cell_type": "code",
   "execution_count": 24,
   "id": "fd7e2489",
   "metadata": {},
   "outputs": [
    {
     "data": {
      "text/plain": [
       "<matplotlib.legend.Legend at 0x19884d9f280>"
      ]
     },
     "execution_count": 24,
     "metadata": {},
     "output_type": "execute_result"
    },
    {
     "data": {
      "image/png": "[encoded data removed]",
      "text/plain": [
       "<Figure size 432x288 with 1 Axes>"
      ]
     },
     "metadata": {
      "needs_background": "light"
     },
     "output_type": "display_data"
    }
   ],
   "source": [
    "import matplotlib.pyplot as plt\n",
    "start = 5\n",
    "loss_values = history.history['loss'][start:]\n",
    "val_loss_values = history.history['val_loss'][start:]\n",
    "epochs = range(start, len(loss_values) + start)\n",
    "plt.plot(epochs, loss_values, 'g', label='Training loss')\n",
    "plt.plot(epochs, val_loss_values, 'b', label='Validation loss')\n",
    "plt.title('Training and validation loss')\n",
    "plt.xlabel('Epochs')\n",
    "plt.ylabel('Loss')\n",
    "plt.legend()"
   ]
  },
  {
   "cell_type": "code",
   "execution_count": 25,
   "id": "ec2b60b8",
   "metadata": {},
   "outputs": [
    {
     "data": {
      "image/png": "[encoded data removed]",
      "text/plain": [
       "<Figure size 432x288 with 1 Axes>"
      ]
     },
     "metadata": {
      "needs_background": "light"
     },
     "output_type": "display_data"
    }
   ],
   "source": [
    "plt.clf()\n",
    "acc_values = history.history['binary_accuracy']\n",
    "val_acc_values = history.history['val_binary_accuracy']\n",
    "epochs = range(1, len(acc_values) + 1)\n",
    "plt.plot(epochs, acc_values, 'g', label='Training acc')\n",
    "plt.plot(epochs, val_acc_values, 'b', label='Validation acc')\n",
    "plt.title('Training and validation binary_accuracy')\n",
    "plt.xlabel('Epochs')\n",
    "plt.ylabel('binary_accuracy')\n",
    "plt.legend()\n",
    "plt.show()"
   ]
  },
  {
   "cell_type": "code",
   "execution_count": 26,
   "id": "cb811f49",
   "metadata": {},
   "outputs": [
    {
     "name": "stdout",
     "output_type": "stream",
     "text": [
      "625/625 [==============================] - 3s 4ms/step - loss: 0.6581 - binary_accuracy: 0.6468\n"
     ]
    }
   ],
   "source": [
    "results = model.evaluate(x_test, y_test, verbose=1)"
   ]
  },
  {
   "cell_type": "code",
   "execution_count": 27,
   "id": "3e5a0a6f",
   "metadata": {},
   "outputs": [
    {
     "name": "stdout",
     "output_type": "stream",
     "text": [
      "Dummy classifier score: 0.605 (+/- 0.00)\n"
     ]
    }
   ],
   "source": [
    "from sklearn.dummy import DummyClassifier\n",
    "from sklearn.model_selection import cross_val_score\n",
    "clf_dummy = DummyClassifier()\n",
    "\n",
    "scores = cross_val_score(clf_dummy, x_test, y_test)\n",
    "print(\"Dummy classifier score: %0.3f (+/- %0.2f)\" % (scores.mean(), scores.std() * 2))"
   ]
  },
  {
   "cell_type": "code",
   "execution_count": 132,
   "id": "1735d8fe",
   "metadata": {
    "scrolled": false
   },
   "outputs": [
    {
     "data": {
      "text/plain": [
       "array([[0.3760522 , 0.5893599 , 0.2978202 , ..., 0.36077154, 1.        ,\n",
       "        0.57056653]], dtype=float32)"
      ]
     },
     "execution_count": 132,
     "metadata": {},
     "output_type": "execute_result"
    }
   ],
   "source": [
    "predictions = model.predict(x_test)\n",
    "predictions.T"
   ]
  },
  {
   "cell_type": "code",
   "execution_count": 37,
   "id": "315ad4fc",
   "metadata": {},
   "outputs": [
    {
     "data": {
      "text/plain": [
       "1    35576\n",
       "0    14424\n",
       "Name: change_1_direct, dtype: int64"
      ]
     },
     "execution_count": 37,
     "metadata": {},
     "output_type": "execute_result"
    }
   ],
   "source": [
    "threshold = 0.5\n",
    "predictions_df = pd.DataFrame()\n",
    "predictions_df[target] = [1 if val > threshold else 0 for val in predictions]\n",
    "predictions_df[target].value_counts()"
   ]
  },
  {
   "cell_type": "code",
   "execution_count": 38,
   "id": "e1999638",
   "metadata": {},
   "outputs": [],
   "source": [
    "from sklearn.metrics import mean_squared_error\n",
    "from sklearn.metrics import accuracy_score\n",
    "from sklearn.metrics import confusion_matrix\n",
    "from sklearn.metrics import roc_auc_score\n",
    "from sklearn.metrics import f1_score"
   ]
  },
  {
   "cell_type": "code",
   "execution_count": null,
   "id": "79a76b35",
   "metadata": {},
   "outputs": [],
   "source": [
    "print(f1_score(y_test, predictions_df[target], average='binary'))"
   ]
  },
  {
   "cell_type": "code",
   "execution_count": 39,
   "id": "c488f5e7",
   "metadata": {
    "scrolled": true
   },
   "outputs": [
    {
     "name": "stdout",
     "output_type": "stream",
     "text": [
      "[[11841  2583]\n",
      " [14381 21195]]\n",
      "0.66072\n"
     ]
    }
   ],
   "source": [
    "print(roc_auc_score(predictions_df[target], y_test))\n",
    "print(confusion_matrix(predictions_df[target], y_test))\n",
    "print(accuracy_score(predictions_df[target], y_test))"
   ]
  },
  {
   "cell_type": "code",
   "execution_count": 51,
   "id": "be852984",
   "metadata": {},
   "outputs": [],
   "source": [
    "from sklearn.linear_model import LogisticRegression\n",
    "from sklearn.model_selection import GridSearchCV"
   ]
  },
  {
   "cell_type": "code",
   "execution_count": 53,
   "id": "f1403d7d",
   "metadata": {},
   "outputs": [
    {
     "name": "stderr",
     "output_type": "stream",
     "text": [
      "D:\\git\\project1\\ml\\lib\\site-packages\\sklearn\\linear_model\\_sag.py:328: ConvergenceWarning: The max_iter was reached which means the coef_ did not converge\n",
      "  warnings.warn(\"The max_iter was reached which means \"\n",
      "D:\\git\\project1\\ml\\lib\\site-packages\\sklearn\\linear_model\\_sag.py:328: ConvergenceWarning: The max_iter was reached which means the coef_ did not converge\n",
      "  warnings.warn(\"The max_iter was reached which means \"\n",
      "D:\\git\\project1\\ml\\lib\\site-packages\\sklearn\\linear_model\\_sag.py:328: ConvergenceWarning: The max_iter was reached which means the coef_ did not converge\n",
      "  warnings.warn(\"The max_iter was reached which means \"\n",
      "D:\\git\\project1\\ml\\lib\\site-packages\\sklearn\\linear_model\\_sag.py:328: ConvergenceWarning: The max_iter was reached which means the coef_ did not converge\n",
      "  warnings.warn(\"The max_iter was reached which means \"\n",
      "D:\\git\\project1\\ml\\lib\\site-packages\\sklearn\\linear_model\\_sag.py:328: ConvergenceWarning: The max_iter was reached which means the coef_ did not converge\n",
      "  warnings.warn(\"The max_iter was reached which means \"\n",
      "D:\\git\\project1\\ml\\lib\\site-packages\\sklearn\\linear_model\\_sag.py:328: ConvergenceWarning: The max_iter was reached which means the coef_ did not converge\n",
      "  warnings.warn(\"The max_iter was reached which means \"\n",
      "D:\\git\\project1\\ml\\lib\\site-packages\\sklearn\\linear_model\\_sag.py:328: ConvergenceWarning: The max_iter was reached which means the coef_ did not converge\n",
      "  warnings.warn(\"The max_iter was reached which means \"\n",
      "D:\\git\\project1\\ml\\lib\\site-packages\\sklearn\\linear_model\\_sag.py:328: ConvergenceWarning: The max_iter was reached which means the coef_ did not converge\n",
      "  warnings.warn(\"The max_iter was reached which means \"\n",
      "D:\\git\\project1\\ml\\lib\\site-packages\\sklearn\\linear_model\\_sag.py:328: ConvergenceWarning: The max_iter was reached which means the coef_ did not converge\n",
      "  warnings.warn(\"The max_iter was reached which means \"\n",
      "D:\\git\\project1\\ml\\lib\\site-packages\\sklearn\\linear_model\\_sag.py:328: ConvergenceWarning: The max_iter was reached which means the coef_ did not converge\n",
      "  warnings.warn(\"The max_iter was reached which means \"\n",
      "D:\\git\\project1\\ml\\lib\\site-packages\\sklearn\\linear_model\\_sag.py:328: ConvergenceWarning: The max_iter was reached which means the coef_ did not converge\n",
      "  warnings.warn(\"The max_iter was reached which means \"\n",
      "D:\\git\\project1\\ml\\lib\\site-packages\\sklearn\\linear_model\\_sag.py:328: ConvergenceWarning: The max_iter was reached which means the coef_ did not converge\n",
      "  warnings.warn(\"The max_iter was reached which means \"\n",
      "D:\\git\\project1\\ml\\lib\\site-packages\\sklearn\\linear_model\\_sag.py:328: ConvergenceWarning: The max_iter was reached which means the coef_ did not converge\n",
      "  warnings.warn(\"The max_iter was reached which means \"\n",
      "D:\\git\\project1\\ml\\lib\\site-packages\\sklearn\\linear_model\\_sag.py:328: ConvergenceWarning: The max_iter was reached which means the coef_ did not converge\n",
      "  warnings.warn(\"The max_iter was reached which means \"\n",
      "D:\\git\\project1\\ml\\lib\\site-packages\\sklearn\\linear_model\\_sag.py:328: ConvergenceWarning: The max_iter was reached which means the coef_ did not converge\n",
      "  warnings.warn(\"The max_iter was reached which means \"\n",
      "D:\\git\\project1\\ml\\lib\\site-packages\\sklearn\\linear_model\\_sag.py:328: ConvergenceWarning: The max_iter was reached which means the coef_ did not converge\n",
      "  warnings.warn(\"The max_iter was reached which means \"\n",
      "D:\\git\\project1\\ml\\lib\\site-packages\\sklearn\\linear_model\\_sag.py:328: ConvergenceWarning: The max_iter was reached which means the coef_ did not converge\n",
      "  warnings.warn(\"The max_iter was reached which means \"\n",
      "D:\\git\\project1\\ml\\lib\\site-packages\\sklearn\\linear_model\\_sag.py:328: ConvergenceWarning: The max_iter was reached which means the coef_ did not converge\n",
      "  warnings.warn(\"The max_iter was reached which means \"\n",
      "D:\\git\\project1\\ml\\lib\\site-packages\\sklearn\\linear_model\\_sag.py:328: ConvergenceWarning: The max_iter was reached which means the coef_ did not converge\n",
      "  warnings.warn(\"The max_iter was reached which means \"\n",
      "D:\\git\\project1\\ml\\lib\\site-packages\\sklearn\\linear_model\\_sag.py:328: ConvergenceWarning: The max_iter was reached which means the coef_ did not converge\n",
      "  warnings.warn(\"The max_iter was reached which means \"\n",
      "D:\\git\\project1\\ml\\lib\\site-packages\\sklearn\\linear_model\\_sag.py:328: ConvergenceWarning: The max_iter was reached which means the coef_ did not converge\n",
      "  warnings.warn(\"The max_iter was reached which means \"\n",
      "D:\\git\\project1\\ml\\lib\\site-packages\\sklearn\\linear_model\\_sag.py:328: ConvergenceWarning: The max_iter was reached which means the coef_ did not converge\n",
      "  warnings.warn(\"The max_iter was reached which means \"\n",
      "D:\\git\\project1\\ml\\lib\\site-packages\\sklearn\\linear_model\\_sag.py:328: ConvergenceWarning: The max_iter was reached which means the coef_ did not converge\n",
      "  warnings.warn(\"The max_iter was reached which means \"\n",
      "D:\\git\\project1\\ml\\lib\\site-packages\\sklearn\\linear_model\\_sag.py:328: ConvergenceWarning: The max_iter was reached which means the coef_ did not converge\n",
      "  warnings.warn(\"The max_iter was reached which means \"\n",
      "D:\\git\\project1\\ml\\lib\\site-packages\\sklearn\\linear_model\\_sag.py:328: ConvergenceWarning: The max_iter was reached which means the coef_ did not converge\n",
      "  warnings.warn(\"The max_iter was reached which means \"\n",
      "D:\\git\\project1\\ml\\lib\\site-packages\\sklearn\\linear_model\\_sag.py:328: ConvergenceWarning: The max_iter was reached which means the coef_ did not converge\n",
      "  warnings.warn(\"The max_iter was reached which means \"\n",
      "D:\\git\\project1\\ml\\lib\\site-packages\\sklearn\\linear_model\\_sag.py:328: ConvergenceWarning: The max_iter was reached which means the coef_ did not converge\n",
      "  warnings.warn(\"The max_iter was reached which means \"\n",
      "D:\\git\\project1\\ml\\lib\\site-packages\\sklearn\\linear_model\\_sag.py:328: ConvergenceWarning: The max_iter was reached which means the coef_ did not converge\n",
      "  warnings.warn(\"The max_iter was reached which means \"\n",
      "D:\\git\\project1\\ml\\lib\\site-packages\\sklearn\\linear_model\\_sag.py:328: ConvergenceWarning: The max_iter was reached which means the coef_ did not converge\n",
      "  warnings.warn(\"The max_iter was reached which means \"\n",
      "D:\\git\\project1\\ml\\lib\\site-packages\\sklearn\\linear_model\\_sag.py:328: ConvergenceWarning: The max_iter was reached which means the coef_ did not converge\n",
      "  warnings.warn(\"The max_iter was reached which means \"\n",
      "D:\\git\\project1\\ml\\lib\\site-packages\\sklearn\\linear_model\\_sag.py:328: ConvergenceWarning: The max_iter was reached which means the coef_ did not converge\n",
      "  warnings.warn(\"The max_iter was reached which means \"\n",
      "D:\\git\\project1\\ml\\lib\\site-packages\\sklearn\\linear_model\\_sag.py:328: ConvergenceWarning: The max_iter was reached which means the coef_ did not converge\n",
      "  warnings.warn(\"The max_iter was reached which means \"\n",
      "D:\\git\\project1\\ml\\lib\\site-packages\\sklearn\\linear_model\\_sag.py:328: ConvergenceWarning: The max_iter was reached which means the coef_ did not converge\n",
      "  warnings.warn(\"The max_iter was reached which means \"\n",
      "D:\\git\\project1\\ml\\lib\\site-packages\\sklearn\\linear_model\\_sag.py:328: ConvergenceWarning: The max_iter was reached which means the coef_ did not converge\n",
      "  warnings.warn(\"The max_iter was reached which means \"\n",
      "D:\\git\\project1\\ml\\lib\\site-packages\\sklearn\\linear_model\\_sag.py:328: ConvergenceWarning: The max_iter was reached which means the coef_ did not converge\n",
      "  warnings.warn(\"The max_iter was reached which means \"\n",
      "D:\\git\\project1\\ml\\lib\\site-packages\\sklearn\\linear_model\\_sag.py:328: ConvergenceWarning: The max_iter was reached which means the coef_ did not converge\n",
      "  warnings.warn(\"The max_iter was reached which means \"\n",
      "D:\\git\\project1\\ml\\lib\\site-packages\\sklearn\\linear_model\\_sag.py:328: ConvergenceWarning: The max_iter was reached which means the coef_ did not converge\n",
      "  warnings.warn(\"The max_iter was reached which means \"\n",
      "D:\\git\\project1\\ml\\lib\\site-packages\\sklearn\\linear_model\\_sag.py:328: ConvergenceWarning: The max_iter was reached which means the coef_ did not converge\n",
      "  warnings.warn(\"The max_iter was reached which means \"\n",
      "D:\\git\\project1\\ml\\lib\\site-packages\\sklearn\\linear_model\\_sag.py:328: ConvergenceWarning: The max_iter was reached which means the coef_ did not converge\n",
      "  warnings.warn(\"The max_iter was reached which means \"\n"
     ]
    },
    {
     "name": "stderr",
     "output_type": "stream",
     "text": [
      "D:\\git\\project1\\ml\\lib\\site-packages\\sklearn\\linear_model\\_sag.py:328: ConvergenceWarning: The max_iter was reached which means the coef_ did not converge\n",
      "  warnings.warn(\"The max_iter was reached which means \"\n",
      "D:\\git\\project1\\ml\\lib\\site-packages\\sklearn\\linear_model\\_sag.py:328: ConvergenceWarning: The max_iter was reached which means the coef_ did not converge\n",
      "  warnings.warn(\"The max_iter was reached which means \"\n",
      "D:\\git\\project1\\ml\\lib\\site-packages\\sklearn\\linear_model\\_sag.py:328: ConvergenceWarning: The max_iter was reached which means the coef_ did not converge\n",
      "  warnings.warn(\"The max_iter was reached which means \"\n",
      "D:\\git\\project1\\ml\\lib\\site-packages\\sklearn\\linear_model\\_sag.py:328: ConvergenceWarning: The max_iter was reached which means the coef_ did not converge\n",
      "  warnings.warn(\"The max_iter was reached which means \"\n",
      "D:\\git\\project1\\ml\\lib\\site-packages\\sklearn\\linear_model\\_sag.py:328: ConvergenceWarning: The max_iter was reached which means the coef_ did not converge\n",
      "  warnings.warn(\"The max_iter was reached which means \"\n",
      "D:\\git\\project1\\ml\\lib\\site-packages\\sklearn\\linear_model\\_sag.py:328: ConvergenceWarning: The max_iter was reached which means the coef_ did not converge\n",
      "  warnings.warn(\"The max_iter was reached which means \"\n",
      "D:\\git\\project1\\ml\\lib\\site-packages\\sklearn\\linear_model\\_sag.py:328: ConvergenceWarning: The max_iter was reached which means the coef_ did not converge\n",
      "  warnings.warn(\"The max_iter was reached which means \"\n",
      "D:\\git\\project1\\ml\\lib\\site-packages\\sklearn\\linear_model\\_sag.py:328: ConvergenceWarning: The max_iter was reached which means the coef_ did not converge\n",
      "  warnings.warn(\"The max_iter was reached which means \"\n",
      "D:\\git\\project1\\ml\\lib\\site-packages\\sklearn\\linear_model\\_sag.py:328: ConvergenceWarning: The max_iter was reached which means the coef_ did not converge\n",
      "  warnings.warn(\"The max_iter was reached which means \"\n",
      "D:\\git\\project1\\ml\\lib\\site-packages\\sklearn\\linear_model\\_sag.py:328: ConvergenceWarning: The max_iter was reached which means the coef_ did not converge\n",
      "  warnings.warn(\"The max_iter was reached which means \"\n",
      "D:\\git\\project1\\ml\\lib\\site-packages\\sklearn\\linear_model\\_sag.py:328: ConvergenceWarning: The max_iter was reached which means the coef_ did not converge\n",
      "  warnings.warn(\"The max_iter was reached which means \"\n",
      "D:\\git\\project1\\ml\\lib\\site-packages\\sklearn\\linear_model\\_sag.py:328: ConvergenceWarning: The max_iter was reached which means the coef_ did not converge\n",
      "  warnings.warn(\"The max_iter was reached which means \"\n",
      "D:\\git\\project1\\ml\\lib\\site-packages\\sklearn\\linear_model\\_sag.py:328: ConvergenceWarning: The max_iter was reached which means the coef_ did not converge\n",
      "  warnings.warn(\"The max_iter was reached which means \"\n",
      "D:\\git\\project1\\ml\\lib\\site-packages\\sklearn\\linear_model\\_sag.py:328: ConvergenceWarning: The max_iter was reached which means the coef_ did not converge\n",
      "  warnings.warn(\"The max_iter was reached which means \"\n",
      "D:\\git\\project1\\ml\\lib\\site-packages\\sklearn\\linear_model\\_sag.py:328: ConvergenceWarning: The max_iter was reached which means the coef_ did not converge\n",
      "  warnings.warn(\"The max_iter was reached which means \"\n",
      "D:\\git\\project1\\ml\\lib\\site-packages\\sklearn\\linear_model\\_sag.py:328: ConvergenceWarning: The max_iter was reached which means the coef_ did not converge\n",
      "  warnings.warn(\"The max_iter was reached which means \"\n",
      "D:\\git\\project1\\ml\\lib\\site-packages\\sklearn\\linear_model\\_sag.py:328: ConvergenceWarning: The max_iter was reached which means the coef_ did not converge\n",
      "  warnings.warn(\"The max_iter was reached which means \"\n",
      "D:\\git\\project1\\ml\\lib\\site-packages\\sklearn\\linear_model\\_sag.py:328: ConvergenceWarning: The max_iter was reached which means the coef_ did not converge\n",
      "  warnings.warn(\"The max_iter was reached which means \"\n",
      "D:\\git\\project1\\ml\\lib\\site-packages\\sklearn\\linear_model\\_sag.py:328: ConvergenceWarning: The max_iter was reached which means the coef_ did not converge\n",
      "  warnings.warn(\"The max_iter was reached which means \"\n",
      "D:\\git\\project1\\ml\\lib\\site-packages\\sklearn\\linear_model\\_sag.py:328: ConvergenceWarning: The max_iter was reached which means the coef_ did not converge\n",
      "  warnings.warn(\"The max_iter was reached which means \"\n",
      "D:\\git\\project1\\ml\\lib\\site-packages\\sklearn\\linear_model\\_sag.py:328: ConvergenceWarning: The max_iter was reached which means the coef_ did not converge\n",
      "  warnings.warn(\"The max_iter was reached which means \"\n",
      "D:\\git\\project1\\ml\\lib\\site-packages\\sklearn\\linear_model\\_sag.py:328: ConvergenceWarning: The max_iter was reached which means the coef_ did not converge\n",
      "  warnings.warn(\"The max_iter was reached which means \"\n",
      "D:\\git\\project1\\ml\\lib\\site-packages\\sklearn\\linear_model\\_sag.py:328: ConvergenceWarning: The max_iter was reached which means the coef_ did not converge\n",
      "  warnings.warn(\"The max_iter was reached which means \"\n",
      "D:\\git\\project1\\ml\\lib\\site-packages\\sklearn\\linear_model\\_sag.py:328: ConvergenceWarning: The max_iter was reached which means the coef_ did not converge\n",
      "  warnings.warn(\"The max_iter was reached which means \"\n",
      "D:\\git\\project1\\ml\\lib\\site-packages\\sklearn\\linear_model\\_sag.py:328: ConvergenceWarning: The max_iter was reached which means the coef_ did not converge\n",
      "  warnings.warn(\"The max_iter was reached which means \"\n",
      "D:\\git\\project1\\ml\\lib\\site-packages\\sklearn\\linear_model\\_sag.py:328: ConvergenceWarning: The max_iter was reached which means the coef_ did not converge\n",
      "  warnings.warn(\"The max_iter was reached which means \"\n",
      "D:\\git\\project1\\ml\\lib\\site-packages\\sklearn\\linear_model\\_sag.py:328: ConvergenceWarning: The max_iter was reached which means the coef_ did not converge\n",
      "  warnings.warn(\"The max_iter was reached which means \"\n",
      "D:\\git\\project1\\ml\\lib\\site-packages\\sklearn\\linear_model\\_sag.py:328: ConvergenceWarning: The max_iter was reached which means the coef_ did not converge\n",
      "  warnings.warn(\"The max_iter was reached which means \"\n",
      "D:\\git\\project1\\ml\\lib\\site-packages\\sklearn\\linear_model\\_sag.py:328: ConvergenceWarning: The max_iter was reached which means the coef_ did not converge\n",
      "  warnings.warn(\"The max_iter was reached which means \"\n",
      "D:\\git\\project1\\ml\\lib\\site-packages\\sklearn\\linear_model\\_sag.py:328: ConvergenceWarning: The max_iter was reached which means the coef_ did not converge\n",
      "  warnings.warn(\"The max_iter was reached which means \"\n",
      "D:\\git\\project1\\ml\\lib\\site-packages\\sklearn\\linear_model\\_sag.py:328: ConvergenceWarning: The max_iter was reached which means the coef_ did not converge\n",
      "  warnings.warn(\"The max_iter was reached which means \"\n",
      "D:\\git\\project1\\ml\\lib\\site-packages\\sklearn\\linear_model\\_sag.py:328: ConvergenceWarning: The max_iter was reached which means the coef_ did not converge\n",
      "  warnings.warn(\"The max_iter was reached which means \"\n",
      "D:\\git\\project1\\ml\\lib\\site-packages\\sklearn\\linear_model\\_sag.py:328: ConvergenceWarning: The max_iter was reached which means the coef_ did not converge\n",
      "  warnings.warn(\"The max_iter was reached which means \"\n",
      "D:\\git\\project1\\ml\\lib\\site-packages\\sklearn\\linear_model\\_sag.py:328: ConvergenceWarning: The max_iter was reached which means the coef_ did not converge\n",
      "  warnings.warn(\"The max_iter was reached which means \"\n",
      "D:\\git\\project1\\ml\\lib\\site-packages\\sklearn\\linear_model\\_sag.py:328: ConvergenceWarning: The max_iter was reached which means the coef_ did not converge\n",
      "  warnings.warn(\"The max_iter was reached which means \"\n",
      "D:\\git\\project1\\ml\\lib\\site-packages\\sklearn\\linear_model\\_sag.py:328: ConvergenceWarning: The max_iter was reached which means the coef_ did not converge\n",
      "  warnings.warn(\"The max_iter was reached which means \"\n",
      "D:\\git\\project1\\ml\\lib\\site-packages\\sklearn\\linear_model\\_sag.py:328: ConvergenceWarning: The max_iter was reached which means the coef_ did not converge\n",
      "  warnings.warn(\"The max_iter was reached which means \"\n",
      "D:\\git\\project1\\ml\\lib\\site-packages\\sklearn\\linear_model\\_sag.py:328: ConvergenceWarning: The max_iter was reached which means the coef_ did not converge\n",
      "  warnings.warn(\"The max_iter was reached which means \"\n",
      "D:\\git\\project1\\ml\\lib\\site-packages\\sklearn\\linear_model\\_sag.py:328: ConvergenceWarning: The max_iter was reached which means the coef_ did not converge\n",
      "  warnings.warn(\"The max_iter was reached which means \"\n"
     ]
    },
    {
     "name": "stderr",
     "output_type": "stream",
     "text": [
      "D:\\git\\project1\\ml\\lib\\site-packages\\sklearn\\linear_model\\_sag.py:328: ConvergenceWarning: The max_iter was reached which means the coef_ did not converge\n",
      "  warnings.warn(\"The max_iter was reached which means \"\n",
      "D:\\git\\project1\\ml\\lib\\site-packages\\sklearn\\linear_model\\_sag.py:328: ConvergenceWarning: The max_iter was reached which means the coef_ did not converge\n",
      "  warnings.warn(\"The max_iter was reached which means \"\n",
      "D:\\git\\project1\\ml\\lib\\site-packages\\sklearn\\linear_model\\_sag.py:328: ConvergenceWarning: The max_iter was reached which means the coef_ did not converge\n",
      "  warnings.warn(\"The max_iter was reached which means \"\n",
      "D:\\git\\project1\\ml\\lib\\site-packages\\sklearn\\linear_model\\_sag.py:328: ConvergenceWarning: The max_iter was reached which means the coef_ did not converge\n",
      "  warnings.warn(\"The max_iter was reached which means \"\n",
      "D:\\git\\project1\\ml\\lib\\site-packages\\sklearn\\linear_model\\_sag.py:328: ConvergenceWarning: The max_iter was reached which means the coef_ did not converge\n",
      "  warnings.warn(\"The max_iter was reached which means \"\n",
      "D:\\git\\project1\\ml\\lib\\site-packages\\sklearn\\linear_model\\_sag.py:328: ConvergenceWarning: The max_iter was reached which means the coef_ did not converge\n",
      "  warnings.warn(\"The max_iter was reached which means \"\n",
      "D:\\git\\project1\\ml\\lib\\site-packages\\sklearn\\linear_model\\_sag.py:328: ConvergenceWarning: The max_iter was reached which means the coef_ did not converge\n",
      "  warnings.warn(\"The max_iter was reached which means \"\n",
      "D:\\git\\project1\\ml\\lib\\site-packages\\sklearn\\linear_model\\_sag.py:328: ConvergenceWarning: The max_iter was reached which means the coef_ did not converge\n",
      "  warnings.warn(\"The max_iter was reached which means \"\n",
      "D:\\git\\project1\\ml\\lib\\site-packages\\sklearn\\linear_model\\_sag.py:328: ConvergenceWarning: The max_iter was reached which means the coef_ did not converge\n",
      "  warnings.warn(\"The max_iter was reached which means \"\n",
      "D:\\git\\project1\\ml\\lib\\site-packages\\sklearn\\linear_model\\_sag.py:328: ConvergenceWarning: The max_iter was reached which means the coef_ did not converge\n",
      "  warnings.warn(\"The max_iter was reached which means \"\n",
      "D:\\git\\project1\\ml\\lib\\site-packages\\sklearn\\linear_model\\_sag.py:328: ConvergenceWarning: The max_iter was reached which means the coef_ did not converge\n",
      "  warnings.warn(\"The max_iter was reached which means \"\n",
      "D:\\git\\project1\\ml\\lib\\site-packages\\sklearn\\linear_model\\_sag.py:328: ConvergenceWarning: The max_iter was reached which means the coef_ did not converge\n",
      "  warnings.warn(\"The max_iter was reached which means \"\n",
      "D:\\git\\project1\\ml\\lib\\site-packages\\sklearn\\linear_model\\_sag.py:328: ConvergenceWarning: The max_iter was reached which means the coef_ did not converge\n",
      "  warnings.warn(\"The max_iter was reached which means \"\n",
      "D:\\git\\project1\\ml\\lib\\site-packages\\sklearn\\linear_model\\_sag.py:328: ConvergenceWarning: The max_iter was reached which means the coef_ did not converge\n",
      "  warnings.warn(\"The max_iter was reached which means \"\n",
      "D:\\git\\project1\\ml\\lib\\site-packages\\sklearn\\linear_model\\_sag.py:328: ConvergenceWarning: The max_iter was reached which means the coef_ did not converge\n",
      "  warnings.warn(\"The max_iter was reached which means \"\n",
      "D:\\git\\project1\\ml\\lib\\site-packages\\sklearn\\linear_model\\_sag.py:328: ConvergenceWarning: The max_iter was reached which means the coef_ did not converge\n",
      "  warnings.warn(\"The max_iter was reached which means \"\n",
      "D:\\git\\project1\\ml\\lib\\site-packages\\sklearn\\linear_model\\_sag.py:328: ConvergenceWarning: The max_iter was reached which means the coef_ did not converge\n",
      "  warnings.warn(\"The max_iter was reached which means \"\n"
     ]
    },
    {
     "name": "stdout",
     "output_type": "stream",
     "text": [
      "best parameters:  {'C': 0.0001}\n",
      "best scrores:  0.8089999999999999\n",
      "Wall time: 1min 55s\n"
     ]
    }
   ],
   "source": [
    "%%time\n",
    "parameters = {'C': np.linspace(0.0001, 100, 20)}\n",
    "grid_search = GridSearchCV(LogisticRegression(solver=\"saga\"), parameters)\n",
    "grid_search.fit(x_train, y_train)\n",
    "\n",
    "print('best parameters: ', grid_search.best_params_)\n",
    "print('best scrores: ', grid_search.best_score_)"
   ]
  },
  {
   "cell_type": "code",
   "execution_count": 54,
   "id": "2c12a5f6",
   "metadata": {},
   "outputs": [
    {
     "name": "stdout",
     "output_type": "stream",
     "text": [
      "Wall time: 832 ms\n"
     ]
    },
    {
     "data": {
      "text/plain": [
       "LogisticRegression(C=0.0001, solver='saga')"
      ]
     },
     "execution_count": 54,
     "metadata": {},
     "output_type": "execute_result"
    }
   ],
   "source": [
    "%%time\n",
    "clf = LogisticRegression(solver=\"warn\", C=1)\n",
    "clf.fit(x_train, y_train)"
   ]
  },
  {
   "cell_type": "code",
   "execution_count": 55,
   "id": "a63ffaf5",
   "metadata": {},
   "outputs": [
    {
     "data": {
      "text/plain": [
       "0.783"
      ]
     },
     "execution_count": 55,
     "metadata": {},
     "output_type": "execute_result"
    }
   ],
   "source": [
    "clf.score(x_test, y_test)"
   ]
  },
  {
   "cell_type": "code",
   "execution_count": null,
   "id": "ac1b8a7b",
   "metadata": {},
   "outputs": [],
   "source": [
    "pd.DataFrame(data={'score': model['lr'].coef_[0]},\n",
    "                      index=column_names).sort_values(by='score')\n",
    "                                         .plot(kind='barh', grid=True,\n",
    "                                               figsize=(6,6), legend=False)"
   ]
  },
  {
   "cell_type": "code",
   "execution_count": 61,
   "id": "10e6f387",
   "metadata": {},
   "outputs": [],
   "source": [
    "from sklearn.ensemble import RandomForestClassifier"
   ]
  },
  {
   "cell_type": "code",
   "execution_count": 62,
   "id": "94947fea",
   "metadata": {},
   "outputs": [
    {
     "name": "stdout",
     "output_type": "stream",
     "text": [
      "Wall time: 17.5 s\n"
     ]
    },
    {
     "data": {
      "text/plain": [
       "RandomForestClassifier(n_estimators=1000)"
      ]
     },
     "execution_count": 62,
     "metadata": {},
     "output_type": "execute_result"
    }
   ],
   "source": [
    "%%time\n",
    "rf = RandomForestClassifier(n_estimators = 1000)\n",
    "rf.fit(x_train, y_train)"
   ]
  },
  {
   "cell_type": "code",
   "execution_count": 65,
   "id": "9544931d",
   "metadata": {},
   "outputs": [
    {
     "data": {
      "text/plain": [
       "0.787"
      ]
     },
     "execution_count": 65,
     "metadata": {},
     "output_type": "execute_result"
    }
   ],
   "source": [
    "rf.score(x_test, y_test)"
   ]
  },
  {
   "cell_type": "code",
   "execution_count": 63,
   "id": "5e0bf043",
   "metadata": {},
   "outputs": [],
   "source": [
    "rf_pred = rf.predict(x_test)"
   ]
  },
  {
   "cell_type": "code",
   "execution_count": 67,
   "id": "6c50b96b",
   "metadata": {},
   "outputs": [
    {
     "name": "stdout",
     "output_type": "stream",
     "text": [
      "[[783 213]\n",
      " [  0   4]]\n",
      "0.787\n"
     ]
    }
   ],
   "source": [
    "#print(roc_auc_score(predictions_df[target], y_test))\n",
    "print(confusion_matrix(rf_pred, y_test))\n",
    "print(accuracy_score(rf_pred, y_test))"
   ]
  },
  {
   "cell_type": "code",
   "execution_count": null,
   "id": "a992e4d8",
   "metadata": {},
   "outputs": [],
   "source": [
    "pd.DataFrame(data={'score': model['rf'].feature_importances_}, \n",
    "                      index=column_names).sort_values(by='score')\n",
    "                                         .plot(kind='barh', grid=True,\n",
    "                                               figsize=(6,6), legend=False)"
   ]
  }
 ],
 "metadata": {
  "kernelspec": {
   "display_name": "ml",
   "language": "python",
   "name": "ml"
  },
  "language_info": {
   "codemirror_mode": {
    "name": "ipython",
    "version": 3
   },
   "file_extension": ".py",
   "mimetype": "text/x-python",
   "name": "python",
   "nbconvert_exporter": "python",
   "pygments_lexer": "ipython3",
   "version": "3.8.10"
  }
 },
 "nbformat": 4,
 "nbformat_minor": 5
}
