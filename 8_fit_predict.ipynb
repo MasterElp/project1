{
 "cells": [
  {
   "cell_type": "code",
   "execution_count": 3,
   "id": "70c53c39",
   "metadata": {},
   "outputs": [],
   "source": [
    "import pandas as pd\n",
    "import numpy as np\n",
    "folder = 'd:/git/project1/generated'"
   ]
  },
  {
   "cell_type": "code",
   "execution_count": 5,
   "id": "bd7fe977",
   "metadata": {},
   "outputs": [],
   "source": [
    "data = pd.read_csv(f'{folder}/set_393.csv')"
   ]
  },
  {
   "cell_type": "code",
   "execution_count": 56,
   "id": "ad922fac",
   "metadata": {},
   "outputs": [
    {
     "data": {
      "text/plain": [
       "1    147178\n",
       "0    122552\n",
       "Name: direct, dtype: int64"
      ]
     },
     "execution_count": 56,
     "metadata": {},
     "output_type": "execute_result"
    }
   ],
   "source": [
    "data.direct.value_counts()"
   ]
  },
  {
   "cell_type": "code",
   "execution_count": 58,
   "id": "adcacb82",
   "metadata": {},
   "outputs": [
    {
     "name": "stdout",
     "output_type": "stream",
     "text": [
      "Wall time: 10min 12s\n"
     ]
    },
    {
     "data": {
      "text/plain": [
       "1           -0.006214\n",
       "743         -0.005947\n",
       "515         -0.005944\n",
       "498         -0.005755\n",
       "740         -0.005667\n",
       "               ...   \n",
       "246          0.004855\n",
       "95           0.005296\n",
       "724          0.005598\n",
       "timestamp    0.010401\n",
       "direct       1.000000\n",
       "Name: direct, Length: 772, dtype: float64"
      ]
     },
     "execution_count": 58,
     "metadata": {},
     "output_type": "execute_result"
    }
   ],
   "source": [
    "%%time\n",
    "data.corr()['direct'].sort_values()"
   ]
  },
  {
   "cell_type": "code",
   "execution_count": 11,
   "id": "fee1a4ee",
   "metadata": {},
   "outputs": [
    {
     "data": {
      "text/plain": [
       "array([[-0.4034838 ,  0.14443266, -0.3661805 , ..., -0.6082279 ,\n",
       "        -0.09164561,  0.10297806],\n",
       "       [ 0.20007397, -0.10840943, -0.03382502, ..., -0.454662  ,\n",
       "         0.3330778 ,  0.5927291 ],\n",
       "       [-0.32451597,  0.34571984, -0.09549643, ..., -0.1839731 ,\n",
       "         0.8870677 ,  0.10894743],\n",
       "       ...,\n",
       "       [ 0.04833257,  0.02356913,  0.00834493, ..., -0.35902038,\n",
       "         0.53885067,  0.5699992 ],\n",
       "       [-0.5332558 , -0.2431613 , -0.52935666, ..., -0.42315876,\n",
       "         0.5575977 ,  0.2385725 ],\n",
       "       [-0.28376433,  0.14391924,  0.50933635, ..., -0.3714652 ,\n",
       "         0.75476134, -0.17048492]])"
      ]
     },
     "execution_count": 11,
     "metadata": {},
     "output_type": "execute_result"
    }
   ],
   "source": [
    "x_train = np.array(data.iloc[:,2:770])\n",
    "x_train"
   ]
  },
  {
   "cell_type": "code",
   "execution_count": 12,
   "id": "844938c9",
   "metadata": {},
   "outputs": [
    {
     "data": {
      "text/plain": [
       "0         0\n",
       "1         1\n",
       "2         1\n",
       "3         0\n",
       "4         0\n",
       "         ..\n",
       "269725    1\n",
       "269726    0\n",
       "269727    1\n",
       "269728    1\n",
       "269729    0\n",
       "Name: direct, Length: 269730, dtype: int64"
      ]
     },
     "execution_count": 12,
     "metadata": {},
     "output_type": "execute_result"
    }
   ],
   "source": [
    "y_train = data['direct']\n",
    "y_train"
   ]
  },
  {
   "cell_type": "code",
   "execution_count": 13,
   "id": "197ea21c",
   "metadata": {},
   "outputs": [],
   "source": [
    "import tensorflow\n",
    "from keras import models\n",
    "from keras import layers\n",
    "from keras import regularizers\n",
    "import matplotlib.pyplot as plt"
   ]
  },
  {
   "cell_type": "code",
   "execution_count": 14,
   "id": "62e97aed",
   "metadata": {},
   "outputs": [],
   "source": [
    "from tensorflow.keras.callbacks import ModelCheckpoint, TensorBoard, ReduceLROnPlateau\n",
    "weights_file = f'{folder}/weights3.h5'\n",
    "callback = ModelCheckpoint(weights_file, monitor='val_binary_accuracy', mode='max', save_best_only=True)\n",
    "tensorboard_cbk = TensorBoard(log_dir=f'{folder}/logs')\n",
    "reduce = ReduceLROnPlateau(monitor=\"val_loss\", patience=5, min_lr=0.000001, verbose=1)"
   ]
  },
  {
   "cell_type": "code",
   "execution_count": 23,
   "id": "b7e15bf3",
   "metadata": {},
   "outputs": [],
   "source": [
    "model = models.Sequential()\n",
    "\n",
    "model.add(layers.Dense(384, input_shape=(768,), activity_regularizer=regularizers.l2(0.02), kernel_initializer=\"he_uniform\"))\n",
    "model.add(layers.BatchNormalization())\n",
    "model.add(layers.ReLU())\n",
    "\n",
    "model.add(layers.Dropout(0.5))\n",
    "\n",
    "model.add(layers.Dense(192, activity_regularizer=regularizers.l2(0.02), kernel_initializer=\"he_uniform\"))\n",
    "model.add(layers.BatchNormalization())\n",
    "model.add(layers.ReLU())\n",
    "\n",
    "model.add(layers.Dense(1, activation='sigmoid'))\n",
    "\n",
    "#model.compile(optimizer='rmsprop', loss='binary_crossentropy', metrics=['binary_accuracy'])\n",
    "model.compile(optimizer='adam', loss='binary_crossentropy', metrics=['binary_accuracy'])"
   ]
  },
  {
   "cell_type": "code",
   "execution_count": 24,
   "id": "f5878ae9",
   "metadata": {},
   "outputs": [],
   "source": [
    "json_file = f'{folder}/model10.json'\n",
    "model_json = model.to_json()\n",
    "\n",
    "with open(json_file, 'w') as file:\n",
    "    file.write(model_json)"
   ]
  },
  {
   "cell_type": "code",
   "execution_count": 25,
   "id": "2e190e84",
   "metadata": {},
   "outputs": [
    {
     "name": "stdout",
     "output_type": "stream",
     "text": [
      "Epoch 1/5\n",
      "95/95 [==============================] - 24s 233ms/step - loss: 6.2022 - binary_accuracy: 0.5142 - val_loss: 1.1829 - val_binary_accuracy: 0.5296\n",
      "Epoch 2/5\n",
      "95/95 [==============================] - 16s 172ms/step - loss: 1.7385 - binary_accuracy: 0.5260 - val_loss: 0.9296 - val_binary_accuracy: 0.5344\n",
      "Epoch 3/5\n",
      "95/95 [==============================] - 16s 174ms/step - loss: 1.0696 - binary_accuracy: 0.5262 - val_loss: 0.8466 - val_binary_accuracy: 0.5410\n",
      "Epoch 4/5\n",
      "95/95 [==============================] - 16s 174ms/step - loss: 0.8780 - binary_accuracy: 0.5369 - val_loss: 0.8036 - val_binary_accuracy: 0.5428\n",
      "Epoch 5/5\n",
      "95/95 [==============================] - 17s 180ms/step - loss: 0.8069 - binary_accuracy: 0.5448 - val_loss: 0.7766 - val_binary_accuracy: 0.5429\n"
     ]
    }
   ],
   "source": [
    "history = model.fit(x_train, y_train, epochs=5, batch_size=2000, validation_split=0.3, callbacks=[callback, tensorboard_cbk, reduce])\n"
   ]
  },
  {
   "cell_type": "code",
   "execution_count": 26,
   "id": "fd7e2489",
   "metadata": {},
   "outputs": [
    {
     "data": {
      "text/plain": [
       "<matplotlib.legend.Legend at 0x121b7c5efa0>"
      ]
     },
     "execution_count": 26,
     "metadata": {},
     "output_type": "execute_result"
    },
    {
     "data": {
      "image/png": "[encoded data removed]",
      "text/plain": [
       "<Figure size 432x288 with 1 Axes>"
      ]
     },
     "metadata": {
      "needs_background": "light"
     },
     "output_type": "display_data"
    }
   ],
   "source": [
    "start = 0\n",
    "loss_values = history.history['loss'][start:]\n",
    "val_loss_values = history.history['val_loss'][start:]\n",
    "epochs = range(start, len(loss_values) + start)\n",
    "plt.plot(epochs, loss_values, 'g', label='Training loss')\n",
    "plt.plot(epochs, val_loss_values, 'b', label='Validation loss')\n",
    "plt.title('Training and validation loss')\n",
    "plt.xlabel('Epochs')\n",
    "plt.ylabel('Loss')\n",
    "plt.legend()"
   ]
  },
  {
   "cell_type": "code",
   "execution_count": 28,
   "id": "ec2b60b8",
   "metadata": {},
   "outputs": [
    {
     "data": {
      "image/png": "[encoded data removed]",
      "text/plain": [
       "<Figure size 432x288 with 1 Axes>"
      ]
     },
     "metadata": {
      "needs_background": "light"
     },
     "output_type": "display_data"
    }
   ],
   "source": [
    "plt.clf()\n",
    "acc_values = history.history['binary_accuracy']\n",
    "val_acc_values = history.history['val_binary_accuracy']\n",
    "epochs = range(1, len(acc_values) + 1)\n",
    "plt.plot(epochs, acc_values, 'g', label='Training acc')\n",
    "plt.plot(epochs, val_acc_values, 'b', label='Validation acc')\n",
    "plt.title('Training and validation binary_accuracy')\n",
    "plt.xlabel('Epochs')\n",
    "plt.ylabel('binary_accuracy')\n",
    "plt.legend()\n",
    "plt.show()"
   ]
  },
  {
   "cell_type": "code",
   "execution_count": 29,
   "id": "201a48da",
   "metadata": {},
   "outputs": [
    {
     "data": {
      "text/html": [
       "<div>\n",
       "<style scoped>\n",
       "    .dataframe tbody tr th:only-of-type {\n",
       "        vertical-align: middle;\n",
       "    }\n",
       "\n",
       "    .dataframe tbody tr th {\n",
       "        vertical-align: top;\n",
       "    }\n",
       "\n",
       "    .dataframe thead th {\n",
       "        text-align: right;\n",
       "    }\n",
       "</style>\n",
       "<table border=\"1\" class=\"dataframe\">\n",
       "  <thead>\n",
       "    <tr style=\"text-align: right;\">\n",
       "      <th></th>\n",
       "      <th>Unnamed: 0</th>\n",
       "      <th>Unnamed: 0.1</th>\n",
       "      <th>0</th>\n",
       "      <th>1</th>\n",
       "      <th>2</th>\n",
       "      <th>3</th>\n",
       "      <th>4</th>\n",
       "      <th>5</th>\n",
       "      <th>6</th>\n",
       "      <th>7</th>\n",
       "      <th>...</th>\n",
       "      <th>760</th>\n",
       "      <th>761</th>\n",
       "      <th>762</th>\n",
       "      <th>763</th>\n",
       "      <th>764</th>\n",
       "      <th>765</th>\n",
       "      <th>766</th>\n",
       "      <th>767</th>\n",
       "      <th>timestamp</th>\n",
       "      <th>direct</th>\n",
       "    </tr>\n",
       "  </thead>\n",
       "  <tbody>\n",
       "    <tr>\n",
       "      <th>0</th>\n",
       "      <td>0</td>\n",
       "      <td>0</td>\n",
       "      <td>-0.234506</td>\n",
       "      <td>0.001747</td>\n",
       "      <td>-0.425283</td>\n",
       "      <td>-0.185730</td>\n",
       "      <td>-0.449682</td>\n",
       "      <td>-0.285066</td>\n",
       "      <td>0.336206</td>\n",
       "      <td>0.365718</td>\n",
       "      <td>...</td>\n",
       "      <td>-0.363680</td>\n",
       "      <td>0.000903</td>\n",
       "      <td>0.321855</td>\n",
       "      <td>-0.025091</td>\n",
       "      <td>-0.262637</td>\n",
       "      <td>-0.499886</td>\n",
       "      <td>0.205020</td>\n",
       "      <td>0.290831</td>\n",
       "      <td>1592265600</td>\n",
       "      <td>1</td>\n",
       "    </tr>\n",
       "    <tr>\n",
       "      <th>1</th>\n",
       "      <td>1</td>\n",
       "      <td>1</td>\n",
       "      <td>-0.774405</td>\n",
       "      <td>-0.042122</td>\n",
       "      <td>0.240691</td>\n",
       "      <td>0.124148</td>\n",
       "      <td>-0.406130</td>\n",
       "      <td>0.157978</td>\n",
       "      <td>0.264758</td>\n",
       "      <td>0.396746</td>\n",
       "      <td>...</td>\n",
       "      <td>0.192102</td>\n",
       "      <td>-0.469086</td>\n",
       "      <td>0.613902</td>\n",
       "      <td>0.126426</td>\n",
       "      <td>-0.471794</td>\n",
       "      <td>-0.439522</td>\n",
       "      <td>0.561788</td>\n",
       "      <td>0.474558</td>\n",
       "      <td>1611100800</td>\n",
       "      <td>0</td>\n",
       "    </tr>\n",
       "    <tr>\n",
       "      <th>2</th>\n",
       "      <td>2</td>\n",
       "      <td>2</td>\n",
       "      <td>-0.960810</td>\n",
       "      <td>0.046204</td>\n",
       "      <td>-0.002165</td>\n",
       "      <td>-0.057394</td>\n",
       "      <td>-0.519912</td>\n",
       "      <td>0.236540</td>\n",
       "      <td>0.252079</td>\n",
       "      <td>0.080769</td>\n",
       "      <td>...</td>\n",
       "      <td>1.118973</td>\n",
       "      <td>0.082588</td>\n",
       "      <td>-0.012194</td>\n",
       "      <td>-0.595636</td>\n",
       "      <td>-0.414950</td>\n",
       "      <td>-0.104115</td>\n",
       "      <td>-0.020574</td>\n",
       "      <td>0.189930</td>\n",
       "      <td>1597536000</td>\n",
       "      <td>1</td>\n",
       "    </tr>\n",
       "    <tr>\n",
       "      <th>3</th>\n",
       "      <td>3</td>\n",
       "      <td>3</td>\n",
       "      <td>-0.226224</td>\n",
       "      <td>0.123770</td>\n",
       "      <td>0.048377</td>\n",
       "      <td>0.268313</td>\n",
       "      <td>-0.452042</td>\n",
       "      <td>-0.152237</td>\n",
       "      <td>0.045668</td>\n",
       "      <td>0.364201</td>\n",
       "      <td>...</td>\n",
       "      <td>0.130809</td>\n",
       "      <td>-0.304922</td>\n",
       "      <td>0.107301</td>\n",
       "      <td>-0.140509</td>\n",
       "      <td>-0.510929</td>\n",
       "      <td>-0.084037</td>\n",
       "      <td>0.537480</td>\n",
       "      <td>0.413021</td>\n",
       "      <td>1613088000</td>\n",
       "      <td>0</td>\n",
       "    </tr>\n",
       "    <tr>\n",
       "      <th>4</th>\n",
       "      <td>4</td>\n",
       "      <td>4</td>\n",
       "      <td>-0.422775</td>\n",
       "      <td>0.277691</td>\n",
       "      <td>-0.753847</td>\n",
       "      <td>-0.029567</td>\n",
       "      <td>-0.922903</td>\n",
       "      <td>-0.034563</td>\n",
       "      <td>0.491929</td>\n",
       "      <td>0.624603</td>\n",
       "      <td>...</td>\n",
       "      <td>0.446212</td>\n",
       "      <td>0.008098</td>\n",
       "      <td>0.457908</td>\n",
       "      <td>0.246349</td>\n",
       "      <td>0.069831</td>\n",
       "      <td>-0.714982</td>\n",
       "      <td>0.303541</td>\n",
       "      <td>0.257397</td>\n",
       "      <td>1584921600</td>\n",
       "      <td>1</td>\n",
       "    </tr>\n",
       "    <tr>\n",
       "      <th>...</th>\n",
       "      <td>...</td>\n",
       "      <td>...</td>\n",
       "      <td>...</td>\n",
       "      <td>...</td>\n",
       "      <td>...</td>\n",
       "      <td>...</td>\n",
       "      <td>...</td>\n",
       "      <td>...</td>\n",
       "      <td>...</td>\n",
       "      <td>...</td>\n",
       "      <td>...</td>\n",
       "      <td>...</td>\n",
       "      <td>...</td>\n",
       "      <td>...</td>\n",
       "      <td>...</td>\n",
       "      <td>...</td>\n",
       "      <td>...</td>\n",
       "      <td>...</td>\n",
       "      <td>...</td>\n",
       "      <td>...</td>\n",
       "      <td>...</td>\n",
       "    </tr>\n",
       "    <tr>\n",
       "      <th>3991</th>\n",
       "      <td>3991</td>\n",
       "      <td>994</td>\n",
       "      <td>-0.520707</td>\n",
       "      <td>-0.487373</td>\n",
       "      <td>0.144352</td>\n",
       "      <td>0.063050</td>\n",
       "      <td>0.106835</td>\n",
       "      <td>-0.189484</td>\n",
       "      <td>0.081531</td>\n",
       "      <td>0.314267</td>\n",
       "      <td>...</td>\n",
       "      <td>-0.334263</td>\n",
       "      <td>-0.240833</td>\n",
       "      <td>0.092752</td>\n",
       "      <td>-0.130132</td>\n",
       "      <td>-0.270268</td>\n",
       "      <td>-0.030455</td>\n",
       "      <td>0.034798</td>\n",
       "      <td>0.224623</td>\n",
       "      <td>1596758400</td>\n",
       "      <td>0</td>\n",
       "    </tr>\n",
       "    <tr>\n",
       "      <th>3992</th>\n",
       "      <td>3992</td>\n",
       "      <td>995</td>\n",
       "      <td>-0.012538</td>\n",
       "      <td>-0.452542</td>\n",
       "      <td>0.167107</td>\n",
       "      <td>0.047215</td>\n",
       "      <td>-0.331293</td>\n",
       "      <td>-0.220291</td>\n",
       "      <td>0.866564</td>\n",
       "      <td>0.184508</td>\n",
       "      <td>...</td>\n",
       "      <td>0.309732</td>\n",
       "      <td>-0.363114</td>\n",
       "      <td>0.069599</td>\n",
       "      <td>-0.153434</td>\n",
       "      <td>-0.094220</td>\n",
       "      <td>-0.283501</td>\n",
       "      <td>0.416555</td>\n",
       "      <td>0.148161</td>\n",
       "      <td>1550793600</td>\n",
       "      <td>1</td>\n",
       "    </tr>\n",
       "    <tr>\n",
       "      <th>3993</th>\n",
       "      <td>3993</td>\n",
       "      <td>996</td>\n",
       "      <td>-0.362439</td>\n",
       "      <td>-0.355747</td>\n",
       "      <td>0.476702</td>\n",
       "      <td>-0.260408</td>\n",
       "      <td>-0.943103</td>\n",
       "      <td>-0.023870</td>\n",
       "      <td>0.514249</td>\n",
       "      <td>0.663708</td>\n",
       "      <td>...</td>\n",
       "      <td>0.591386</td>\n",
       "      <td>0.024250</td>\n",
       "      <td>0.524859</td>\n",
       "      <td>0.207623</td>\n",
       "      <td>-0.409921</td>\n",
       "      <td>-0.378747</td>\n",
       "      <td>0.055286</td>\n",
       "      <td>0.367741</td>\n",
       "      <td>1584576000</td>\n",
       "      <td>1</td>\n",
       "    </tr>\n",
       "    <tr>\n",
       "      <th>3994</th>\n",
       "      <td>3994</td>\n",
       "      <td>997</td>\n",
       "      <td>0.169624</td>\n",
       "      <td>-0.067058</td>\n",
       "      <td>-0.158985</td>\n",
       "      <td>-0.295147</td>\n",
       "      <td>-0.060189</td>\n",
       "      <td>-0.441862</td>\n",
       "      <td>0.217594</td>\n",
       "      <td>0.927954</td>\n",
       "      <td>...</td>\n",
       "      <td>0.308782</td>\n",
       "      <td>-0.077360</td>\n",
       "      <td>-0.095935</td>\n",
       "      <td>-0.633258</td>\n",
       "      <td>-0.025333</td>\n",
       "      <td>-0.267030</td>\n",
       "      <td>-0.184257</td>\n",
       "      <td>0.096888</td>\n",
       "      <td>1585699200</td>\n",
       "      <td>1</td>\n",
       "    </tr>\n",
       "    <tr>\n",
       "      <th>3995</th>\n",
       "      <td>3995</td>\n",
       "      <td>998</td>\n",
       "      <td>-0.394736</td>\n",
       "      <td>0.032571</td>\n",
       "      <td>0.153030</td>\n",
       "      <td>0.184908</td>\n",
       "      <td>-0.277255</td>\n",
       "      <td>-0.673968</td>\n",
       "      <td>0.538810</td>\n",
       "      <td>1.053351</td>\n",
       "      <td>...</td>\n",
       "      <td>-0.102281</td>\n",
       "      <td>-0.257655</td>\n",
       "      <td>0.243929</td>\n",
       "      <td>0.061871</td>\n",
       "      <td>-0.294445</td>\n",
       "      <td>-0.335691</td>\n",
       "      <td>0.656285</td>\n",
       "      <td>0.343614</td>\n",
       "      <td>1596412800</td>\n",
       "      <td>1</td>\n",
       "    </tr>\n",
       "  </tbody>\n",
       "</table>\n",
       "<p>3996 rows × 772 columns</p>\n",
       "</div>"
      ],
      "text/plain": [
       "      Unnamed: 0  Unnamed: 0.1         0         1         2         3  \\\n",
       "0              0             0 -0.234506  0.001747 -0.425283 -0.185730   \n",
       "1              1             1 -0.774405 -0.042122  0.240691  0.124148   \n",
       "2              2             2 -0.960810  0.046204 -0.002165 -0.057394   \n",
       "3              3             3 -0.226224  0.123770  0.048377  0.268313   \n",
       "4              4             4 -0.422775  0.277691 -0.753847 -0.029567   \n",
       "...          ...           ...       ...       ...       ...       ...   \n",
       "3991        3991           994 -0.520707 -0.487373  0.144352  0.063050   \n",
       "3992        3992           995 -0.012538 -0.452542  0.167107  0.047215   \n",
       "3993        3993           996 -0.362439 -0.355747  0.476702 -0.260408   \n",
       "3994        3994           997  0.169624 -0.067058 -0.158985 -0.295147   \n",
       "3995        3995           998 -0.394736  0.032571  0.153030  0.184908   \n",
       "\n",
       "             4         5         6         7  ...       760       761  \\\n",
       "0    -0.449682 -0.285066  0.336206  0.365718  ... -0.363680  0.000903   \n",
       "1    -0.406130  0.157978  0.264758  0.396746  ...  0.192102 -0.469086   \n",
       "2    -0.519912  0.236540  0.252079  0.080769  ...  1.118973  0.082588   \n",
       "3    -0.452042 -0.152237  0.045668  0.364201  ...  0.130809 -0.304922   \n",
       "4    -0.922903 -0.034563  0.491929  0.624603  ...  0.446212  0.008098   \n",
       "...        ...       ...       ...       ...  ...       ...       ...   \n",
       "3991  0.106835 -0.189484  0.081531  0.314267  ... -0.334263 -0.240833   \n",
       "3992 -0.331293 -0.220291  0.866564  0.184508  ...  0.309732 -0.363114   \n",
       "3993 -0.943103 -0.023870  0.514249  0.663708  ...  0.591386  0.024250   \n",
       "3994 -0.060189 -0.441862  0.217594  0.927954  ...  0.308782 -0.077360   \n",
       "3995 -0.277255 -0.673968  0.538810  1.053351  ... -0.102281 -0.257655   \n",
       "\n",
       "           762       763       764       765       766       767   timestamp  \\\n",
       "0     0.321855 -0.025091 -0.262637 -0.499886  0.205020  0.290831  1592265600   \n",
       "1     0.613902  0.126426 -0.471794 -0.439522  0.561788  0.474558  1611100800   \n",
       "2    -0.012194 -0.595636 -0.414950 -0.104115 -0.020574  0.189930  1597536000   \n",
       "3     0.107301 -0.140509 -0.510929 -0.084037  0.537480  0.413021  1613088000   \n",
       "4     0.457908  0.246349  0.069831 -0.714982  0.303541  0.257397  1584921600   \n",
       "...        ...       ...       ...       ...       ...       ...         ...   \n",
       "3991  0.092752 -0.130132 -0.270268 -0.030455  0.034798  0.224623  1596758400   \n",
       "3992  0.069599 -0.153434 -0.094220 -0.283501  0.416555  0.148161  1550793600   \n",
       "3993  0.524859  0.207623 -0.409921 -0.378747  0.055286  0.367741  1584576000   \n",
       "3994 -0.095935 -0.633258 -0.025333 -0.267030 -0.184257  0.096888  1585699200   \n",
       "3995  0.243929  0.061871 -0.294445 -0.335691  0.656285  0.343614  1596412800   \n",
       "\n",
       "      direct  \n",
       "0          1  \n",
       "1          0  \n",
       "2          1  \n",
       "3          0  \n",
       "4          1  \n",
       "...      ...  \n",
       "3991       0  \n",
       "3992       1  \n",
       "3993       1  \n",
       "3994       1  \n",
       "3995       1  \n",
       "\n",
       "[3996 rows x 772 columns]"
      ]
     },
     "execution_count": 29,
     "metadata": {},
     "output_type": "execute_result"
    }
   ],
   "source": [
    "test = pd.read_csv(f'{folder}/set_1.csv')\n",
    "test"
   ]
  },
  {
   "cell_type": "code",
   "execution_count": 30,
   "id": "63baacf4",
   "metadata": {},
   "outputs": [
    {
     "data": {
      "text/plain": [
       "array([[-0.23450609,  0.00174726, -0.4252834 , ..., -0.49988624,\n",
       "         0.20502003,  0.2908311 ],\n",
       "       [-0.7744051 , -0.04212204,  0.24069141, ..., -0.43952185,\n",
       "         0.56178784,  0.47455823],\n",
       "       [-0.96081024,  0.0462044 , -0.00216468, ..., -0.1041152 ,\n",
       "        -0.02057445,  0.18992996],\n",
       "       ...,\n",
       "       [-0.36243883, -0.35574695,  0.4767023 , ..., -0.3787471 ,\n",
       "         0.0552863 ,  0.36774135],\n",
       "       [ 0.16962445, -0.06705774, -0.15898511, ..., -0.2670297 ,\n",
       "        -0.18425675,  0.09688773],\n",
       "       [-0.39473602,  0.0325707 ,  0.15303004, ..., -0.3356912 ,\n",
       "         0.6562847 ,  0.34361416]])"
      ]
     },
     "execution_count": 30,
     "metadata": {},
     "output_type": "execute_result"
    }
   ],
   "source": [
    "x_test = np.array(test.iloc[:,2:770])\n",
    "x_test"
   ]
  },
  {
   "cell_type": "code",
   "execution_count": 31,
   "id": "8144d025",
   "metadata": {},
   "outputs": [
    {
     "data": {
      "text/plain": [
       "array([1, 0, 1, ..., 1, 1, 1], dtype=int64)"
      ]
     },
     "execution_count": 31,
     "metadata": {},
     "output_type": "execute_result"
    }
   ],
   "source": [
    "y_test = np.array(test['direct'])\n",
    "y_test"
   ]
  },
  {
   "cell_type": "code",
   "execution_count": 32,
   "id": "cb811f49",
   "metadata": {},
   "outputs": [
    {
     "name": "stdout",
     "output_type": "stream",
     "text": [
      "125/125 [==============================] - 1s 4ms/step - loss: 0.7761 - binary_accuracy: 0.5528\n",
      "[0.7760761380195618, 0.5528028011322021]\n"
     ]
    }
   ],
   "source": [
    "results = model.evaluate(x_test, y_test)\n",
    "print(results)"
   ]
  },
  {
   "cell_type": "code",
   "execution_count": 33,
   "id": "1735d8fe",
   "metadata": {
    "scrolled": true
   },
   "outputs": [
    {
     "data": {
      "text/plain": [
       "array([[0.5185213 ],\n",
       "       [0.51759183],\n",
       "       [0.5237538 ],\n",
       "       ...,\n",
       "       [0.5203293 ],\n",
       "       [0.5159704 ],\n",
       "       [0.51222754]], dtype=float32)"
      ]
     },
     "execution_count": 33,
     "metadata": {},
     "output_type": "execute_result"
    }
   ],
   "source": [
    "predictions = model.predict(x_test)\n",
    "predictions"
   ]
  },
  {
   "cell_type": "code",
   "execution_count": 37,
   "id": "315ad4fc",
   "metadata": {},
   "outputs": [
    {
     "data": {
      "text/plain": [
       "1    3996\n",
       "Name: direct, dtype: int64"
      ]
     },
     "execution_count": 37,
     "metadata": {},
     "output_type": "execute_result"
    }
   ],
   "source": [
    "threshold = 0.5\n",
    "predictions_df = pd.DataFrame()\n",
    "predictions_df['direct'] = [1 if val > threshold else 0 for val in predictions]\n",
    "predictions_df['direct'].value_counts()"
   ]
  },
  {
   "cell_type": "code",
   "execution_count": 53,
   "id": "e1999638",
   "metadata": {},
   "outputs": [],
   "source": [
    "from sklearn.metrics import mean_squared_error\n",
    "from sklearn.metrics import accuracy_score\n",
    "from sklearn.metrics import confusion_matrix\n",
    "from sklearn.metrics import roc_auc_score"
   ]
  },
  {
   "cell_type": "code",
   "execution_count": 45,
   "id": "d312079e",
   "metadata": {
    "scrolled": true
   },
   "outputs": [
    {
     "name": "stdout",
     "output_type": "stream",
     "text": [
      "[[   0    0]\n",
      " [1787 2209]]\n",
      "0.5528028028028028\n"
     ]
    }
   ],
   "source": [
    "#print(roc_auc_score(predictions_df['direct'], y_test))\n",
    "print(confusion_matrix(predictions_df['direct'], y_test))\n",
    "print(accuracy_score(predictions_df['direct'], y_test))"
   ]
  },
  {
   "cell_type": "code",
   "execution_count": null,
   "id": "8c6fbd4a",
   "metadata": {},
   "outputs": [],
   "source": [
    "from sklearn.linear_model import LogisticRegression\n",
    "from sklearn.model_selection import GridSearchCV\n",
    "from sklearn.model_selection import cross_val_score"
   ]
  },
  {
   "cell_type": "code",
   "execution_count": 55,
   "id": "a5d2daae",
   "metadata": {},
   "outputs": [
    {
     "name": "stdout",
     "output_type": "stream",
     "text": [
      "best parameters:  {'C': 0.0001}\n",
      "best scrores:  0.5456493530567604\n",
      "Wall time: 3h 21min 40s\n",
      "Parser   : 174 ms\n"
     ]
    }
   ],
   "source": [
    "%%time\n",
    "parameters = {'C': np.linspace(0.0001, 100, 20)}\n",
    "grid_search = GridSearchCV(LogisticRegression(solver=\"saga\"), parameters)\n",
    "grid_search.fit(x_train, y_train)\n",
    "\n",
    "print('best parameters: ', grid_search.best_params_)\n",
    "print('best scrores: ', grid_search.best_score_)"
   ]
  },
  {
   "cell_type": "code",
   "execution_count": 59,
   "id": "9d677b2a",
   "metadata": {},
   "outputs": [
    {
     "name": "stdout",
     "output_type": "stream",
     "text": [
      "Wall time: 14min 28s\n"
     ]
    },
    {
     "data": {
      "text/plain": [
       "LogisticRegression(C=0.0001, solver='saga')"
      ]
     },
     "execution_count": 59,
     "metadata": {},
     "output_type": "execute_result"
    }
   ],
   "source": [
    "%%time\n",
    "clf = LogisticRegression(solver=\"saga\", C=0.0001)\n",
    "clf.fit(x_train, y_train)"
   ]
  },
  {
   "cell_type": "code",
   "execution_count": 60,
   "id": "1605db2b",
   "metadata": {},
   "outputs": [
    {
     "data": {
      "text/plain": [
       "0.5528028028028028"
      ]
     },
     "execution_count": 60,
     "metadata": {},
     "output_type": "execute_result"
    }
   ],
   "source": [
    "clf.score(x_test, y_test)"
   ]
  },
  {
   "cell_type": "code",
   "execution_count": 63,
   "id": "d3eba1ea",
   "metadata": {},
   "outputs": [
    {
     "name": "stdout",
     "output_type": "stream",
     "text": [
      "Dummy classifier score: 0.553 (+/- 0.00)\n"
     ]
    }
   ],
   "source": [
    "from sklearn.dummy import DummyClassifier\n",
    "clf_dummy = DummyClassifier()\n",
    "\n",
    "scores = cross_val_score(clf_dummy, x_test, y_test)\n",
    "print(\"Dummy classifier score: %0.3f (+/- %0.2f)\" % (scores.mean(), scores.std() * 2))"
   ]
  },
  {
   "cell_type": "code",
   "execution_count": 67,
   "id": "bdce15f0",
   "metadata": {},
   "outputs": [],
   "source": [
    "from sklearn.ensemble import RandomForestRegressor"
   ]
  },
  {
   "cell_type": "code",
   "execution_count": null,
   "id": "0047593c",
   "metadata": {},
   "outputs": [],
   "source": [
    "%%time\n",
    "rf = RandomForestRegressor(n_estimators = 1000)\n",
    "rf.fit(x_train, y_train)"
   ]
  },
  {
   "cell_type": "code",
   "execution_count": null,
   "id": "9b990702",
   "metadata": {},
   "outputs": [],
   "source": [
    "rf_pred = rf.predict(x_test)"
   ]
  }
 ],
 "metadata": {
  "kernelspec": {
   "display_name": "ml",
   "language": "python",
   "name": "ml"
  },
  "language_info": {
   "codemirror_mode": {
    "name": "ipython",
    "version": 3
   },
   "file_extension": ".py",
   "mimetype": "text/x-python",
   "name": "python",
   "nbconvert_exporter": "python",
   "pygments_lexer": "ipython3",
   "version": "3.8.9"
  }
 },
 "nbformat": 4,
 "nbformat_minor": 5
}
