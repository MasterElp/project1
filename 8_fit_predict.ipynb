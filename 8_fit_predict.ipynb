{
 "cells": [
  {
   "cell_type": "code",
   "execution_count": 1,
   "id": "70c53c39",
   "metadata": {},
   "outputs": [],
   "source": [
    "import pandas as pd\n",
    "import numpy as np\n",
    "folder = 'd:/git/project1/data'"
   ]
  },
  {
   "cell_type": "code",
   "execution_count": 2,
   "id": "b783b4db",
   "metadata": {
    "scrolled": true
   },
   "outputs": [],
   "source": [
    "#data = pd.read_csv(f'{folder}/last_hs_tweets_ch1_0.csv')\n",
    "#data"
   ]
  },
  {
   "cell_type": "code",
   "execution_count": 2,
   "id": "62bf1ec7",
   "metadata": {},
   "outputs": [],
   "source": [
    "def load_parts(name, start, end):\n",
    "    data = pd.DataFrame(None)\n",
    "    for num in range(start, end):\n",
    "        data_part = pd.read_csv(f'{folder}/{name}_{num*1000}.csv')\n",
    "        data = data.append(data_part, sort=False, ignore_index=True)\n",
    "    #res_table.to_csv(f'{folder}\\cls_direct30_{num}.csv', index=False)\n",
    "    return data"
   ]
  },
  {
   "cell_type": "code",
   "execution_count": 4,
   "id": "327e2cdc",
   "metadata": {},
   "outputs": [
    {
     "ename": "KeyboardInterrupt",
     "evalue": "",
     "output_type": "error",
     "traceback": [
      "\u001b[1;31m---------------------------------------------------------------------------\u001b[0m",
      "\u001b[1;31mKeyboardInterrupt\u001b[0m                         Traceback (most recent call last)",
      "\u001b[1;32m<timed exec>\u001b[0m in \u001b[0;36m<module>\u001b[1;34m\u001b[0m\n",
      "\u001b[1;32m<ipython-input-2-c822d488b2bb>\u001b[0m in \u001b[0;36mload_parts\u001b[1;34m(name, start, end)\u001b[0m\n\u001b[0;32m      3\u001b[0m     \u001b[1;32mfor\u001b[0m \u001b[0mnum\u001b[0m \u001b[1;32min\u001b[0m \u001b[0mrange\u001b[0m\u001b[1;33m(\u001b[0m\u001b[0mstart\u001b[0m\u001b[1;33m,\u001b[0m \u001b[0mend\u001b[0m\u001b[1;33m)\u001b[0m\u001b[1;33m:\u001b[0m\u001b[1;33m\u001b[0m\u001b[1;33m\u001b[0m\u001b[0m\n\u001b[0;32m      4\u001b[0m         \u001b[0mdata_part\u001b[0m \u001b[1;33m=\u001b[0m \u001b[0mpd\u001b[0m\u001b[1;33m.\u001b[0m\u001b[0mread_csv\u001b[0m\u001b[1;33m(\u001b[0m\u001b[1;34mf'{folder}/{name}_{num*1000}.csv'\u001b[0m\u001b[1;33m)\u001b[0m\u001b[1;33m\u001b[0m\u001b[1;33m\u001b[0m\u001b[0m\n\u001b[1;32m----> 5\u001b[1;33m         \u001b[0mdata\u001b[0m \u001b[1;33m=\u001b[0m \u001b[0mdata\u001b[0m\u001b[1;33m.\u001b[0m\u001b[0mappend\u001b[0m\u001b[1;33m(\u001b[0m\u001b[0mdata_part\u001b[0m\u001b[1;33m,\u001b[0m \u001b[0msort\u001b[0m\u001b[1;33m=\u001b[0m\u001b[1;32mFalse\u001b[0m\u001b[1;33m,\u001b[0m \u001b[0mignore_index\u001b[0m\u001b[1;33m=\u001b[0m\u001b[1;32mTrue\u001b[0m\u001b[1;33m)\u001b[0m\u001b[1;33m\u001b[0m\u001b[1;33m\u001b[0m\u001b[0m\n\u001b[0m\u001b[0;32m      6\u001b[0m     \u001b[1;31m#res_table.to_csv(f'{folder}\\cls_direct30_{num}.csv', index=False)\u001b[0m\u001b[1;33m\u001b[0m\u001b[1;33m\u001b[0m\u001b[1;33m\u001b[0m\u001b[0m\n\u001b[0;32m      7\u001b[0m     \u001b[1;32mreturn\u001b[0m \u001b[0mdata\u001b[0m\u001b[1;33m\u001b[0m\u001b[1;33m\u001b[0m\u001b[0m\n",
      "\u001b[1;32mD:\\git\\project1\\ml\\lib\\site-packages\\pandas\\core\\frame.py\u001b[0m in \u001b[0;36mappend\u001b[1;34m(self, other, ignore_index, verify_integrity, sort)\u001b[0m\n\u001b[0;32m   7980\u001b[0m             \u001b[0mto_concat\u001b[0m \u001b[1;33m=\u001b[0m \u001b[1;33m[\u001b[0m\u001b[0mself\u001b[0m\u001b[1;33m,\u001b[0m \u001b[0mother\u001b[0m\u001b[1;33m]\u001b[0m\u001b[1;33m\u001b[0m\u001b[1;33m\u001b[0m\u001b[0m\n\u001b[0;32m   7981\u001b[0m         return (\n\u001b[1;32m-> 7982\u001b[1;33m             concat(\n\u001b[0m\u001b[0;32m   7983\u001b[0m                 \u001b[0mto_concat\u001b[0m\u001b[1;33m,\u001b[0m\u001b[1;33m\u001b[0m\u001b[1;33m\u001b[0m\u001b[0m\n\u001b[0;32m   7984\u001b[0m                 \u001b[0mignore_index\u001b[0m\u001b[1;33m=\u001b[0m\u001b[0mignore_index\u001b[0m\u001b[1;33m,\u001b[0m\u001b[1;33m\u001b[0m\u001b[1;33m\u001b[0m\u001b[0m\n",
      "\u001b[1;32mD:\\git\\project1\\ml\\lib\\site-packages\\pandas\\core\\reshape\\concat.py\u001b[0m in \u001b[0;36mconcat\u001b[1;34m(objs, axis, join, ignore_index, keys, levels, names, verify_integrity, sort, copy)\u001b[0m\n\u001b[0;32m    296\u001b[0m     )\n\u001b[0;32m    297\u001b[0m \u001b[1;33m\u001b[0m\u001b[0m\n\u001b[1;32m--> 298\u001b[1;33m     \u001b[1;32mreturn\u001b[0m \u001b[0mop\u001b[0m\u001b[1;33m.\u001b[0m\u001b[0mget_result\u001b[0m\u001b[1;33m(\u001b[0m\u001b[1;33m)\u001b[0m\u001b[1;33m\u001b[0m\u001b[1;33m\u001b[0m\u001b[0m\n\u001b[0m\u001b[0;32m    299\u001b[0m \u001b[1;33m\u001b[0m\u001b[0m\n\u001b[0;32m    300\u001b[0m \u001b[1;33m\u001b[0m\u001b[0m\n",
      "\u001b[1;32mD:\\git\\project1\\ml\\lib\\site-packages\\pandas\\core\\reshape\\concat.py\u001b[0m in \u001b[0;36mget_result\u001b[1;34m(self)\u001b[0m\n\u001b[0;32m    518\u001b[0m                 \u001b[0mmgrs_indexers\u001b[0m\u001b[1;33m.\u001b[0m\u001b[0mappend\u001b[0m\u001b[1;33m(\u001b[0m\u001b[1;33m(\u001b[0m\u001b[0mobj\u001b[0m\u001b[1;33m.\u001b[0m\u001b[0m_mgr\u001b[0m\u001b[1;33m,\u001b[0m \u001b[0mindexers\u001b[0m\u001b[1;33m)\u001b[0m\u001b[1;33m)\u001b[0m\u001b[1;33m\u001b[0m\u001b[1;33m\u001b[0m\u001b[0m\n\u001b[0;32m    519\u001b[0m \u001b[1;33m\u001b[0m\u001b[0m\n\u001b[1;32m--> 520\u001b[1;33m             new_data = concatenate_block_managers(\n\u001b[0m\u001b[0;32m    521\u001b[0m                 \u001b[0mmgrs_indexers\u001b[0m\u001b[1;33m,\u001b[0m \u001b[0mself\u001b[0m\u001b[1;33m.\u001b[0m\u001b[0mnew_axes\u001b[0m\u001b[1;33m,\u001b[0m \u001b[0mconcat_axis\u001b[0m\u001b[1;33m=\u001b[0m\u001b[0mself\u001b[0m\u001b[1;33m.\u001b[0m\u001b[0mbm_axis\u001b[0m\u001b[1;33m,\u001b[0m \u001b[0mcopy\u001b[0m\u001b[1;33m=\u001b[0m\u001b[0mself\u001b[0m\u001b[1;33m.\u001b[0m\u001b[0mcopy\u001b[0m\u001b[1;33m\u001b[0m\u001b[1;33m\u001b[0m\u001b[0m\n\u001b[0;32m    522\u001b[0m             )\n",
      "\u001b[1;32mD:\\git\\project1\\ml\\lib\\site-packages\\pandas\\core\\internals\\concat.py\u001b[0m in \u001b[0;36mconcatenate_block_managers\u001b[1;34m(mgrs_indexers, axes, concat_axis, copy)\u001b[0m\n\u001b[0;32m     81\u001b[0m         \u001b[1;32melse\u001b[0m\u001b[1;33m:\u001b[0m\u001b[1;33m\u001b[0m\u001b[1;33m\u001b[0m\u001b[0m\n\u001b[0;32m     82\u001b[0m             b = make_block(\n\u001b[1;32m---> 83\u001b[1;33m                 \u001b[0m_concatenate_join_units\u001b[0m\u001b[1;33m(\u001b[0m\u001b[0mjoin_units\u001b[0m\u001b[1;33m,\u001b[0m \u001b[0mconcat_axis\u001b[0m\u001b[1;33m,\u001b[0m \u001b[0mcopy\u001b[0m\u001b[1;33m=\u001b[0m\u001b[0mcopy\u001b[0m\u001b[1;33m)\u001b[0m\u001b[1;33m,\u001b[0m\u001b[1;33m\u001b[0m\u001b[1;33m\u001b[0m\u001b[0m\n\u001b[0m\u001b[0;32m     84\u001b[0m                 \u001b[0mplacement\u001b[0m\u001b[1;33m=\u001b[0m\u001b[0mplacement\u001b[0m\u001b[1;33m,\u001b[0m\u001b[1;33m\u001b[0m\u001b[1;33m\u001b[0m\u001b[0m\n\u001b[0;32m     85\u001b[0m                 \u001b[0mndim\u001b[0m\u001b[1;33m=\u001b[0m\u001b[0mlen\u001b[0m\u001b[1;33m(\u001b[0m\u001b[0maxes\u001b[0m\u001b[1;33m)\u001b[0m\u001b[1;33m,\u001b[0m\u001b[1;33m\u001b[0m\u001b[1;33m\u001b[0m\u001b[0m\n",
      "\u001b[1;32mD:\\git\\project1\\ml\\lib\\site-packages\\pandas\\core\\internals\\concat.py\u001b[0m in \u001b[0;36m_concatenate_join_units\u001b[1;34m(join_units, concat_axis, copy)\u001b[0m\n\u001b[0;32m    341\u001b[0m             \u001b[0mconcat_values\u001b[0m \u001b[1;33m=\u001b[0m \u001b[0mnp\u001b[0m\u001b[1;33m.\u001b[0m\u001b[0matleast_2d\u001b[0m\u001b[1;33m(\u001b[0m\u001b[0mconcat_values\u001b[0m\u001b[1;33m)\u001b[0m\u001b[1;33m\u001b[0m\u001b[1;33m\u001b[0m\u001b[0m\n\u001b[0;32m    342\u001b[0m     \u001b[1;32melse\u001b[0m\u001b[1;33m:\u001b[0m\u001b[1;33m\u001b[0m\u001b[1;33m\u001b[0m\u001b[0m\n\u001b[1;32m--> 343\u001b[1;33m         \u001b[0mconcat_values\u001b[0m \u001b[1;33m=\u001b[0m \u001b[0mconcat_compat\u001b[0m\u001b[1;33m(\u001b[0m\u001b[0mto_concat\u001b[0m\u001b[1;33m,\u001b[0m \u001b[0maxis\u001b[0m\u001b[1;33m=\u001b[0m\u001b[0mconcat_axis\u001b[0m\u001b[1;33m)\u001b[0m\u001b[1;33m\u001b[0m\u001b[1;33m\u001b[0m\u001b[0m\n\u001b[0m\u001b[0;32m    344\u001b[0m \u001b[1;33m\u001b[0m\u001b[0m\n\u001b[0;32m    345\u001b[0m     \u001b[1;32mreturn\u001b[0m \u001b[0mconcat_values\u001b[0m\u001b[1;33m\u001b[0m\u001b[1;33m\u001b[0m\u001b[0m\n",
      "\u001b[1;32mD:\\git\\project1\\ml\\lib\\site-packages\\pandas\\core\\dtypes\\concat.py\u001b[0m in \u001b[0;36mconcat_compat\u001b[1;34m(to_concat, axis)\u001b[0m\n\u001b[0;32m    169\u001b[0m                 \u001b[0mto_concat\u001b[0m \u001b[1;33m=\u001b[0m \u001b[1;33m[\u001b[0m\u001b[0mx\u001b[0m\u001b[1;33m.\u001b[0m\u001b[0mastype\u001b[0m\u001b[1;33m(\u001b[0m\u001b[1;34m\"object\"\u001b[0m\u001b[1;33m)\u001b[0m \u001b[1;32mfor\u001b[0m \u001b[0mx\u001b[0m \u001b[1;32min\u001b[0m \u001b[0mto_concat\u001b[0m\u001b[1;33m]\u001b[0m\u001b[1;33m\u001b[0m\u001b[1;33m\u001b[0m\u001b[0m\n\u001b[0;32m    170\u001b[0m \u001b[1;33m\u001b[0m\u001b[0m\n\u001b[1;32m--> 171\u001b[1;33m     \u001b[1;32mreturn\u001b[0m \u001b[0mnp\u001b[0m\u001b[1;33m.\u001b[0m\u001b[0mconcatenate\u001b[0m\u001b[1;33m(\u001b[0m\u001b[0mto_concat\u001b[0m\u001b[1;33m,\u001b[0m \u001b[0maxis\u001b[0m\u001b[1;33m=\u001b[0m\u001b[0maxis\u001b[0m\u001b[1;33m)\u001b[0m\u001b[1;33m\u001b[0m\u001b[1;33m\u001b[0m\u001b[0m\n\u001b[0m\u001b[0;32m    172\u001b[0m \u001b[1;33m\u001b[0m\u001b[0m\n\u001b[0;32m    173\u001b[0m \u001b[1;33m\u001b[0m\u001b[0m\n",
      "\u001b[1;32m<__array_function__ internals>\u001b[0m in \u001b[0;36mconcatenate\u001b[1;34m(*args, **kwargs)\u001b[0m\n",
      "\u001b[1;31mKeyboardInterrupt\u001b[0m: "
     ]
    }
   ],
   "source": [
    "%%time\n",
    "data = load_parts('last_hs_tweets_ch', 0, 285)\n",
    "data"
   ]
  },
  {
   "cell_type": "code",
   "execution_count": 5,
   "id": "07427cb0",
   "metadata": {},
   "outputs": [
    {
     "name": "stdout",
     "output_type": "stream",
     "text": [
      "Wall time: 6.69 s\n"
     ]
    },
    {
     "data": {
      "text/html": [
       "<div>\n",
       "<style scoped>\n",
       "    .dataframe tbody tr th:only-of-type {\n",
       "        vertical-align: middle;\n",
       "    }\n",
       "\n",
       "    .dataframe tbody tr th {\n",
       "        vertical-align: top;\n",
       "    }\n",
       "\n",
       "    .dataframe thead th {\n",
       "        text-align: right;\n",
       "    }\n",
       "</style>\n",
       "<table border=\"1\" class=\"dataframe\">\n",
       "  <thead>\n",
       "    <tr style=\"text-align: right;\">\n",
       "      <th></th>\n",
       "      <th>0</th>\n",
       "      <th>1</th>\n",
       "      <th>2</th>\n",
       "      <th>3</th>\n",
       "      <th>4</th>\n",
       "      <th>5</th>\n",
       "      <th>6</th>\n",
       "      <th>7</th>\n",
       "      <th>8</th>\n",
       "      <th>9</th>\n",
       "      <th>...</th>\n",
       "      <th>764</th>\n",
       "      <th>765</th>\n",
       "      <th>766</th>\n",
       "      <th>767</th>\n",
       "      <th>retweet</th>\n",
       "      <th>time</th>\n",
       "      <th>change_1_direct</th>\n",
       "      <th>change_3_direct</th>\n",
       "      <th>change_7_direct</th>\n",
       "      <th>change_30_direct</th>\n",
       "    </tr>\n",
       "  </thead>\n",
       "  <tbody>\n",
       "    <tr>\n",
       "      <th>29539</th>\n",
       "      <td>0.067619</td>\n",
       "      <td>-0.191911</td>\n",
       "      <td>0.333055</td>\n",
       "      <td>-0.316047</td>\n",
       "      <td>-0.196082</td>\n",
       "      <td>-0.307870</td>\n",
       "      <td>0.155212</td>\n",
       "      <td>0.599575</td>\n",
       "      <td>0.075366</td>\n",
       "      <td>-0.377731</td>\n",
       "      <td>...</td>\n",
       "      <td>-0.237452</td>\n",
       "      <td>-0.400821</td>\n",
       "      <td>0.124449</td>\n",
       "      <td>0.498009</td>\n",
       "      <td>16.0</td>\n",
       "      <td>8123</td>\n",
       "      <td>1.0</td>\n",
       "      <td>1.0</td>\n",
       "      <td>1.0</td>\n",
       "      <td>1.0</td>\n",
       "    </tr>\n",
       "    <tr>\n",
       "      <th>182174</th>\n",
       "      <td>-0.435158</td>\n",
       "      <td>0.270208</td>\n",
       "      <td>-0.122333</td>\n",
       "      <td>-0.083537</td>\n",
       "      <td>-0.576564</td>\n",
       "      <td>-0.307605</td>\n",
       "      <td>0.450483</td>\n",
       "      <td>0.432259</td>\n",
       "      <td>-0.339518</td>\n",
       "      <td>0.201194</td>\n",
       "      <td>...</td>\n",
       "      <td>0.123925</td>\n",
       "      <td>-0.367187</td>\n",
       "      <td>0.364222</td>\n",
       "      <td>0.447037</td>\n",
       "      <td>3.0</td>\n",
       "      <td>32474</td>\n",
       "      <td>0.0</td>\n",
       "      <td>1.0</td>\n",
       "      <td>1.0</td>\n",
       "      <td>1.0</td>\n",
       "    </tr>\n",
       "    <tr>\n",
       "      <th>92661</th>\n",
       "      <td>-0.224528</td>\n",
       "      <td>0.022610</td>\n",
       "      <td>0.037308</td>\n",
       "      <td>0.215216</td>\n",
       "      <td>-0.257777</td>\n",
       "      <td>-0.313349</td>\n",
       "      <td>0.595111</td>\n",
       "      <td>0.493954</td>\n",
       "      <td>-0.211860</td>\n",
       "      <td>-0.143109</td>\n",
       "      <td>...</td>\n",
       "      <td>-0.258319</td>\n",
       "      <td>-0.276331</td>\n",
       "      <td>0.144908</td>\n",
       "      <td>0.749112</td>\n",
       "      <td>2.0</td>\n",
       "      <td>18020</td>\n",
       "      <td>0.0</td>\n",
       "      <td>1.0</td>\n",
       "      <td>0.0</td>\n",
       "      <td>1.0</td>\n",
       "    </tr>\n",
       "    <tr>\n",
       "      <th>93276</th>\n",
       "      <td>0.159126</td>\n",
       "      <td>-0.362576</td>\n",
       "      <td>0.022087</td>\n",
       "      <td>0.045013</td>\n",
       "      <td>-0.096006</td>\n",
       "      <td>-0.461935</td>\n",
       "      <td>0.355241</td>\n",
       "      <td>0.502833</td>\n",
       "      <td>-0.092659</td>\n",
       "      <td>-0.233123</td>\n",
       "      <td>...</td>\n",
       "      <td>-0.500020</td>\n",
       "      <td>-0.428637</td>\n",
       "      <td>0.026432</td>\n",
       "      <td>0.646155</td>\n",
       "      <td>2.0</td>\n",
       "      <td>31512</td>\n",
       "      <td>1.0</td>\n",
       "      <td>0.0</td>\n",
       "      <td>1.0</td>\n",
       "      <td>0.0</td>\n",
       "    </tr>\n",
       "    <tr>\n",
       "      <th>174649</th>\n",
       "      <td>-0.435158</td>\n",
       "      <td>0.270208</td>\n",
       "      <td>-0.122333</td>\n",
       "      <td>-0.083537</td>\n",
       "      <td>-0.576564</td>\n",
       "      <td>-0.307605</td>\n",
       "      <td>0.450483</td>\n",
       "      <td>0.432259</td>\n",
       "      <td>-0.339518</td>\n",
       "      <td>0.201194</td>\n",
       "      <td>...</td>\n",
       "      <td>0.123925</td>\n",
       "      <td>-0.367187</td>\n",
       "      <td>0.364222</td>\n",
       "      <td>0.447037</td>\n",
       "      <td>3.0</td>\n",
       "      <td>32474</td>\n",
       "      <td>0.0</td>\n",
       "      <td>1.0</td>\n",
       "      <td>1.0</td>\n",
       "      <td>1.0</td>\n",
       "    </tr>\n",
       "    <tr>\n",
       "      <th>...</th>\n",
       "      <td>...</td>\n",
       "      <td>...</td>\n",
       "      <td>...</td>\n",
       "      <td>...</td>\n",
       "      <td>...</td>\n",
       "      <td>...</td>\n",
       "      <td>...</td>\n",
       "      <td>...</td>\n",
       "      <td>...</td>\n",
       "      <td>...</td>\n",
       "      <td>...</td>\n",
       "      <td>...</td>\n",
       "      <td>...</td>\n",
       "      <td>...</td>\n",
       "      <td>...</td>\n",
       "      <td>...</td>\n",
       "      <td>...</td>\n",
       "      <td>...</td>\n",
       "      <td>...</td>\n",
       "      <td>...</td>\n",
       "      <td>...</td>\n",
       "    </tr>\n",
       "    <tr>\n",
       "      <th>55186</th>\n",
       "      <td>0.140894</td>\n",
       "      <td>-0.188134</td>\n",
       "      <td>0.140670</td>\n",
       "      <td>-0.011818</td>\n",
       "      <td>-0.030094</td>\n",
       "      <td>-0.566250</td>\n",
       "      <td>0.526216</td>\n",
       "      <td>0.621321</td>\n",
       "      <td>-0.049708</td>\n",
       "      <td>-0.384652</td>\n",
       "      <td>...</td>\n",
       "      <td>-0.196694</td>\n",
       "      <td>-0.168727</td>\n",
       "      <td>0.159127</td>\n",
       "      <td>0.275113</td>\n",
       "      <td>5.0</td>\n",
       "      <td>67797</td>\n",
       "      <td>0.0</td>\n",
       "      <td>0.0</td>\n",
       "      <td>0.0</td>\n",
       "      <td>1.0</td>\n",
       "    </tr>\n",
       "    <tr>\n",
       "      <th>197622</th>\n",
       "      <td>0.015909</td>\n",
       "      <td>-0.510408</td>\n",
       "      <td>0.014380</td>\n",
       "      <td>-0.189394</td>\n",
       "      <td>-0.825645</td>\n",
       "      <td>-0.245821</td>\n",
       "      <td>0.439949</td>\n",
       "      <td>0.384375</td>\n",
       "      <td>-0.027820</td>\n",
       "      <td>-0.214647</td>\n",
       "      <td>...</td>\n",
       "      <td>-0.044220</td>\n",
       "      <td>-0.302591</td>\n",
       "      <td>0.239027</td>\n",
       "      <td>0.305984</td>\n",
       "      <td>10.0</td>\n",
       "      <td>80915</td>\n",
       "      <td>0.0</td>\n",
       "      <td>0.0</td>\n",
       "      <td>0.0</td>\n",
       "      <td>1.0</td>\n",
       "    </tr>\n",
       "    <tr>\n",
       "      <th>115967</th>\n",
       "      <td>-0.040753</td>\n",
       "      <td>-0.076688</td>\n",
       "      <td>0.125699</td>\n",
       "      <td>0.116613</td>\n",
       "      <td>-0.148109</td>\n",
       "      <td>-0.269472</td>\n",
       "      <td>0.206317</td>\n",
       "      <td>0.701332</td>\n",
       "      <td>-0.092596</td>\n",
       "      <td>-0.347986</td>\n",
       "      <td>...</td>\n",
       "      <td>-0.472482</td>\n",
       "      <td>-0.512794</td>\n",
       "      <td>0.194736</td>\n",
       "      <td>0.425265</td>\n",
       "      <td>10.0</td>\n",
       "      <td>38565</td>\n",
       "      <td>1.0</td>\n",
       "      <td>1.0</td>\n",
       "      <td>1.0</td>\n",
       "      <td>1.0</td>\n",
       "    </tr>\n",
       "    <tr>\n",
       "      <th>165383</th>\n",
       "      <td>-0.435158</td>\n",
       "      <td>0.270208</td>\n",
       "      <td>-0.122333</td>\n",
       "      <td>-0.083537</td>\n",
       "      <td>-0.576564</td>\n",
       "      <td>-0.307605</td>\n",
       "      <td>0.450483</td>\n",
       "      <td>0.432259</td>\n",
       "      <td>-0.339518</td>\n",
       "      <td>0.201194</td>\n",
       "      <td>...</td>\n",
       "      <td>0.123925</td>\n",
       "      <td>-0.367187</td>\n",
       "      <td>0.364222</td>\n",
       "      <td>0.447037</td>\n",
       "      <td>3.0</td>\n",
       "      <td>32474</td>\n",
       "      <td>0.0</td>\n",
       "      <td>1.0</td>\n",
       "      <td>1.0</td>\n",
       "      <td>1.0</td>\n",
       "    </tr>\n",
       "    <tr>\n",
       "      <th>116067</th>\n",
       "      <td>-0.594664</td>\n",
       "      <td>-0.116015</td>\n",
       "      <td>0.213961</td>\n",
       "      <td>0.031859</td>\n",
       "      <td>-0.513133</td>\n",
       "      <td>-0.276457</td>\n",
       "      <td>-0.063036</td>\n",
       "      <td>0.140152</td>\n",
       "      <td>-0.111752</td>\n",
       "      <td>-0.047521</td>\n",
       "      <td>...</td>\n",
       "      <td>-0.350511</td>\n",
       "      <td>-0.454623</td>\n",
       "      <td>-0.007629</td>\n",
       "      <td>0.529051</td>\n",
       "      <td>2.0</td>\n",
       "      <td>21601</td>\n",
       "      <td>1.0</td>\n",
       "      <td>1.0</td>\n",
       "      <td>1.0</td>\n",
       "      <td>1.0</td>\n",
       "    </tr>\n",
       "  </tbody>\n",
       "</table>\n",
       "<p>250000 rows × 774 columns</p>\n",
       "</div>"
      ],
      "text/plain": [
       "               0         1         2         3         4         5         6  \\\n",
       "29539   0.067619 -0.191911  0.333055 -0.316047 -0.196082 -0.307870  0.155212   \n",
       "182174 -0.435158  0.270208 -0.122333 -0.083537 -0.576564 -0.307605  0.450483   \n",
       "92661  -0.224528  0.022610  0.037308  0.215216 -0.257777 -0.313349  0.595111   \n",
       "93276   0.159126 -0.362576  0.022087  0.045013 -0.096006 -0.461935  0.355241   \n",
       "174649 -0.435158  0.270208 -0.122333 -0.083537 -0.576564 -0.307605  0.450483   \n",
       "...          ...       ...       ...       ...       ...       ...       ...   \n",
       "55186   0.140894 -0.188134  0.140670 -0.011818 -0.030094 -0.566250  0.526216   \n",
       "197622  0.015909 -0.510408  0.014380 -0.189394 -0.825645 -0.245821  0.439949   \n",
       "115967 -0.040753 -0.076688  0.125699  0.116613 -0.148109 -0.269472  0.206317   \n",
       "165383 -0.435158  0.270208 -0.122333 -0.083537 -0.576564 -0.307605  0.450483   \n",
       "116067 -0.594664 -0.116015  0.213961  0.031859 -0.513133 -0.276457 -0.063036   \n",
       "\n",
       "               7         8         9  ...       764       765       766  \\\n",
       "29539   0.599575  0.075366 -0.377731  ... -0.237452 -0.400821  0.124449   \n",
       "182174  0.432259 -0.339518  0.201194  ...  0.123925 -0.367187  0.364222   \n",
       "92661   0.493954 -0.211860 -0.143109  ... -0.258319 -0.276331  0.144908   \n",
       "93276   0.502833 -0.092659 -0.233123  ... -0.500020 -0.428637  0.026432   \n",
       "174649  0.432259 -0.339518  0.201194  ...  0.123925 -0.367187  0.364222   \n",
       "...          ...       ...       ...  ...       ...       ...       ...   \n",
       "55186   0.621321 -0.049708 -0.384652  ... -0.196694 -0.168727  0.159127   \n",
       "197622  0.384375 -0.027820 -0.214647  ... -0.044220 -0.302591  0.239027   \n",
       "115967  0.701332 -0.092596 -0.347986  ... -0.472482 -0.512794  0.194736   \n",
       "165383  0.432259 -0.339518  0.201194  ...  0.123925 -0.367187  0.364222   \n",
       "116067  0.140152 -0.111752 -0.047521  ... -0.350511 -0.454623 -0.007629   \n",
       "\n",
       "             767  retweet   time  change_1_direct  change_3_direct  \\\n",
       "29539   0.498009     16.0   8123              1.0              1.0   \n",
       "182174  0.447037      3.0  32474              0.0              1.0   \n",
       "92661   0.749112      2.0  18020              0.0              1.0   \n",
       "93276   0.646155      2.0  31512              1.0              0.0   \n",
       "174649  0.447037      3.0  32474              0.0              1.0   \n",
       "...          ...      ...    ...              ...              ...   \n",
       "55186   0.275113      5.0  67797              0.0              0.0   \n",
       "197622  0.305984     10.0  80915              0.0              0.0   \n",
       "115967  0.425265     10.0  38565              1.0              1.0   \n",
       "165383  0.447037      3.0  32474              0.0              1.0   \n",
       "116067  0.529051      2.0  21601              1.0              1.0   \n",
       "\n",
       "        change_7_direct  change_30_direct  \n",
       "29539               1.0               1.0  \n",
       "182174              1.0               1.0  \n",
       "92661               0.0               1.0  \n",
       "93276               1.0               0.0  \n",
       "174649              1.0               1.0  \n",
       "...                 ...               ...  \n",
       "55186               0.0               1.0  \n",
       "197622              0.0               1.0  \n",
       "115967              1.0               1.0  \n",
       "165383              1.0               1.0  \n",
       "116067              1.0               1.0  \n",
       "\n",
       "[250000 rows x 774 columns]"
      ]
     },
     "execution_count": 5,
     "metadata": {},
     "output_type": "execute_result"
    }
   ],
   "source": [
    "%%time\n",
    "data_shaffle = data.sample(frac=1)\n",
    "data_shaffle"
   ]
  },
  {
   "cell_type": "code",
   "execution_count": 6,
   "id": "3839d12a",
   "metadata": {},
   "outputs": [
    {
     "data": {
      "text/plain": [
       "181240.0"
      ]
     },
     "execution_count": 6,
     "metadata": {},
     "output_type": "execute_result"
    }
   ],
   "source": [
    "data_shaffle['retweet'].max()"
   ]
  },
  {
   "cell_type": "code",
   "execution_count": 7,
   "id": "02b1c500",
   "metadata": {},
   "outputs": [
    {
     "data": {
      "text/plain": [
       "1.0"
      ]
     },
     "execution_count": 7,
     "metadata": {},
     "output_type": "execute_result"
    }
   ],
   "source": [
    "max = 181240\n",
    "data_shaffle['retweet'] = data_shaffle['retweet'].apply(lambda x: (x - max/2)/(max/2))\n",
    "data_shaffle['retweet'].max()"
   ]
  },
  {
   "cell_type": "code",
   "execution_count": 8,
   "id": "0297b312",
   "metadata": {},
   "outputs": [
    {
     "data": {
      "text/plain": [
       "86399"
      ]
     },
     "execution_count": 8,
     "metadata": {},
     "output_type": "execute_result"
    }
   ],
   "source": [
    "data_shaffle['time'].max()"
   ]
  },
  {
   "cell_type": "code",
   "execution_count": 9,
   "id": "1df2f7cd",
   "metadata": {},
   "outputs": [
    {
     "data": {
      "text/plain": [
       "1.0092790697674419"
      ]
     },
     "execution_count": 9,
     "metadata": {},
     "output_type": "execute_result"
    }
   ],
   "source": [
    "max = 86000\n",
    "data_shaffle['time'] = data_shaffle['time'].apply(lambda x: (x - max/2)/(max/2))\n",
    "data_shaffle['time'].max()"
   ]
  },
  {
   "cell_type": "code",
   "execution_count": 15,
   "id": "56bef17b",
   "metadata": {},
   "outputs": [],
   "source": [
    "#%%time\n",
    "#data.corr()[target].sort_values()\n",
    "data = data_shaffle.iloc[:200000,:]\n",
    "test = data_shaffle.iloc[200000:,:]"
   ]
  },
  {
   "cell_type": "code",
   "execution_count": 12,
   "id": "fee1a4ee",
   "metadata": {
    "scrolled": true
   },
   "outputs": [
    {
     "data": {
      "text/plain": [
       "array([[ 0.06761853, -0.19191095,  0.33305493, ...,  0.49800918,\n",
       "        -0.99982344, -0.81109302],\n",
       "       [-0.43515766,  0.27020758, -0.12233323, ...,  0.44703737,\n",
       "        -0.99996689, -0.2447907 ],\n",
       "       [-0.22452766,  0.02260985,  0.03730781, ...,  0.74911237,\n",
       "        -0.99997793, -0.58093023],\n",
       "       ...,\n",
       "       [ 0.07922406, -0.1660024 , -0.12670968, ...,  0.47899276,\n",
       "        -0.99997793,  0.73165116],\n",
       "       [ 0.08661289, -0.32624972,  0.20114493, ...,  0.3261087 ,\n",
       "        -0.99997793,  0.04697674],\n",
       "       [-0.11927438, -0.35546553, -0.08454706, ...,  0.73504585,\n",
       "        -0.99997793,  0.36930233]])"
      ]
     },
     "execution_count": 12,
     "metadata": {},
     "output_type": "execute_result"
    }
   ],
   "source": [
    "x_train = np.array(data.iloc[:,:770])\n",
    "x_train"
   ]
  },
  {
   "cell_type": "code",
   "execution_count": 45,
   "id": "201a48da",
   "metadata": {
    "scrolled": true
   },
   "outputs": [
    {
     "name": "stdout",
     "output_type": "stream",
     "text": [
      "Wall time: 0 ns\n"
     ]
    }
   ],
   "source": [
    "%%time\n",
    "#test = load_parts('last_hs_tweets_ch1', 115, 230)\n",
    "#test"
   ]
  },
  {
   "cell_type": "code",
   "execution_count": 21,
   "id": "63baacf4",
   "metadata": {},
   "outputs": [
    {
     "data": {
      "text/plain": [
       "array([[-0.02898919, -0.03325083, -0.0399362 , ...,  0.41756785,\n",
       "        -0.99997793,  0.38097674],\n",
       "       [-0.4013034 ,  0.10098396,  0.115592  , ...,  0.38311478,\n",
       "        -0.99945928, -0.53172093],\n",
       "       [-0.6249061 , -0.407576  ,  0.07233346, ...,  0.50195795,\n",
       "        -0.99997793, -0.60239535],\n",
       "       ...,\n",
       "       [-0.04075345, -0.07668772,  0.12569933, ...,  0.42526504,\n",
       "        -0.99988965, -0.10313953],\n",
       "       [-0.43515766,  0.27020758, -0.12233323, ...,  0.44703737,\n",
       "        -0.99996689, -0.2447907 ],\n",
       "       [-0.5946643 , -0.11601474,  0.21396062, ...,  0.52905107,\n",
       "        -0.99997793, -0.49765116]])"
      ]
     },
     "execution_count": 21,
     "metadata": {},
     "output_type": "execute_result"
    }
   ],
   "source": [
    "x_test = np.array(test.iloc[:,:770])\n",
    "x_test"
   ]
  },
  {
   "cell_type": "code",
   "execution_count": 134,
   "id": "23f80cac",
   "metadata": {},
   "outputs": [],
   "source": [
    "target = 'change_7_direct'\n",
    "#data[target].value_counts()"
   ]
  },
  {
   "cell_type": "code",
   "execution_count": 135,
   "id": "844938c9",
   "metadata": {},
   "outputs": [
    {
     "data": {
      "text/plain": [
       "1    140317\n",
       "0     59683\n",
       "Name: change_7_direct, dtype: int64"
      ]
     },
     "execution_count": 135,
     "metadata": {},
     "output_type": "execute_result"
    }
   ],
   "source": [
    "y_train = data[target].astype(int)\n",
    "#y_train = data[target].apply(lambda x: -1 if x < 1 else 1)\n",
    "y_train.value_counts()"
   ]
  },
  {
   "cell_type": "code",
   "execution_count": 136,
   "id": "f5b1e98d",
   "metadata": {},
   "outputs": [
    {
     "data": {
      "text/plain": [
       "1    35305\n",
       "0    14695\n",
       "Name: change_7_direct, dtype: int64"
      ]
     },
     "execution_count": 136,
     "metadata": {},
     "output_type": "execute_result"
    }
   ],
   "source": [
    "y_test = test[target].astype(int)\n",
    "#y_test = test[target].apply(lambda x: -1 if x < 1 else 1)\n",
    "y_test.value_counts()"
   ]
  },
  {
   "cell_type": "code",
   "execution_count": 137,
   "id": "b8d02dfe",
   "metadata": {},
   "outputs": [
    {
     "data": {
      "text/plain": [
       "{0: 1.6755189920077744, 1: 0.7126720212091193}"
      ]
     },
     "execution_count": 137,
     "metadata": {},
     "output_type": "execute_result"
    }
   ],
   "source": [
    "from sklearn.utils import class_weight\n",
    "class_weights = class_weight.compute_class_weight(class_weight='balanced', classes=np.unique(y_train), y=y_train)\n",
    "d_class_weights = dict(enumerate(class_weights))\n",
    "d_class_weights"
   ]
  },
  {
   "cell_type": "code",
   "execution_count": 24,
   "id": "197ea21c",
   "metadata": {},
   "outputs": [],
   "source": [
    "import tensorflow\n",
    "from keras import models\n",
    "from keras import layers\n",
    "from keras import regularizers\n",
    "from keras import optimizers"
   ]
  },
  {
   "cell_type": "code",
   "execution_count": 26,
   "id": "b94a1c97",
   "metadata": {},
   "outputs": [],
   "source": [
    "model_num=35"
   ]
  },
  {
   "cell_type": "code",
   "execution_count": 138,
   "id": "b7e15bf3",
   "metadata": {},
   "outputs": [
    {
     "name": "stdout",
     "output_type": "stream",
     "text": [
      "45\n"
     ]
    }
   ],
   "source": [
    "#l2=0.05\n",
    "lr=0.02\n",
    "\n",
    "model = models.Sequential()\n",
    "\n",
    "# activity_regularizer=regularizers.l2(l2), \n",
    "model.add(layers.Dense(400, input_shape=(770,), kernel_initializer=\"he_uniform\"))\n",
    "model.add(layers.BatchNormalization())\n",
    "model.add(layers.ReLU())\n",
    "model.add(layers.Dropout(0.5))\n",
    "\n",
    "model.add(layers.Dense(400, kernel_initializer=\"he_uniform\"))\n",
    "model.add(layers.BatchNormalization())\n",
    "model.add(layers.ReLU())\n",
    "model.add(layers.Dropout(0.5))\n",
    "\n",
    "model.add(layers.Dense(1, activation='sigmoid'))\n",
    "\n",
    "rmsprop = optimizers.RMSprop(learning_rate=lr, rho=0.9)\n",
    "adam = optimizers.Adam(learning_rate=lr, beta_1=0.9, beta_2=0.999, amsgrad=True)\n",
    "adamax = optimizers.Adamax(learning_rate=lr, beta_1=0.9, beta_2=0.99)\n",
    "nadam = optimizers.Nadam(learning_rate=lr, beta_1=0.9, beta_2=0.999)\n",
    "\n",
    "model.compile(optimizer=adam, loss='binary_crossentropy', metrics=['binary_accuracy'])\n",
    "print(model_num)\n",
    "model_num+=1"
   ]
  },
  {
   "cell_type": "code",
   "execution_count": 139,
   "id": "62e97aed",
   "metadata": {},
   "outputs": [],
   "source": [
    "from tensorflow.keras.callbacks import ModelCheckpoint, TensorBoard, ReduceLROnPlateau\n",
    "weights_file = f'{folder}/weights_pr4_{model_num}.h5'\n",
    "save_weights = ModelCheckpoint(weights_file, monitor='val_binary_accuracy', mode='max', save_best_only=True)\n",
    "tensorboard_cbk = TensorBoard(log_dir=f'{folder}/logs')\n",
    "reduce = ReduceLROnPlateau(monitor=\"val_loss\", factor=0.5, patience=3, min_lr=0.000001, verbose=1)"
   ]
  },
  {
   "cell_type": "code",
   "execution_count": 140,
   "id": "f5878ae9",
   "metadata": {},
   "outputs": [],
   "source": [
    "json_file = f'{folder}/model_pr4_{model_num}.json'\n",
    "model_json = model.to_json()\n",
    "\n",
    "#with open(json_file, 'w') as file:\n",
    "    #file.write(model_json)"
   ]
  },
  {
   "cell_type": "code",
   "execution_count": 141,
   "id": "2e190e84",
   "metadata": {
    "scrolled": false
   },
   "outputs": [
    {
     "name": "stdout",
     "output_type": "stream",
     "text": [
      "Epoch 1/25\n",
      "25/25 [==============================] - 22s 840ms/step - loss: 0.8879 - binary_accuracy: 0.5897 - val_loss: 0.8680 - val_binary_accuracy: 0.6871\n",
      "Epoch 2/25\n",
      "25/25 [==============================] - 17s 672ms/step - loss: 0.5470 - binary_accuracy: 0.6536 - val_loss: 0.6055 - val_binary_accuracy: 0.6995\n",
      "Epoch 3/25\n",
      "25/25 [==============================] - 17s 675ms/step - loss: 0.5345 - binary_accuracy: 0.6665 - val_loss: 0.5387 - val_binary_accuracy: 0.6837\n",
      "Epoch 4/25\n",
      "25/25 [==============================] - 16s 664ms/step - loss: 0.5254 - binary_accuracy: 0.6744 - val_loss: 0.5132 - val_binary_accuracy: 0.6950\n",
      "Epoch 5/25\n",
      "25/25 [==============================] - 16s 635ms/step - loss: 0.5235 - binary_accuracy: 0.6796 - val_loss: 0.5185 - val_binary_accuracy: 0.6827\n",
      "Epoch 6/25\n",
      "25/25 [==============================] - 16s 630ms/step - loss: 0.5204 - binary_accuracy: 0.6852 - val_loss: 0.5264 - val_binary_accuracy: 0.6833\n",
      "Epoch 7/25\n",
      "25/25 [==============================] - 16s 629ms/step - loss: 0.5189 - binary_accuracy: 0.6858 - val_loss: 0.5258 - val_binary_accuracy: 0.6840\n",
      "\n",
      "Epoch 00007: ReduceLROnPlateau reducing learning rate to 0.009999999776482582.\n",
      "Epoch 8/25\n",
      "25/25 [==============================] - 17s 670ms/step - loss: 0.5181 - binary_accuracy: 0.6866 - val_loss: 0.5273 - val_binary_accuracy: 0.6797\n",
      "Epoch 9/25\n",
      "25/25 [==============================] - 16s 657ms/step - loss: 0.5147 - binary_accuracy: 0.6882 - val_loss: 0.5279 - val_binary_accuracy: 0.6808\n",
      "Epoch 10/25\n",
      "25/25 [==============================] - 16s 650ms/step - loss: 0.5134 - binary_accuracy: 0.6913 - val_loss: 0.5201 - val_binary_accuracy: 0.6853\n",
      "\n",
      "Epoch 00010: ReduceLROnPlateau reducing learning rate to 0.004999999888241291.\n",
      "Epoch 11/25\n",
      "25/25 [==============================] - 17s 703ms/step - loss: 0.5102 - binary_accuracy: 0.6945 - val_loss: 0.5487 - val_binary_accuracy: 0.6752\n",
      "Epoch 12/25\n",
      "25/25 [==============================] - 18s 725ms/step - loss: 0.5074 - binary_accuracy: 0.6961 - val_loss: 0.5299 - val_binary_accuracy: 0.6812\n",
      "Epoch 13/25\n",
      "25/25 [==============================] - 16s 638ms/step - loss: 0.5104 - binary_accuracy: 0.6968 - val_loss: 0.5301 - val_binary_accuracy: 0.6834\n",
      "\n",
      "Epoch 00013: ReduceLROnPlateau reducing learning rate to 0.0024999999441206455.\n",
      "Epoch 14/25\n",
      "25/25 [==============================] - 16s 636ms/step - loss: 0.5071 - binary_accuracy: 0.6998 - val_loss: 0.5283 - val_binary_accuracy: 0.6868\n",
      "Epoch 15/25\n",
      "25/25 [==============================] - 16s 644ms/step - loss: 0.5060 - binary_accuracy: 0.6981 - val_loss: 0.5298 - val_binary_accuracy: 0.6842\n",
      "Epoch 16/25\n",
      "25/25 [==============================] - 16s 657ms/step - loss: 0.5043 - binary_accuracy: 0.7005 - val_loss: 0.5259 - val_binary_accuracy: 0.6878\n",
      "\n",
      "Epoch 00016: ReduceLROnPlateau reducing learning rate to 0.0012499999720603228.\n",
      "Epoch 17/25\n",
      "25/25 [==============================] - 16s 659ms/step - loss: 0.5023 - binary_accuracy: 0.7008 - val_loss: 0.5209 - val_binary_accuracy: 0.6924\n",
      "Epoch 18/25\n",
      "25/25 [==============================] - 17s 702ms/step - loss: 0.5017 - binary_accuracy: 0.7036 - val_loss: 0.5232 - val_binary_accuracy: 0.6910\n",
      "Epoch 19/25\n",
      "25/25 [==============================] - 18s 703ms/step - loss: 0.5043 - binary_accuracy: 0.7013 - val_loss: 0.5260 - val_binary_accuracy: 0.6902\n",
      "\n",
      "Epoch 00019: ReduceLROnPlateau reducing learning rate to 0.0006249999860301614.\n",
      "Epoch 20/25\n",
      "25/25 [==============================] - 17s 698ms/step - loss: 0.5003 - binary_accuracy: 0.7049 - val_loss: 0.5233 - val_binary_accuracy: 0.6913\n",
      "Epoch 21/25\n",
      "25/25 [==============================] - 18s 730ms/step - loss: 0.4976 - binary_accuracy: 0.7058 - val_loss: 0.5236 - val_binary_accuracy: 0.6923\n",
      "Epoch 22/25\n",
      "25/25 [==============================] - 18s 722ms/step - loss: 0.5010 - binary_accuracy: 0.7032 - val_loss: 0.5209 - val_binary_accuracy: 0.6934\n",
      "\n",
      "Epoch 00022: ReduceLROnPlateau reducing learning rate to 0.0003124999930150807.\n",
      "Epoch 23/25\n",
      "25/25 [==============================] - 18s 741ms/step - loss: 0.5016 - binary_accuracy: 0.7041 - val_loss: 0.5228 - val_binary_accuracy: 0.6934\n",
      "Epoch 24/25\n",
      "25/25 [==============================] - 16s 659ms/step - loss: 0.5008 - binary_accuracy: 0.7053 - val_loss: 0.5229 - val_binary_accuracy: 0.6933\n",
      "Epoch 25/25\n",
      "25/25 [==============================] - 16s 659ms/step - loss: 0.4984 - binary_accuracy: 0.7070 - val_loss: 0.5221 - val_binary_accuracy: 0.6940\n",
      "\n",
      "Epoch 00025: ReduceLROnPlateau reducing learning rate to 0.00015624999650754035.\n"
     ]
    }
   ],
   "source": [
    "history = model.fit(x_train, y_train, class_weight=d_class_weights, epochs=25, batch_size=4000, validation_split=0.5, callbacks=[tensorboard_cbk, reduce])\n"
   ]
  },
  {
   "cell_type": "code",
   "execution_count": 129,
   "id": "fd7e2489",
   "metadata": {},
   "outputs": [
    {
     "data": {
      "text/plain": [
       "<matplotlib.legend.Legend at 0x14014e7d1f0>"
      ]
     },
     "execution_count": 129,
     "metadata": {},
     "output_type": "execute_result"
    },
    {
     "data": {
      "image/png": "[encoded data removed]",
      "text/plain": [
       "<Figure size 432x288 with 1 Axes>"
      ]
     },
     "metadata": {
      "needs_background": "light"
     },
     "output_type": "display_data"
    }
   ],
   "source": [
    "import matplotlib.pyplot as plt\n",
    "start = 5\n",
    "loss_values = history.history['loss'][start:]\n",
    "val_loss_values = history.history['val_loss'][start:]\n",
    "epochs = range(start, len(loss_values) + start)\n",
    "plt.plot(epochs, loss_values, 'g', label='Training loss')\n",
    "plt.plot(epochs, val_loss_values, 'b', label='Validation loss')\n",
    "plt.title('Training and validation loss')\n",
    "plt.xlabel('Epochs')\n",
    "plt.ylabel('Loss')\n",
    "plt.legend()"
   ]
  },
  {
   "cell_type": "code",
   "execution_count": 130,
   "id": "ec2b60b8",
   "metadata": {},
   "outputs": [
    {
     "data": {
      "image/png": "[encoded data removed]",
      "text/plain": [
       "<Figure size 432x288 with 1 Axes>"
      ]
     },
     "metadata": {
      "needs_background": "light"
     },
     "output_type": "display_data"
    }
   ],
   "source": [
    "plt.clf()\n",
    "acc_values = history.history['binary_accuracy']\n",
    "val_acc_values = history.history['val_binary_accuracy']\n",
    "epochs = range(1, len(acc_values) + 1)\n",
    "plt.plot(epochs, acc_values, 'g', label='Training acc')\n",
    "plt.plot(epochs, val_acc_values, 'b', label='Validation acc')\n",
    "plt.title('Training and validation binary_accuracy')\n",
    "plt.xlabel('Epochs')\n",
    "plt.ylabel('binary_accuracy')\n",
    "plt.legend()\n",
    "plt.show()"
   ]
  },
  {
   "cell_type": "code",
   "execution_count": 131,
   "id": "cb811f49",
   "metadata": {},
   "outputs": [
    {
     "name": "stdout",
     "output_type": "stream",
     "text": [
      "1563/1563 [==============================] - 7s 4ms/step - loss: 0.5777 - binary_accuracy: 0.6336\n"
     ]
    }
   ],
   "source": [
    "results = model.evaluate(x_test, y_test, verbose=1)"
   ]
  },
  {
   "cell_type": "code",
   "execution_count": 133,
   "id": "3e5a0a6f",
   "metadata": {},
   "outputs": [
    {
     "name": "stdout",
     "output_type": "stream",
     "text": [
      "Dummy classifier score: 0.680 (+/- 0.00)\n"
     ]
    }
   ],
   "source": [
    "from sklearn.dummy import DummyClassifier\n",
    "from sklearn.model_selection import cross_val_score\n",
    "clf_dummy = DummyClassifier()\n",
    "\n",
    "scores = cross_val_score(clf_dummy, x_test, y_test)\n",
    "print(\"Dummy classifier score: %0.3f (+/- %0.2f)\" % (scores.mean(), scores.std() * 2))"
   ]
  },
  {
   "cell_type": "code",
   "execution_count": 132,
   "id": "1735d8fe",
   "metadata": {
    "scrolled": true
   },
   "outputs": [
    {
     "data": {
      "text/plain": [
       "array([[0.3760522 , 0.5893599 , 0.2978202 , ..., 0.36077154, 1.        ,\n",
       "        0.57056653]], dtype=float32)"
      ]
     },
     "execution_count": 132,
     "metadata": {},
     "output_type": "execute_result"
    }
   ],
   "source": [
    "predictions = model.predict(x_test)\n",
    "predictions.T"
   ]
  },
  {
   "cell_type": "code",
   "execution_count": 37,
   "id": "315ad4fc",
   "metadata": {},
   "outputs": [
    {
     "data": {
      "text/plain": [
       "1    35576\n",
       "0    14424\n",
       "Name: change_1_direct, dtype: int64"
      ]
     },
     "execution_count": 37,
     "metadata": {},
     "output_type": "execute_result"
    }
   ],
   "source": [
    "threshold = 0.5\n",
    "predictions_df = pd.DataFrame()\n",
    "predictions_df[target] = [1 if val > threshold else 0 for val in predictions]\n",
    "predictions_df[target].value_counts()"
   ]
  },
  {
   "cell_type": "code",
   "execution_count": 38,
   "id": "e1999638",
   "metadata": {},
   "outputs": [],
   "source": [
    "from sklearn.metrics import mean_squared_error\n",
    "from sklearn.metrics import accuracy_score\n",
    "from sklearn.metrics import confusion_matrix\n",
    "from sklearn.metrics import roc_auc_score"
   ]
  },
  {
   "cell_type": "code",
   "execution_count": 39,
   "id": "c488f5e7",
   "metadata": {
    "scrolled": true
   },
   "outputs": [
    {
     "name": "stdout",
     "output_type": "stream",
     "text": [
      "[[11841  2583]\n",
      " [14381 21195]]\n",
      "0.66072\n"
     ]
    }
   ],
   "source": [
    "#print(roc_auc_score(predictions_df[target], y_test))\n",
    "print(confusion_matrix(predictions_df[target], y_test))\n",
    "print(accuracy_score(predictions_df[target], y_test))"
   ]
  },
  {
   "cell_type": "code",
   "execution_count": 51,
   "id": "be852984",
   "metadata": {},
   "outputs": [],
   "source": [
    "from sklearn.linear_model import LogisticRegression\n",
    "from sklearn.model_selection import GridSearchCV"
   ]
  },
  {
   "cell_type": "code",
   "execution_count": 53,
   "id": "f1403d7d",
   "metadata": {},
   "outputs": [
    {
     "name": "stderr",
     "output_type": "stream",
     "text": [
      "D:\\git\\project1\\ml\\lib\\site-packages\\sklearn\\linear_model\\_sag.py:328: ConvergenceWarning: The max_iter was reached which means the coef_ did not converge\n",
      "  warnings.warn(\"The max_iter was reached which means \"\n",
      "D:\\git\\project1\\ml\\lib\\site-packages\\sklearn\\linear_model\\_sag.py:328: ConvergenceWarning: The max_iter was reached which means the coef_ did not converge\n",
      "  warnings.warn(\"The max_iter was reached which means \"\n",
      "D:\\git\\project1\\ml\\lib\\site-packages\\sklearn\\linear_model\\_sag.py:328: ConvergenceWarning: The max_iter was reached which means the coef_ did not converge\n",
      "  warnings.warn(\"The max_iter was reached which means \"\n",
      "D:\\git\\project1\\ml\\lib\\site-packages\\sklearn\\linear_model\\_sag.py:328: ConvergenceWarning: The max_iter was reached which means the coef_ did not converge\n",
      "  warnings.warn(\"The max_iter was reached which means \"\n",
      "D:\\git\\project1\\ml\\lib\\site-packages\\sklearn\\linear_model\\_sag.py:328: ConvergenceWarning: The max_iter was reached which means the coef_ did not converge\n",
      "  warnings.warn(\"The max_iter was reached which means \"\n",
      "D:\\git\\project1\\ml\\lib\\site-packages\\sklearn\\linear_model\\_sag.py:328: ConvergenceWarning: The max_iter was reached which means the coef_ did not converge\n",
      "  warnings.warn(\"The max_iter was reached which means \"\n",
      "D:\\git\\project1\\ml\\lib\\site-packages\\sklearn\\linear_model\\_sag.py:328: ConvergenceWarning: The max_iter was reached which means the coef_ did not converge\n",
      "  warnings.warn(\"The max_iter was reached which means \"\n",
      "D:\\git\\project1\\ml\\lib\\site-packages\\sklearn\\linear_model\\_sag.py:328: ConvergenceWarning: The max_iter was reached which means the coef_ did not converge\n",
      "  warnings.warn(\"The max_iter was reached which means \"\n",
      "D:\\git\\project1\\ml\\lib\\site-packages\\sklearn\\linear_model\\_sag.py:328: ConvergenceWarning: The max_iter was reached which means the coef_ did not converge\n",
      "  warnings.warn(\"The max_iter was reached which means \"\n",
      "D:\\git\\project1\\ml\\lib\\site-packages\\sklearn\\linear_model\\_sag.py:328: ConvergenceWarning: The max_iter was reached which means the coef_ did not converge\n",
      "  warnings.warn(\"The max_iter was reached which means \"\n",
      "D:\\git\\project1\\ml\\lib\\site-packages\\sklearn\\linear_model\\_sag.py:328: ConvergenceWarning: The max_iter was reached which means the coef_ did not converge\n",
      "  warnings.warn(\"The max_iter was reached which means \"\n",
      "D:\\git\\project1\\ml\\lib\\site-packages\\sklearn\\linear_model\\_sag.py:328: ConvergenceWarning: The max_iter was reached which means the coef_ did not converge\n",
      "  warnings.warn(\"The max_iter was reached which means \"\n",
      "D:\\git\\project1\\ml\\lib\\site-packages\\sklearn\\linear_model\\_sag.py:328: ConvergenceWarning: The max_iter was reached which means the coef_ did not converge\n",
      "  warnings.warn(\"The max_iter was reached which means \"\n",
      "D:\\git\\project1\\ml\\lib\\site-packages\\sklearn\\linear_model\\_sag.py:328: ConvergenceWarning: The max_iter was reached which means the coef_ did not converge\n",
      "  warnings.warn(\"The max_iter was reached which means \"\n",
      "D:\\git\\project1\\ml\\lib\\site-packages\\sklearn\\linear_model\\_sag.py:328: ConvergenceWarning: The max_iter was reached which means the coef_ did not converge\n",
      "  warnings.warn(\"The max_iter was reached which means \"\n",
      "D:\\git\\project1\\ml\\lib\\site-packages\\sklearn\\linear_model\\_sag.py:328: ConvergenceWarning: The max_iter was reached which means the coef_ did not converge\n",
      "  warnings.warn(\"The max_iter was reached which means \"\n",
      "D:\\git\\project1\\ml\\lib\\site-packages\\sklearn\\linear_model\\_sag.py:328: ConvergenceWarning: The max_iter was reached which means the coef_ did not converge\n",
      "  warnings.warn(\"The max_iter was reached which means \"\n",
      "D:\\git\\project1\\ml\\lib\\site-packages\\sklearn\\linear_model\\_sag.py:328: ConvergenceWarning: The max_iter was reached which means the coef_ did not converge\n",
      "  warnings.warn(\"The max_iter was reached which means \"\n",
      "D:\\git\\project1\\ml\\lib\\site-packages\\sklearn\\linear_model\\_sag.py:328: ConvergenceWarning: The max_iter was reached which means the coef_ did not converge\n",
      "  warnings.warn(\"The max_iter was reached which means \"\n",
      "D:\\git\\project1\\ml\\lib\\site-packages\\sklearn\\linear_model\\_sag.py:328: ConvergenceWarning: The max_iter was reached which means the coef_ did not converge\n",
      "  warnings.warn(\"The max_iter was reached which means \"\n",
      "D:\\git\\project1\\ml\\lib\\site-packages\\sklearn\\linear_model\\_sag.py:328: ConvergenceWarning: The max_iter was reached which means the coef_ did not converge\n",
      "  warnings.warn(\"The max_iter was reached which means \"\n",
      "D:\\git\\project1\\ml\\lib\\site-packages\\sklearn\\linear_model\\_sag.py:328: ConvergenceWarning: The max_iter was reached which means the coef_ did not converge\n",
      "  warnings.warn(\"The max_iter was reached which means \"\n",
      "D:\\git\\project1\\ml\\lib\\site-packages\\sklearn\\linear_model\\_sag.py:328: ConvergenceWarning: The max_iter was reached which means the coef_ did not converge\n",
      "  warnings.warn(\"The max_iter was reached which means \"\n",
      "D:\\git\\project1\\ml\\lib\\site-packages\\sklearn\\linear_model\\_sag.py:328: ConvergenceWarning: The max_iter was reached which means the coef_ did not converge\n",
      "  warnings.warn(\"The max_iter was reached which means \"\n",
      "D:\\git\\project1\\ml\\lib\\site-packages\\sklearn\\linear_model\\_sag.py:328: ConvergenceWarning: The max_iter was reached which means the coef_ did not converge\n",
      "  warnings.warn(\"The max_iter was reached which means \"\n",
      "D:\\git\\project1\\ml\\lib\\site-packages\\sklearn\\linear_model\\_sag.py:328: ConvergenceWarning: The max_iter was reached which means the coef_ did not converge\n",
      "  warnings.warn(\"The max_iter was reached which means \"\n",
      "D:\\git\\project1\\ml\\lib\\site-packages\\sklearn\\linear_model\\_sag.py:328: ConvergenceWarning: The max_iter was reached which means the coef_ did not converge\n",
      "  warnings.warn(\"The max_iter was reached which means \"\n",
      "D:\\git\\project1\\ml\\lib\\site-packages\\sklearn\\linear_model\\_sag.py:328: ConvergenceWarning: The max_iter was reached which means the coef_ did not converge\n",
      "  warnings.warn(\"The max_iter was reached which means \"\n",
      "D:\\git\\project1\\ml\\lib\\site-packages\\sklearn\\linear_model\\_sag.py:328: ConvergenceWarning: The max_iter was reached which means the coef_ did not converge\n",
      "  warnings.warn(\"The max_iter was reached which means \"\n",
      "D:\\git\\project1\\ml\\lib\\site-packages\\sklearn\\linear_model\\_sag.py:328: ConvergenceWarning: The max_iter was reached which means the coef_ did not converge\n",
      "  warnings.warn(\"The max_iter was reached which means \"\n",
      "D:\\git\\project1\\ml\\lib\\site-packages\\sklearn\\linear_model\\_sag.py:328: ConvergenceWarning: The max_iter was reached which means the coef_ did not converge\n",
      "  warnings.warn(\"The max_iter was reached which means \"\n",
      "D:\\git\\project1\\ml\\lib\\site-packages\\sklearn\\linear_model\\_sag.py:328: ConvergenceWarning: The max_iter was reached which means the coef_ did not converge\n",
      "  warnings.warn(\"The max_iter was reached which means \"\n",
      "D:\\git\\project1\\ml\\lib\\site-packages\\sklearn\\linear_model\\_sag.py:328: ConvergenceWarning: The max_iter was reached which means the coef_ did not converge\n",
      "  warnings.warn(\"The max_iter was reached which means \"\n",
      "D:\\git\\project1\\ml\\lib\\site-packages\\sklearn\\linear_model\\_sag.py:328: ConvergenceWarning: The max_iter was reached which means the coef_ did not converge\n",
      "  warnings.warn(\"The max_iter was reached which means \"\n",
      "D:\\git\\project1\\ml\\lib\\site-packages\\sklearn\\linear_model\\_sag.py:328: ConvergenceWarning: The max_iter was reached which means the coef_ did not converge\n",
      "  warnings.warn(\"The max_iter was reached which means \"\n",
      "D:\\git\\project1\\ml\\lib\\site-packages\\sklearn\\linear_model\\_sag.py:328: ConvergenceWarning: The max_iter was reached which means the coef_ did not converge\n",
      "  warnings.warn(\"The max_iter was reached which means \"\n",
      "D:\\git\\project1\\ml\\lib\\site-packages\\sklearn\\linear_model\\_sag.py:328: ConvergenceWarning: The max_iter was reached which means the coef_ did not converge\n",
      "  warnings.warn(\"The max_iter was reached which means \"\n",
      "D:\\git\\project1\\ml\\lib\\site-packages\\sklearn\\linear_model\\_sag.py:328: ConvergenceWarning: The max_iter was reached which means the coef_ did not converge\n",
      "  warnings.warn(\"The max_iter was reached which means \"\n",
      "D:\\git\\project1\\ml\\lib\\site-packages\\sklearn\\linear_model\\_sag.py:328: ConvergenceWarning: The max_iter was reached which means the coef_ did not converge\n",
      "  warnings.warn(\"The max_iter was reached which means \"\n"
     ]
    },
    {
     "name": "stderr",
     "output_type": "stream",
     "text": [
      "D:\\git\\project1\\ml\\lib\\site-packages\\sklearn\\linear_model\\_sag.py:328: ConvergenceWarning: The max_iter was reached which means the coef_ did not converge\n",
      "  warnings.warn(\"The max_iter was reached which means \"\n",
      "D:\\git\\project1\\ml\\lib\\site-packages\\sklearn\\linear_model\\_sag.py:328: ConvergenceWarning: The max_iter was reached which means the coef_ did not converge\n",
      "  warnings.warn(\"The max_iter was reached which means \"\n",
      "D:\\git\\project1\\ml\\lib\\site-packages\\sklearn\\linear_model\\_sag.py:328: ConvergenceWarning: The max_iter was reached which means the coef_ did not converge\n",
      "  warnings.warn(\"The max_iter was reached which means \"\n",
      "D:\\git\\project1\\ml\\lib\\site-packages\\sklearn\\linear_model\\_sag.py:328: ConvergenceWarning: The max_iter was reached which means the coef_ did not converge\n",
      "  warnings.warn(\"The max_iter was reached which means \"\n",
      "D:\\git\\project1\\ml\\lib\\site-packages\\sklearn\\linear_model\\_sag.py:328: ConvergenceWarning: The max_iter was reached which means the coef_ did not converge\n",
      "  warnings.warn(\"The max_iter was reached which means \"\n",
      "D:\\git\\project1\\ml\\lib\\site-packages\\sklearn\\linear_model\\_sag.py:328: ConvergenceWarning: The max_iter was reached which means the coef_ did not converge\n",
      "  warnings.warn(\"The max_iter was reached which means \"\n",
      "D:\\git\\project1\\ml\\lib\\site-packages\\sklearn\\linear_model\\_sag.py:328: ConvergenceWarning: The max_iter was reached which means the coef_ did not converge\n",
      "  warnings.warn(\"The max_iter was reached which means \"\n",
      "D:\\git\\project1\\ml\\lib\\site-packages\\sklearn\\linear_model\\_sag.py:328: ConvergenceWarning: The max_iter was reached which means the coef_ did not converge\n",
      "  warnings.warn(\"The max_iter was reached which means \"\n",
      "D:\\git\\project1\\ml\\lib\\site-packages\\sklearn\\linear_model\\_sag.py:328: ConvergenceWarning: The max_iter was reached which means the coef_ did not converge\n",
      "  warnings.warn(\"The max_iter was reached which means \"\n",
      "D:\\git\\project1\\ml\\lib\\site-packages\\sklearn\\linear_model\\_sag.py:328: ConvergenceWarning: The max_iter was reached which means the coef_ did not converge\n",
      "  warnings.warn(\"The max_iter was reached which means \"\n",
      "D:\\git\\project1\\ml\\lib\\site-packages\\sklearn\\linear_model\\_sag.py:328: ConvergenceWarning: The max_iter was reached which means the coef_ did not converge\n",
      "  warnings.warn(\"The max_iter was reached which means \"\n",
      "D:\\git\\project1\\ml\\lib\\site-packages\\sklearn\\linear_model\\_sag.py:328: ConvergenceWarning: The max_iter was reached which means the coef_ did not converge\n",
      "  warnings.warn(\"The max_iter was reached which means \"\n",
      "D:\\git\\project1\\ml\\lib\\site-packages\\sklearn\\linear_model\\_sag.py:328: ConvergenceWarning: The max_iter was reached which means the coef_ did not converge\n",
      "  warnings.warn(\"The max_iter was reached which means \"\n",
      "D:\\git\\project1\\ml\\lib\\site-packages\\sklearn\\linear_model\\_sag.py:328: ConvergenceWarning: The max_iter was reached which means the coef_ did not converge\n",
      "  warnings.warn(\"The max_iter was reached which means \"\n",
      "D:\\git\\project1\\ml\\lib\\site-packages\\sklearn\\linear_model\\_sag.py:328: ConvergenceWarning: The max_iter was reached which means the coef_ did not converge\n",
      "  warnings.warn(\"The max_iter was reached which means \"\n",
      "D:\\git\\project1\\ml\\lib\\site-packages\\sklearn\\linear_model\\_sag.py:328: ConvergenceWarning: The max_iter was reached which means the coef_ did not converge\n",
      "  warnings.warn(\"The max_iter was reached which means \"\n",
      "D:\\git\\project1\\ml\\lib\\site-packages\\sklearn\\linear_model\\_sag.py:328: ConvergenceWarning: The max_iter was reached which means the coef_ did not converge\n",
      "  warnings.warn(\"The max_iter was reached which means \"\n",
      "D:\\git\\project1\\ml\\lib\\site-packages\\sklearn\\linear_model\\_sag.py:328: ConvergenceWarning: The max_iter was reached which means the coef_ did not converge\n",
      "  warnings.warn(\"The max_iter was reached which means \"\n",
      "D:\\git\\project1\\ml\\lib\\site-packages\\sklearn\\linear_model\\_sag.py:328: ConvergenceWarning: The max_iter was reached which means the coef_ did not converge\n",
      "  warnings.warn(\"The max_iter was reached which means \"\n",
      "D:\\git\\project1\\ml\\lib\\site-packages\\sklearn\\linear_model\\_sag.py:328: ConvergenceWarning: The max_iter was reached which means the coef_ did not converge\n",
      "  warnings.warn(\"The max_iter was reached which means \"\n",
      "D:\\git\\project1\\ml\\lib\\site-packages\\sklearn\\linear_model\\_sag.py:328: ConvergenceWarning: The max_iter was reached which means the coef_ did not converge\n",
      "  warnings.warn(\"The max_iter was reached which means \"\n",
      "D:\\git\\project1\\ml\\lib\\site-packages\\sklearn\\linear_model\\_sag.py:328: ConvergenceWarning: The max_iter was reached which means the coef_ did not converge\n",
      "  warnings.warn(\"The max_iter was reached which means \"\n",
      "D:\\git\\project1\\ml\\lib\\site-packages\\sklearn\\linear_model\\_sag.py:328: ConvergenceWarning: The max_iter was reached which means the coef_ did not converge\n",
      "  warnings.warn(\"The max_iter was reached which means \"\n",
      "D:\\git\\project1\\ml\\lib\\site-packages\\sklearn\\linear_model\\_sag.py:328: ConvergenceWarning: The max_iter was reached which means the coef_ did not converge\n",
      "  warnings.warn(\"The max_iter was reached which means \"\n",
      "D:\\git\\project1\\ml\\lib\\site-packages\\sklearn\\linear_model\\_sag.py:328: ConvergenceWarning: The max_iter was reached which means the coef_ did not converge\n",
      "  warnings.warn(\"The max_iter was reached which means \"\n",
      "D:\\git\\project1\\ml\\lib\\site-packages\\sklearn\\linear_model\\_sag.py:328: ConvergenceWarning: The max_iter was reached which means the coef_ did not converge\n",
      "  warnings.warn(\"The max_iter was reached which means \"\n",
      "D:\\git\\project1\\ml\\lib\\site-packages\\sklearn\\linear_model\\_sag.py:328: ConvergenceWarning: The max_iter was reached which means the coef_ did not converge\n",
      "  warnings.warn(\"The max_iter was reached which means \"\n",
      "D:\\git\\project1\\ml\\lib\\site-packages\\sklearn\\linear_model\\_sag.py:328: ConvergenceWarning: The max_iter was reached which means the coef_ did not converge\n",
      "  warnings.warn(\"The max_iter was reached which means \"\n",
      "D:\\git\\project1\\ml\\lib\\site-packages\\sklearn\\linear_model\\_sag.py:328: ConvergenceWarning: The max_iter was reached which means the coef_ did not converge\n",
      "  warnings.warn(\"The max_iter was reached which means \"\n",
      "D:\\git\\project1\\ml\\lib\\site-packages\\sklearn\\linear_model\\_sag.py:328: ConvergenceWarning: The max_iter was reached which means the coef_ did not converge\n",
      "  warnings.warn(\"The max_iter was reached which means \"\n",
      "D:\\git\\project1\\ml\\lib\\site-packages\\sklearn\\linear_model\\_sag.py:328: ConvergenceWarning: The max_iter was reached which means the coef_ did not converge\n",
      "  warnings.warn(\"The max_iter was reached which means \"\n",
      "D:\\git\\project1\\ml\\lib\\site-packages\\sklearn\\linear_model\\_sag.py:328: ConvergenceWarning: The max_iter was reached which means the coef_ did not converge\n",
      "  warnings.warn(\"The max_iter was reached which means \"\n",
      "D:\\git\\project1\\ml\\lib\\site-packages\\sklearn\\linear_model\\_sag.py:328: ConvergenceWarning: The max_iter was reached which means the coef_ did not converge\n",
      "  warnings.warn(\"The max_iter was reached which means \"\n",
      "D:\\git\\project1\\ml\\lib\\site-packages\\sklearn\\linear_model\\_sag.py:328: ConvergenceWarning: The max_iter was reached which means the coef_ did not converge\n",
      "  warnings.warn(\"The max_iter was reached which means \"\n",
      "D:\\git\\project1\\ml\\lib\\site-packages\\sklearn\\linear_model\\_sag.py:328: ConvergenceWarning: The max_iter was reached which means the coef_ did not converge\n",
      "  warnings.warn(\"The max_iter was reached which means \"\n",
      "D:\\git\\project1\\ml\\lib\\site-packages\\sklearn\\linear_model\\_sag.py:328: ConvergenceWarning: The max_iter was reached which means the coef_ did not converge\n",
      "  warnings.warn(\"The max_iter was reached which means \"\n",
      "D:\\git\\project1\\ml\\lib\\site-packages\\sklearn\\linear_model\\_sag.py:328: ConvergenceWarning: The max_iter was reached which means the coef_ did not converge\n",
      "  warnings.warn(\"The max_iter was reached which means \"\n",
      "D:\\git\\project1\\ml\\lib\\site-packages\\sklearn\\linear_model\\_sag.py:328: ConvergenceWarning: The max_iter was reached which means the coef_ did not converge\n",
      "  warnings.warn(\"The max_iter was reached which means \"\n",
      "D:\\git\\project1\\ml\\lib\\site-packages\\sklearn\\linear_model\\_sag.py:328: ConvergenceWarning: The max_iter was reached which means the coef_ did not converge\n",
      "  warnings.warn(\"The max_iter was reached which means \"\n"
     ]
    },
    {
     "name": "stderr",
     "output_type": "stream",
     "text": [
      "D:\\git\\project1\\ml\\lib\\site-packages\\sklearn\\linear_model\\_sag.py:328: ConvergenceWarning: The max_iter was reached which means the coef_ did not converge\n",
      "  warnings.warn(\"The max_iter was reached which means \"\n",
      "D:\\git\\project1\\ml\\lib\\site-packages\\sklearn\\linear_model\\_sag.py:328: ConvergenceWarning: The max_iter was reached which means the coef_ did not converge\n",
      "  warnings.warn(\"The max_iter was reached which means \"\n",
      "D:\\git\\project1\\ml\\lib\\site-packages\\sklearn\\linear_model\\_sag.py:328: ConvergenceWarning: The max_iter was reached which means the coef_ did not converge\n",
      "  warnings.warn(\"The max_iter was reached which means \"\n",
      "D:\\git\\project1\\ml\\lib\\site-packages\\sklearn\\linear_model\\_sag.py:328: ConvergenceWarning: The max_iter was reached which means the coef_ did not converge\n",
      "  warnings.warn(\"The max_iter was reached which means \"\n",
      "D:\\git\\project1\\ml\\lib\\site-packages\\sklearn\\linear_model\\_sag.py:328: ConvergenceWarning: The max_iter was reached which means the coef_ did not converge\n",
      "  warnings.warn(\"The max_iter was reached which means \"\n",
      "D:\\git\\project1\\ml\\lib\\site-packages\\sklearn\\linear_model\\_sag.py:328: ConvergenceWarning: The max_iter was reached which means the coef_ did not converge\n",
      "  warnings.warn(\"The max_iter was reached which means \"\n",
      "D:\\git\\project1\\ml\\lib\\site-packages\\sklearn\\linear_model\\_sag.py:328: ConvergenceWarning: The max_iter was reached which means the coef_ did not converge\n",
      "  warnings.warn(\"The max_iter was reached which means \"\n",
      "D:\\git\\project1\\ml\\lib\\site-packages\\sklearn\\linear_model\\_sag.py:328: ConvergenceWarning: The max_iter was reached which means the coef_ did not converge\n",
      "  warnings.warn(\"The max_iter was reached which means \"\n",
      "D:\\git\\project1\\ml\\lib\\site-packages\\sklearn\\linear_model\\_sag.py:328: ConvergenceWarning: The max_iter was reached which means the coef_ did not converge\n",
      "  warnings.warn(\"The max_iter was reached which means \"\n",
      "D:\\git\\project1\\ml\\lib\\site-packages\\sklearn\\linear_model\\_sag.py:328: ConvergenceWarning: The max_iter was reached which means the coef_ did not converge\n",
      "  warnings.warn(\"The max_iter was reached which means \"\n",
      "D:\\git\\project1\\ml\\lib\\site-packages\\sklearn\\linear_model\\_sag.py:328: ConvergenceWarning: The max_iter was reached which means the coef_ did not converge\n",
      "  warnings.warn(\"The max_iter was reached which means \"\n",
      "D:\\git\\project1\\ml\\lib\\site-packages\\sklearn\\linear_model\\_sag.py:328: ConvergenceWarning: The max_iter was reached which means the coef_ did not converge\n",
      "  warnings.warn(\"The max_iter was reached which means \"\n",
      "D:\\git\\project1\\ml\\lib\\site-packages\\sklearn\\linear_model\\_sag.py:328: ConvergenceWarning: The max_iter was reached which means the coef_ did not converge\n",
      "  warnings.warn(\"The max_iter was reached which means \"\n",
      "D:\\git\\project1\\ml\\lib\\site-packages\\sklearn\\linear_model\\_sag.py:328: ConvergenceWarning: The max_iter was reached which means the coef_ did not converge\n",
      "  warnings.warn(\"The max_iter was reached which means \"\n",
      "D:\\git\\project1\\ml\\lib\\site-packages\\sklearn\\linear_model\\_sag.py:328: ConvergenceWarning: The max_iter was reached which means the coef_ did not converge\n",
      "  warnings.warn(\"The max_iter was reached which means \"\n",
      "D:\\git\\project1\\ml\\lib\\site-packages\\sklearn\\linear_model\\_sag.py:328: ConvergenceWarning: The max_iter was reached which means the coef_ did not converge\n",
      "  warnings.warn(\"The max_iter was reached which means \"\n",
      "D:\\git\\project1\\ml\\lib\\site-packages\\sklearn\\linear_model\\_sag.py:328: ConvergenceWarning: The max_iter was reached which means the coef_ did not converge\n",
      "  warnings.warn(\"The max_iter was reached which means \"\n"
     ]
    },
    {
     "name": "stdout",
     "output_type": "stream",
     "text": [
      "best parameters:  {'C': 0.0001}\n",
      "best scrores:  0.8089999999999999\n",
      "Wall time: 1min 55s\n"
     ]
    }
   ],
   "source": [
    "%%time\n",
    "parameters = {'C': np.linspace(0.0001, 100, 20)}\n",
    "grid_search = GridSearchCV(LogisticRegression(solver=\"saga\"), parameters)\n",
    "grid_search.fit(x_train, y_train)\n",
    "\n",
    "print('best parameters: ', grid_search.best_params_)\n",
    "print('best scrores: ', grid_search.best_score_)"
   ]
  },
  {
   "cell_type": "code",
   "execution_count": 54,
   "id": "2c12a5f6",
   "metadata": {},
   "outputs": [
    {
     "name": "stdout",
     "output_type": "stream",
     "text": [
      "Wall time: 832 ms\n"
     ]
    },
    {
     "data": {
      "text/plain": [
       "LogisticRegression(C=0.0001, solver='saga')"
      ]
     },
     "execution_count": 54,
     "metadata": {},
     "output_type": "execute_result"
    }
   ],
   "source": [
    "%%time\n",
    "clf = LogisticRegression(solver=\"warn\", C=1)\n",
    "clf.fit(x_train, y_train)"
   ]
  },
  {
   "cell_type": "code",
   "execution_count": 55,
   "id": "a63ffaf5",
   "metadata": {},
   "outputs": [
    {
     "data": {
      "text/plain": [
       "0.783"
      ]
     },
     "execution_count": 55,
     "metadata": {},
     "output_type": "execute_result"
    }
   ],
   "source": [
    "clf.score(x_test, y_test)"
   ]
  },
  {
   "cell_type": "code",
   "execution_count": null,
   "id": "ac1b8a7b",
   "metadata": {},
   "outputs": [],
   "source": [
    "pd.DataFrame(data={'score': model['lr'].coef_[0]},\n",
    "                      index=column_names).sort_values(by='score')\n",
    "                                         .plot(kind='barh', grid=True,\n",
    "                                               figsize=(6,6), legend=False)"
   ]
  },
  {
   "cell_type": "code",
   "execution_count": 61,
   "id": "10e6f387",
   "metadata": {},
   "outputs": [],
   "source": [
    "from sklearn.ensemble import RandomForestClassifier"
   ]
  },
  {
   "cell_type": "code",
   "execution_count": 62,
   "id": "94947fea",
   "metadata": {},
   "outputs": [
    {
     "name": "stdout",
     "output_type": "stream",
     "text": [
      "Wall time: 17.5 s\n"
     ]
    },
    {
     "data": {
      "text/plain": [
       "RandomForestClassifier(n_estimators=1000)"
      ]
     },
     "execution_count": 62,
     "metadata": {},
     "output_type": "execute_result"
    }
   ],
   "source": [
    "%%time\n",
    "rf = RandomForestClassifier(n_estimators = 1000)\n",
    "rf.fit(x_train, y_train)"
   ]
  },
  {
   "cell_type": "code",
   "execution_count": 65,
   "id": "9544931d",
   "metadata": {},
   "outputs": [
    {
     "data": {
      "text/plain": [
       "0.787"
      ]
     },
     "execution_count": 65,
     "metadata": {},
     "output_type": "execute_result"
    }
   ],
   "source": [
    "rf.score(x_test, y_test)"
   ]
  },
  {
   "cell_type": "code",
   "execution_count": 63,
   "id": "5e0bf043",
   "metadata": {},
   "outputs": [],
   "source": [
    "rf_pred = rf.predict(x_test)"
   ]
  },
  {
   "cell_type": "code",
   "execution_count": 67,
   "id": "6c50b96b",
   "metadata": {},
   "outputs": [
    {
     "name": "stdout",
     "output_type": "stream",
     "text": [
      "[[783 213]\n",
      " [  0   4]]\n",
      "0.787\n"
     ]
    }
   ],
   "source": [
    "#print(roc_auc_score(predictions_df[target], y_test))\n",
    "print(confusion_matrix(rf_pred, y_test))\n",
    "print(accuracy_score(rf_pred, y_test))"
   ]
  },
  {
   "cell_type": "code",
   "execution_count": null,
   "id": "a992e4d8",
   "metadata": {},
   "outputs": [],
   "source": [
    "pd.DataFrame(data={'score': model['rf'].feature_importances_}, \n",
    "                      index=column_names).sort_values(by='score')\n",
    "                                         .plot(kind='barh', grid=True,\n",
    "                                               figsize=(6,6), legend=False)"
   ]
  }
 ],
 "metadata": {
  "kernelspec": {
   "display_name": "ml",
   "language": "python",
   "name": "ml"
  },
  "language_info": {
   "codemirror_mode": {
    "name": "ipython",
    "version": 3
   },
   "file_extension": ".py",
   "mimetype": "text/x-python",
   "name": "python",
   "nbconvert_exporter": "python",
   "pygments_lexer": "ipython3",
   "version": "3.8.10"
  }
 },
 "nbformat": 4,
 "nbformat_minor": 5
}
