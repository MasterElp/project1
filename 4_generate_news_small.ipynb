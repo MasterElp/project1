{
 "cells": [
  {
   "cell_type": "code",
   "execution_count": null,
   "id": "ac6d68da",
   "metadata": {},
   "outputs": [],
   "source": [
    "import pandas as pd\n",
    "import numpy as np\n",
    "folder = 'd:/git/project1/generated'"
   ]
  },
  {
   "cell_type": "code",
   "execution_count": null,
   "id": "2ff773d6",
   "metadata": {},
   "outputs": [],
   "source": [
    "df_clear = pd.read_csv(f'{folder}/news_clear.csv')"
   ]
  },
  {
   "cell_type": "code",
   "execution_count": null,
   "id": "cad860eb",
   "metadata": {},
   "outputs": [],
   "source": [
    "def line_lenght(cell, min, max):\n",
    "    return bool(cell.count(\" \")+1 >= min) and (cell.count(\" \")+1 <= max)\n",
    "\n",
    "df_clear['norm_len'] = df_clear['title'].apply(line_lenght, min=3, max=20)\n",
    "df_clear[df_clear['norm_len'] == True]\n",
    "\n",
    "df_small = df_clear[~(df_clear['norm_len'] == False)]\n",
    "df_small"
   ]
  },
  {
   "cell_type": "code",
   "execution_count": null,
   "id": "60892e32",
   "metadata": {},
   "outputs": [],
   "source": [
    "df_small.to_csv('/content/news_small.csv')"
   ]
  }
 ],
 "metadata": {
  "kernelspec": {
   "display_name": "ml",
   "language": "python",
   "name": "ml"
  },
  "language_info": {
   "codemirror_mode": {
    "name": "ipython",
    "version": 3
   },
   "file_extension": ".py",
   "mimetype": "text/x-python",
   "name": "python",
   "nbconvert_exporter": "python",
   "pygments_lexer": "ipython3",
   "version": "3.8.9"
  }
 },
 "nbformat": 4,
 "nbformat_minor": 5
}
