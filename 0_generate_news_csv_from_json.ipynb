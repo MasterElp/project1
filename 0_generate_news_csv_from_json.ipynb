{
 "cells": [
  {
   "cell_type": "code",
   "execution_count": null,
   "id": "4e8f89ba",
   "metadata": {},
   "outputs": [],
   "source": [
    "import pandas as pd\n",
    "folder = 'd:\\git\\project1'"
   ]
  },
  {
   "cell_type": "code",
   "execution_count": null,
   "id": "682663dc",
   "metadata": {},
   "outputs": [],
   "source": [
    "def time_to_int(time_str):\n",
    "    hh, mm , ss = map(int, time_str.split(':'))\n",
    "    return ss + 60*(mm + 60*hh)\n",
    "\n",
    "\n",
    "df = pd.DataFrame()\n",
    "dates = []\n",
    "titles = []\n",
    "times = []\n",
    "with open(f'{folder}\\worldnews.json', \"r\", encoding='utf-8') as read_file:\n",
    "    i = 0\n",
    "    for line in read_file:\n",
    "        #i+=1\n",
    "        #if (i == 10): break\n",
    "        data = json.loads(line)\n",
    "        datetime_string = data['Item']['created']['S']\n",
    "        date_timestamp = int(time.mktime(datetime.datetime.strptime(datetime_string.split()[0], \"%Y-%m-%d\").timetuple()))\n",
    "        time_int = time_to_int(datetime_string.split()[1])\n",
    "        title = data['Item']['title']['S']\n",
    "        #print(datetime_string)\n",
    "        #print(datetime_timestamp)s\n",
    "        #print(title)\n",
    "        dates.append(date_timestamp)\n",
    "        times.append(time_int)\n",
    "        titles.append(title)\n",
    "\n",
    "df['date'] = dates\n",
    "df['time'] = times\n",
    "df['title'] = titles\n",
    "#print (df)\n",
    "df.to_csv('d:\\git\\project1\\datetime_news.csv', index = False)"
   ]
  }
 ],
 "metadata": {
  "kernelspec": {
   "display_name": "ml",
   "language": "python",
   "name": "ml"
  },
  "language_info": {
   "codemirror_mode": {
    "name": "ipython",
    "version": 3
   },
   "file_extension": ".py",
   "mimetype": "text/x-python",
   "name": "python",
   "nbconvert_exporter": "python",
   "pygments_lexer": "ipython3",
   "version": "3.8.9"
  }
 },
 "nbformat": 4,
 "nbformat_minor": 5
}
