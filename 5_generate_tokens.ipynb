{
 "cells": [
  {
   "cell_type": "code",
   "execution_count": 1,
   "id": "8a4f4ffa",
   "metadata": {},
   "outputs": [],
   "source": [
    "import torch\n",
    "import pandas as pd\n",
    "import numpy as np\n",
    "import pytorch_transformers\n",
    "\n",
    "folder = 'd:\\git\\project1\\generated'"
   ]
  },
  {
   "cell_type": "code",
   "execution_count": 2,
   "id": "8c21d7a8",
   "metadata": {},
   "outputs": [
    {
     "name": "stderr",
     "output_type": "stream",
     "text": [
      "100%|███████████████████████████████████████████████████████████████████████| 231508/231508 [00:01<00:00, 150095.15B/s]\n"
     ]
    }
   ],
   "source": [
    "model_class = pytorch_transformers.BertModel\n",
    "tokenizer_class = pytorch_transformers.BertTokenizer\n",
    "pretrained_weights = 'bert-base-uncased'\n",
    "\n",
    "tokenizer = tokenizer_class.from_pretrained(pretrained_weights)\n",
    "model = model_class.from_pretrained(pretrained_weights)"
   ]
  },
  {
   "cell_type": "code",
   "execution_count": 18,
   "id": "748862f0",
   "metadata": {},
   "outputs": [
    {
     "data": {
      "text/html": [
       "<div>\n",
       "<style scoped>\n",
       "    .dataframe tbody tr th:only-of-type {\n",
       "        vertical-align: middle;\n",
       "    }\n",
       "\n",
       "    .dataframe tbody tr th {\n",
       "        vertical-align: top;\n",
       "    }\n",
       "\n",
       "    .dataframe thead th {\n",
       "        text-align: right;\n",
       "    }\n",
       "</style>\n",
       "<table border=\"1\" class=\"dataframe\">\n",
       "  <thead>\n",
       "    <tr style=\"text-align: right;\">\n",
       "      <th></th>\n",
       "      <th>Date</th>\n",
       "      <th>Headline</th>\n",
       "    </tr>\n",
       "  </thead>\n",
       "  <tbody>\n",
       "    <tr>\n",
       "      <th>0</th>\n",
       "      <td>2018-04-26T11:31:02+00:00</td>\n",
       "      <td>Square Books Small Profit for First Quarter of...</td>\n",
       "    </tr>\n",
       "    <tr>\n",
       "      <th>1</th>\n",
       "      <td>2018-05-03T15:30:59+00:00</td>\n",
       "      <td>Daily Volatility Decline? Bitcoin Has Seen $1K...</td>\n",
       "    </tr>\n",
       "    <tr>\n",
       "      <th>2</th>\n",
       "      <td>2018-05-03T15:30:59+00:00</td>\n",
       "      <td>Sell In May and Go Away? Not for Bitcoin Bulls</td>\n",
       "    </tr>\n",
       "    <tr>\n",
       "      <th>3</th>\n",
       "      <td>2018-05-02T21:10:20+00:00</td>\n",
       "      <td>Reddit to Relaunch Bitcoin Payments (And Add M...</td>\n",
       "    </tr>\n",
       "    <tr>\n",
       "      <th>4</th>\n",
       "      <td>2018-05-03T18:00:39+00:00</td>\n",
       "      <td>Bitcoin Futures Trading Questioned By Chinese ...</td>\n",
       "    </tr>\n",
       "    <tr>\n",
       "      <th>...</th>\n",
       "      <td>...</td>\n",
       "      <td>...</td>\n",
       "    </tr>\n",
       "    <tr>\n",
       "      <th>16601</th>\n",
       "      <td>\\r\\r\\n  Updated April 9, 2013 2:48 p.m. ET\\r\\r\\n</td>\n",
       "      <td>Tech Entrepreneurs Invest in Trading Platform ...</td>\n",
       "    </tr>\n",
       "    <tr>\n",
       "      <th>16602</th>\n",
       "      <td>\\r\\r\\n  April 4, 2013\\r\\r\\n</td>\n",
       "      <td>Eine Kleine Trauermusik</td>\n",
       "    </tr>\n",
       "    <tr>\n",
       "      <th>16603</th>\n",
       "      <td>\\r\\r\\n  March 29, 2013 11:34 a.m. ET\\r\\r\\n</td>\n",
       "      <td>Cyprus and Cybermoney</td>\n",
       "    </tr>\n",
       "    <tr>\n",
       "      <th>16604</th>\n",
       "      <td>\\r\\r\\n  Updated March 21, 2013 10:02 p.m. ET\\r...</td>\n",
       "      <td>Web Money Gets Laundering Rule</td>\n",
       "    </tr>\n",
       "    <tr>\n",
       "      <th>16605</th>\n",
       "      <td>\\r\\r\\n  February 11, 2012\\r\\r\\n</td>\n",
       "      <td>Time for Cash to Cash Out?</td>\n",
       "    </tr>\n",
       "  </tbody>\n",
       "</table>\n",
       "<p>16606 rows × 2 columns</p>\n",
       "</div>"
      ],
      "text/plain": [
       "                                                    Date  \\\n",
       "0                              2018-04-26T11:31:02+00:00   \n",
       "1                              2018-05-03T15:30:59+00:00   \n",
       "2                              2018-05-03T15:30:59+00:00   \n",
       "3                              2018-05-02T21:10:20+00:00   \n",
       "4                              2018-05-03T18:00:39+00:00   \n",
       "...                                                  ...   \n",
       "16601   \\r\\r\\n  Updated April 9, 2013 2:48 p.m. ET\\r\\r\\n   \n",
       "16602                        \\r\\r\\n  April 4, 2013\\r\\r\\n   \n",
       "16603         \\r\\r\\n  March 29, 2013 11:34 a.m. ET\\r\\r\\n   \n",
       "16604  \\r\\r\\n  Updated March 21, 2013 10:02 p.m. ET\\r...   \n",
       "16605                    \\r\\r\\n  February 11, 2012\\r\\r\\n   \n",
       "\n",
       "                                                Headline  \n",
       "0      Square Books Small Profit for First Quarter of...  \n",
       "1      Daily Volatility Decline? Bitcoin Has Seen $1K...  \n",
       "2         Sell In May and Go Away? Not for Bitcoin Bulls  \n",
       "3      Reddit to Relaunch Bitcoin Payments (And Add M...  \n",
       "4      Bitcoin Futures Trading Questioned By Chinese ...  \n",
       "...                                                  ...  \n",
       "16601  Tech Entrepreneurs Invest in Trading Platform ...  \n",
       "16602                            Eine Kleine Trauermusik  \n",
       "16603                              Cyprus and Cybermoney  \n",
       "16604                    Web Money Gets Laundering Rule   \n",
       "16605                         Time for Cash to Cash Out?  \n",
       "\n",
       "[16606 rows x 2 columns]"
      ]
     },
     "execution_count": 18,
     "metadata": {},
     "output_type": "execute_result"
    }
   ],
   "source": [
    "df_small = pd.read_csv(f'{folder}/small_news.csv')\n",
    "del df_small['Unnamed: 0']\n",
    "del df_small['Unnamed: 0.1']\n",
    "df_small"
   ]
  },
  {
   "cell_type": "code",
   "execution_count": 30,
   "id": "cbe6b87a",
   "metadata": {},
   "outputs": [
    {
     "data": {
      "text/html": [
       "<div>\n",
       "<style scoped>\n",
       "    .dataframe tbody tr th:only-of-type {\n",
       "        vertical-align: middle;\n",
       "    }\n",
       "\n",
       "    .dataframe tbody tr th {\n",
       "        vertical-align: top;\n",
       "    }\n",
       "\n",
       "    .dataframe thead th {\n",
       "        text-align: right;\n",
       "    }\n",
       "</style>\n",
       "<table border=\"1\" class=\"dataframe\">\n",
       "  <thead>\n",
       "    <tr style=\"text-align: right;\">\n",
       "      <th></th>\n",
       "      <th>date</th>\n",
       "      <th>time</th>\n",
       "      <th>title</th>\n",
       "    </tr>\n",
       "  </thead>\n",
       "  <tbody>\n",
       "    <tr>\n",
       "      <th>140322</th>\n",
       "      <td>1546214400</td>\n",
       "      <td>15583</td>\n",
       "      <td>IMPORTANT INFORMATION TO KEEP IN MIND WHEN CHO...</td>\n",
       "    </tr>\n",
       "    <tr>\n",
       "      <th>42421</th>\n",
       "      <td>1546214400</td>\n",
       "      <td>69176</td>\n",
       "      <td>Humanity 'Sleepwalking Towards the Edge of a C...</td>\n",
       "    </tr>\n",
       "    <tr>\n",
       "      <th>302926</th>\n",
       "      <td>1546214400</td>\n",
       "      <td>77484</td>\n",
       "      <td>France's Macron pledges more reform medicine i...</td>\n",
       "    </tr>\n",
       "    <tr>\n",
       "      <th>396456</th>\n",
       "      <td>1546214400</td>\n",
       "      <td>9608</td>\n",
       "      <td>India university official urges students to ki...</td>\n",
       "    </tr>\n",
       "    <tr>\n",
       "      <th>261637</th>\n",
       "      <td>1546214400</td>\n",
       "      <td>79763</td>\n",
       "      <td>Republican candidate kept donations despite re...</td>\n",
       "    </tr>\n",
       "    <tr>\n",
       "      <th>...</th>\n",
       "      <td>...</td>\n",
       "      <td>...</td>\n",
       "      <td>...</td>\n",
       "    </tr>\n",
       "    <tr>\n",
       "      <th>2107</th>\n",
       "      <td>1617926400</td>\n",
       "      <td>73591</td>\n",
       "      <td>Are You Confused by Scientific Jargon? So Are ...</td>\n",
       "    </tr>\n",
       "    <tr>\n",
       "      <th>422120</th>\n",
       "      <td>1617926400</td>\n",
       "      <td>50931</td>\n",
       "      <td>Ukraine fears attack as Putin masses tanks clo...</td>\n",
       "    </tr>\n",
       "    <tr>\n",
       "      <th>80331</th>\n",
       "      <td>1617926400</td>\n",
       "      <td>62165</td>\n",
       "      <td>Judge drops corruption charges against Portuga...</td>\n",
       "    </tr>\n",
       "    <tr>\n",
       "      <th>103957</th>\n",
       "      <td>1617926400</td>\n",
       "      <td>50698</td>\n",
       "      <td>You are about to embark on a journey that can ...</td>\n",
       "    </tr>\n",
       "    <tr>\n",
       "      <th>158366</th>\n",
       "      <td>1617926400</td>\n",
       "      <td>40608</td>\n",
       "      <td>Prince Philip has died aged 99, Buckingham Pal...</td>\n",
       "    </tr>\n",
       "  </tbody>\n",
       "</table>\n",
       "<p>550281 rows × 3 columns</p>\n",
       "</div>"
      ],
      "text/plain": [
       "              date   time                                              title\n",
       "140322  1546214400  15583  IMPORTANT INFORMATION TO KEEP IN MIND WHEN CHO...\n",
       "42421   1546214400  69176  Humanity 'Sleepwalking Towards the Edge of a C...\n",
       "302926  1546214400  77484  France's Macron pledges more reform medicine i...\n",
       "396456  1546214400   9608  India university official urges students to ki...\n",
       "261637  1546214400  79763  Republican candidate kept donations despite re...\n",
       "...            ...    ...                                                ...\n",
       "2107    1617926400  73591  Are You Confused by Scientific Jargon? So Are ...\n",
       "422120  1617926400  50931  Ukraine fears attack as Putin masses tanks clo...\n",
       "80331   1617926400  62165  Judge drops corruption charges against Portuga...\n",
       "103957  1617926400  50698  You are about to embark on a journey that can ...\n",
       "158366  1617926400  40608  Prince Philip has died aged 99, Buckingham Pal...\n",
       "\n",
       "[550281 rows x 3 columns]"
      ]
     },
     "execution_count": 30,
     "metadata": {},
     "output_type": "execute_result"
    }
   ],
   "source": [
    "df_small.sort_values(by='date')"
   ]
  },
  {
   "cell_type": "code",
   "execution_count": 17,
   "id": "1dfb4411",
   "metadata": {},
   "outputs": [
    {
     "data": {
      "text/html": [
       "<div>\n",
       "<style scoped>\n",
       "    .dataframe tbody tr th:only-of-type {\n",
       "        vertical-align: middle;\n",
       "    }\n",
       "\n",
       "    .dataframe tbody tr th {\n",
       "        vertical-align: top;\n",
       "    }\n",
       "\n",
       "    .dataframe thead th {\n",
       "        text-align: right;\n",
       "    }\n",
       "</style>\n",
       "<table border=\"1\" class=\"dataframe\">\n",
       "  <thead>\n",
       "    <tr style=\"text-align: right;\">\n",
       "      <th></th>\n",
       "      <th>date</th>\n",
       "      <th>time</th>\n",
       "      <th>title</th>\n",
       "      <th>bitcoin</th>\n",
       "    </tr>\n",
       "  </thead>\n",
       "  <tbody>\n",
       "    <tr>\n",
       "      <th>146</th>\n",
       "      <td>1565049600</td>\n",
       "      <td>47445</td>\n",
       "      <td>China sets its yuan midpoint at stronger than ...</td>\n",
       "      <td>True</td>\n",
       "    </tr>\n",
       "    <tr>\n",
       "      <th>207</th>\n",
       "      <td>1556928000</td>\n",
       "      <td>73414</td>\n",
       "      <td>Chinese banks quietly lower limit on US dollar...</td>\n",
       "      <td>True</td>\n",
       "    </tr>\n",
       "    <tr>\n",
       "      <th>1316</th>\n",
       "      <td>1613952000</td>\n",
       "      <td>21308</td>\n",
       "      <td>Tesla has made about $1 billion in profit on i...</td>\n",
       "      <td>True</td>\n",
       "    </tr>\n",
       "    <tr>\n",
       "      <th>2751</th>\n",
       "      <td>1604102400</td>\n",
       "      <td>79620</td>\n",
       "      <td>$100 dollar oil makes since if you follow basi...</td>\n",
       "      <td>True</td>\n",
       "    </tr>\n",
       "    <tr>\n",
       "      <th>2754</th>\n",
       "      <td>1584748800</td>\n",
       "      <td>49220</td>\n",
       "      <td>Ottawa prepares multibillion-dollar bailout of...</td>\n",
       "      <td>True</td>\n",
       "    </tr>\n",
       "    <tr>\n",
       "      <th>...</th>\n",
       "      <td>...</td>\n",
       "      <td>...</td>\n",
       "      <td>...</td>\n",
       "      <td>...</td>\n",
       "    </tr>\n",
       "    <tr>\n",
       "      <th>541287</th>\n",
       "      <td>1613606400</td>\n",
       "      <td>14108</td>\n",
       "      <td>A mysterious entity bought 20 thousand bitcoin...</td>\n",
       "      <td>True</td>\n",
       "    </tr>\n",
       "    <tr>\n",
       "      <th>548815</th>\n",
       "      <td>1591228800</td>\n",
       "      <td>45148</td>\n",
       "      <td>Carnival slapped with 2nd multimillion-dollar ...</td>\n",
       "      <td>True</td>\n",
       "    </tr>\n",
       "    <tr>\n",
       "      <th>549434</th>\n",
       "      <td>1578268800</td>\n",
       "      <td>71007</td>\n",
       "      <td>Alleged mastermind behind multibillion dollar ...</td>\n",
       "      <td>True</td>\n",
       "    </tr>\n",
       "    <tr>\n",
       "      <th>549617</th>\n",
       "      <td>1569196800</td>\n",
       "      <td>54880</td>\n",
       "      <td>The AK 47 costs 130 dollar at a donkey fair in...</td>\n",
       "      <td>True</td>\n",
       "    </tr>\n",
       "    <tr>\n",
       "      <th>550241</th>\n",
       "      <td>1564963200</td>\n",
       "      <td>8544</td>\n",
       "      <td>China's offshore yuan weakens beyond 7 per dol...</td>\n",
       "      <td>True</td>\n",
       "    </tr>\n",
       "  </tbody>\n",
       "</table>\n",
       "<p>400 rows × 4 columns</p>\n",
       "</div>"
      ],
      "text/plain": [
       "              date   time                                              title  \\\n",
       "146     1565049600  47445  China sets its yuan midpoint at stronger than ...   \n",
       "207     1556928000  73414  Chinese banks quietly lower limit on US dollar...   \n",
       "1316    1613952000  21308  Tesla has made about $1 billion in profit on i...   \n",
       "2751    1604102400  79620  $100 dollar oil makes since if you follow basi...   \n",
       "2754    1584748800  49220  Ottawa prepares multibillion-dollar bailout of...   \n",
       "...            ...    ...                                                ...   \n",
       "541287  1613606400  14108  A mysterious entity bought 20 thousand bitcoin...   \n",
       "548815  1591228800  45148  Carnival slapped with 2nd multimillion-dollar ...   \n",
       "549434  1578268800  71007  Alleged mastermind behind multibillion dollar ...   \n",
       "549617  1569196800  54880  The AK 47 costs 130 dollar at a donkey fair in...   \n",
       "550241  1564963200   8544  China's offshore yuan weakens beyond 7 per dol...   \n",
       "\n",
       "        bitcoin  \n",
       "146        True  \n",
       "207        True  \n",
       "1316       True  \n",
       "2751       True  \n",
       "2754       True  \n",
       "...         ...  \n",
       "541287     True  \n",
       "548815     True  \n",
       "549434     True  \n",
       "549617     True  \n",
       "550241     True  \n",
       "\n",
       "[400 rows x 4 columns]"
      ]
     },
     "execution_count": 17,
     "metadata": {},
     "output_type": "execute_result"
    }
   ],
   "source": [
    "import re\n",
    "def is_btc(cell):\n",
    "    return bool(not re.search(r'[btc|bitcoin]', cell))\n",
    "\n",
    "df_small['bitcoin'] = df_small['title'].apply(lambda x: (bool)(re.search(r'\\bbtc\\b|\\bbitcoin\\b|\\busd\\b|\\bdollar\\b', x)))\n",
    "df_btc = df_small[~(df_small['bitcoin'] == False)]\n",
    "df_btc"
   ]
  },
  {
   "cell_type": "code",
   "execution_count": 13,
   "id": "b8d59108",
   "metadata": {},
   "outputs": [
    {
     "data": {
      "text/plain": [
       "'Tesla has made about $1 billion in profit on its bitcoin investment, analyst estimates'"
      ]
     },
     "execution_count": 13,
     "metadata": {},
     "output_type": "execute_result"
    }
   ],
   "source": [
    "df_btc.loc[1316, 'title']"
   ]
  },
  {
   "cell_type": "code",
   "execution_count": 8,
   "id": "3fd17f68",
   "metadata": {},
   "outputs": [
    {
     "data": {
      "text/plain": [
       "0       1410912000\n",
       "1       1410998400\n",
       "2       1411084800\n",
       "3       1411171200\n",
       "4       1411257600\n",
       "           ...    \n",
       "2395    1617926400\n",
       "2396    1618012800\n",
       "2397    1618099200\n",
       "2398    1618185600\n",
       "2399    1618272000\n",
       "Name: timestamp, Length: 2400, dtype: int64"
      ]
     },
     "execution_count": 8,
     "metadata": {},
     "output_type": "execute_result"
    }
   ],
   "source": [
    "df_btc = pd.read_csv(f'{folder}/bts_price_changes.csv')\n",
    "df_btc.timestamp"
   ]
  },
  {
   "cell_type": "code",
   "execution_count": 29,
   "id": "bb4dd40e",
   "metadata": {},
   "outputs": [
    {
     "data": {
      "text/html": [
       "<div>\n",
       "<style scoped>\n",
       "    .dataframe tbody tr th:only-of-type {\n",
       "        vertical-align: middle;\n",
       "    }\n",
       "\n",
       "    .dataframe tbody tr th {\n",
       "        vertical-align: top;\n",
       "    }\n",
       "\n",
       "    .dataframe thead th {\n",
       "        text-align: right;\n",
       "    }\n",
       "</style>\n",
       "<table border=\"1\" class=\"dataframe\">\n",
       "  <thead>\n",
       "    <tr style=\"text-align: right;\">\n",
       "      <th></th>\n",
       "      <th>date</th>\n",
       "      <th>time</th>\n",
       "      <th>title</th>\n",
       "    </tr>\n",
       "  </thead>\n",
       "  <tbody>\n",
       "  </tbody>\n",
       "</table>\n",
       "</div>"
      ],
      "text/plain": [
       "Empty DataFrame\n",
       "Columns: [date, time, title]\n",
       "Index: []"
      ]
     },
     "execution_count": 29,
     "metadata": {},
     "output_type": "execute_result"
    }
   ],
   "source": [
    "df_union = pd.DataFrame()\n",
    "df_union = df_small.loc[df_small['date'] == 1411171200]\n",
    "df_union"
   ]
  },
  {
   "cell_type": "code",
   "execution_count": null,
   "id": "65dc7f77",
   "metadata": {},
   "outputs": [],
   "source": [
    "tokenized = df_small['title'].apply((lambda x: tokenizer.encode(x, add_special_tokens=True)))\n",
    "tokenized"
   ]
  },
  {
   "cell_type": "code",
   "execution_count": null,
   "id": "3aae1423",
   "metadata": {},
   "outputs": [],
   "source": [
    "def token_lenght(cell, max):\n",
    "    if (len(cell) <= max):\n",
    "        return cell\n",
    "\n",
    "max = 30\n",
    "tokens = pd.DataFrame()\n",
    "tokens['raw'] = tokenized.apply(lambda x: x if len(x) > max)\n",
    "tokens = tokens.dropna()\n",
    "#tokens = tokenized.apply(token_lenght, max=30)\n",
    "\n",
    "tokens"
   ]
  },
  {
   "cell_type": "code",
   "execution_count": null,
   "id": "7816d9c0",
   "metadata": {},
   "outputs": [],
   "source": [
    "max_len = 0\n",
    "for i in tokens['raw']:\n",
    "    if len(i) > max_len:\n",
    "        max_len = len(i)\n",
    "print(max_len)"
   ]
  },
  {
   "cell_type": "code",
   "execution_count": null,
   "id": "72971072",
   "metadata": {},
   "outputs": [],
   "source": [
    "padded = np.array([i + [0]*(max_len-len(i)) for i in tokens['raw']])"
   ]
  },
  {
   "cell_type": "code",
   "execution_count": null,
   "id": "e0cefb5c",
   "metadata": {},
   "outputs": [],
   "source": [
    "df_padded = pd.DataFrame(padded)\n",
    "df_padded"
   ]
  },
  {
   "cell_type": "code",
   "execution_count": null,
   "id": "9c029ec7",
   "metadata": {},
   "outputs": [],
   "source": [
    "df_union = df_small.merge(df_padded, left_index=True, right_index=True, how='inner')\n",
    "df_union"
   ]
  },
  {
   "cell_type": "code",
   "execution_count": null,
   "id": "287b55cc",
   "metadata": {},
   "outputs": [],
   "source": [
    "df_union.to_csv(f'{folder}/date_time_tokens_array_short.csv')"
   ]
  },
  {
   "cell_type": "code",
   "execution_count": null,
   "id": "84f66472",
   "metadata": {},
   "outputs": [],
   "source": [
    "tokens_padded = df_union.iloc[:, 4:]\n",
    "tokens_padded.to_csv(f'{folder}/tokens_padded.csv')\n",
    "tokens_padded"
   ]
  },
  {
   "cell_type": "code",
   "execution_count": null,
   "id": "29187e29",
   "metadata": {},
   "outputs": [],
   "source": [
    "date_time_title_short = df_union.iloc[:, 1:4]\n",
    "date_time_title_short.to_csv(f'{folder}/date_time_title_short.csv')"
   ]
  }
 ],
 "metadata": {
  "kernelspec": {
   "display_name": "ml",
   "language": "python",
   "name": "ml"
  },
  "language_info": {
   "codemirror_mode": {
    "name": "ipython",
    "version": 3
   },
   "file_extension": ".py",
   "mimetype": "text/x-python",
   "name": "python",
   "nbconvert_exporter": "python",
   "pygments_lexer": "ipython3",
   "version": "3.8.9"
  }
 },
 "nbformat": 4,
 "nbformat_minor": 5
}
