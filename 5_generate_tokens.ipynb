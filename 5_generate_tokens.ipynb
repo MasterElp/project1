{
 "cells": [
  {
   "cell_type": "code",
   "execution_count": null,
   "id": "8a4f4ffa",
   "metadata": {},
   "outputs": [],
   "source": [
    "import torch\n",
    "import pandas as pd\n",
    "import numpy as np\n",
    "import pytorch_transformers\n",
    "\n",
    "folder = 'd:\\git\\project1\\generated'"
   ]
  },
  {
   "cell_type": "code",
   "execution_count": null,
   "id": "8c21d7a8",
   "metadata": {},
   "outputs": [],
   "source": [
    "model_class = pytorch_transformers.BertModel\n",
    "tokenizer_class = pytorch_transformers.BertTokenizer\n",
    "pretrained_weights = 'bert-base-uncased'\n",
    "\n",
    "tokenizer = tokenizer_class.from_pretrained(pretrained_weights)\n",
    "model = model_class.from_pretrained(pretrained_weights)"
   ]
  },
  {
   "cell_type": "code",
   "execution_count": null,
   "id": "748862f0",
   "metadata": {},
   "outputs": [],
   "source": [
    "df_small = pd.read_csv('/content/small_news.csv')\n",
    "del df_small['Unnamed: 0']\n",
    "del df_small['Unnamed: 0.1']\n",
    "df_small"
   ]
  },
  {
   "cell_type": "code",
   "execution_count": null,
   "id": "65dc7f77",
   "metadata": {},
   "outputs": [],
   "source": [
    "tokenized = df_small['title'].apply((lambda x: tokenizer.encode(x, add_special_tokens=True)))\n",
    "tokenized"
   ]
  },
  {
   "cell_type": "code",
   "execution_count": null,
   "id": "3aae1423",
   "metadata": {},
   "outputs": [],
   "source": [
    "def token_lenght(cell, max):\n",
    "    if (len(cell) <= max):\n",
    "        return cell\n",
    "\n",
    "max = 30\n",
    "tokens = pd.DataFrame()\n",
    "tokens['raw'] = tokenized.apply(lambda x: x if len(x) > max)\n",
    "tokens = tokens.dropna()\n",
    "#tokens = tokenized.apply(token_lenght, max=30)\n",
    "\n",
    "tokens"
   ]
  },
  {
   "cell_type": "code",
   "execution_count": null,
   "id": "7816d9c0",
   "metadata": {},
   "outputs": [],
   "source": [
    "max_len = 0\n",
    "for i in tokens['raw']:\n",
    "    if len(i) > max_len:\n",
    "        max_len = len(i)\n",
    "print(max_len)"
   ]
  },
  {
   "cell_type": "code",
   "execution_count": null,
   "id": "72971072",
   "metadata": {},
   "outputs": [],
   "source": [
    "padded = np.array([i + [0]*(max_len-len(i)) for i in tokens['raw']])"
   ]
  },
  {
   "cell_type": "code",
   "execution_count": null,
   "id": "e0cefb5c",
   "metadata": {},
   "outputs": [],
   "source": [
    "df_padded = pd.DataFrame(padded)\n",
    "df_padded"
   ]
  },
  {
   "cell_type": "code",
   "execution_count": null,
   "id": "9c029ec7",
   "metadata": {},
   "outputs": [],
   "source": [
    "df_union = df_small.merge(df_padded, left_index=True, right_index=True, how='inner')\n",
    "df_union"
   ]
  },
  {
   "cell_type": "code",
   "execution_count": null,
   "id": "287b55cc",
   "metadata": {},
   "outputs": [],
   "source": [
    "df_union.to_csv(f'{folder}/date_time_tokens_array_short.csv')"
   ]
  },
  {
   "cell_type": "code",
   "execution_count": null,
   "id": "84f66472",
   "metadata": {},
   "outputs": [],
   "source": [
    "tokens_padded = df_union.iloc[:, 4:]\n",
    "tokens_padded.to_csv(f'{folder}/tokens_padded.csv')\n",
    "tokens_padded"
   ]
  },
  {
   "cell_type": "code",
   "execution_count": null,
   "id": "29187e29",
   "metadata": {},
   "outputs": [],
   "source": [
    "date_time_title_short = df_union.iloc[:, 1:4]\n",
    "date_time_title_short.to_csv(f'{folder}/date_time_title_short.csv')"
   ]
  }
 ],
 "metadata": {
  "kernelspec": {
   "display_name": "ml",
   "language": "python",
   "name": "ml"
  },
  "language_info": {
   "codemirror_mode": {
    "name": "ipython",
    "version": 3
   },
   "file_extension": ".py",
   "mimetype": "text/x-python",
   "name": "python",
   "nbconvert_exporter": "python",
   "pygments_lexer": "ipython3",
   "version": "3.8.9"
  }
 },
 "nbformat": 4,
 "nbformat_minor": 5
}
