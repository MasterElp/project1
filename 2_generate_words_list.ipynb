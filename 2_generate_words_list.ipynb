{
 "cells": [
  {
   "cell_type": "code",
   "execution_count": null,
   "id": "b647a138",
   "metadata": {},
   "outputs": [],
   "source": [
    "#nltk.download('stopwords')\n",
    "\n",
    "import nltk\n",
    "from nltk.corpus import stopwords\n",
    "from sklearn.metrics import mean_squared_error\n",
    "import re\n",
    "from nltk.corpus import stopwords\n",
    "import pymorphy2\n",
    "import pandas as pd\n",
    "\n",
    "def review_to_wordlist(review):\n",
    "    review_text = re.sub(\"[^а-яА-Яa-zA-Z]\",\" \", review)\n",
    "    words = review_text.lower().split()\n",
    "    words = [w for w in words if not w in stops]\n",
    "    words = [morph.parse(w)[0].normal_form for w in words ]\n",
    "    return(words)\n",
    "\n",
    "morph = pymorphy2.MorphAnalyzer()\n",
    "stops = set(stopwords.words('english'))\n",
    "\n",
    "df = pd.read_csv(\"/content/datetime_news.csv\")\n",
    "df"
   ]
  },
  {
   "cell_type": "code",
   "execution_count": null,
   "id": "45d39dba",
   "metadata": {},
   "outputs": [],
   "source": [
    "%%time\n",
    "df['title'] = df['title'].apply(review_to_wordlist)"
   ]
  },
  {
   "cell_type": "code",
   "execution_count": null,
   "id": "939edc6d",
   "metadata": {},
   "outputs": [],
   "source": [
    "df.to_csv(\"/content/date_time_words.csv\")"
   ]
  }
 ],
 "metadata": {
  "kernelspec": {
   "display_name": "ml",
   "language": "python",
   "name": "ml"
  },
  "language_info": {
   "codemirror_mode": {
    "name": "ipython",
    "version": 3
   },
   "file_extension": ".py",
   "mimetype": "text/x-python",
   "name": "python",
   "nbconvert_exporter": "python",
   "pygments_lexer": "ipython3",
   "version": "3.8.9"
  }
 },
 "nbformat": 4,
 "nbformat_minor": 5
}
